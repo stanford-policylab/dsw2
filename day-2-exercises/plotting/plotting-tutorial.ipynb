{
 "cells": [
  {
   "cell_type": "markdown",
   "metadata": {},
   "source": [
    "# Learning how to plot in `R`"
   ]
  },
  {
   "cell_type": "code",
   "execution_count": 3,
   "metadata": {},
   "outputs": [],
   "source": [
    "# Basic set up\n",
    "library(ggplot2)\n",
    "library(dplyr)\n",
    "library(magrittr)\n",
    "library(lubridate)\n",
    "\n",
    "options(digits = 3) # Rounds things to 3 decimal points\n",
    "options(scipen = 999) # Turns off scientific notation like 1e+3\n",
    "theme_set(theme_bw()) # Makes all plot have a nice black and white theme\n",
    "\n",
    "# Load in some data!\n",
    "stops <- read_rds(\"san_francisco_stop_data.rds\") %>% mutate(yr = year(date))"
   ]
  },
  {
   "cell_type": "markdown",
   "metadata": {},
   "source": [
    "## Step 1: Your data\n",
    "Let's count number of stops per year (like yesterday!), and use that to make our first plot."
   ]
  },
  {
   "cell_type": "code",
   "execution_count": null,
   "metadata": {},
   "outputs": [],
   "source": [
    "stops_by_yr <- stops %>% count(yr)\n",
    "\n",
    "stops_by_yr"
   ]
  },
  {
   "cell_type": "markdown",
   "metadata": {},
   "source": [
    "## Step 2: Setting up the axes\n",
    "\n",
    "Todo this, we need to designate our x and y axes!"
   ]
  },
  {
   "cell_type": "code",
   "execution_count": null,
   "metadata": {},
   "outputs": [],
   "source": [
    "ggplot(stops_by_yr, aes(x = yr, y = n))"
   ]
  },
  {
   "cell_type": "markdown",
   "metadata": {},
   "source": [
    "## Step 3: putting in lines"
   ]
  },
  {
   "cell_type": "code",
   "execution_count": null,
   "metadata": {},
   "outputs": [],
   "source": [
    "ggplot(stops_by_yr, aes(x = yr, y = n)) +\n",
    "    geom_line()"
   ]
  },
  {
   "cell_type": "markdown",
   "metadata": {},
   "source": [
    "## Step 4: Putting in points"
   ]
  },
  {
   "cell_type": "code",
   "execution_count": null,
   "metadata": {},
   "outputs": [],
   "source": [
    "ggplot(stops_by_yr, aes(x = yr, y = n)) +\n",
    "    geom_line() +\n",
    "    geom_point()"
   ]
  },
  {
   "cell_type": "markdown",
   "metadata": {},
   "source": [
    "## Step 5: Adding labels"
   ]
  },
  {
   "cell_type": "code",
   "execution_count": null,
   "metadata": {},
   "outputs": [],
   "source": [
    "ggplot(stops_by_yr, aes(x = yr, y = n)) +\n",
    "    geom_line() +\n",
    "    geom_point() +\n",
    "    labs(\n",
    "        x = \"Year\",\n",
    "        y = \"Number of Stops\",\n",
    "        title = \"Traffic Stops in San Francisco\"\n",
    "    )"
   ]
  },
  {
   "cell_type": "markdown",
   "metadata": {},
   "source": [
    "## Making bar charts"
   ]
  },
  {
   "cell_type": "code",
   "execution_count": null,
   "metadata": {},
   "outputs": [],
   "source": [
    "ggplot(stops_by_year, aes(x = yr, y = n)) +\n",
    "    geom_col()"
   ]
  },
  {
   "cell_type": "markdown",
   "metadata": {},
   "source": [
    "## Making histograms"
   ]
  },
  {
   "cell_type": "code",
   "execution_count": null,
   "metadata": {},
   "outputs": [],
   "source": [
    "# Try changing the number after \"bins\"!\n",
    "ggplot(data = stops, aes(x = date)) +\n",
    "    geom_histogram(bins = 500)"
   ]
  },
  {
   "cell_type": "markdown",
   "metadata": {},
   "source": [
    "## Adding color"
   ]
  },
  {
   "cell_type": "code",
   "execution_count": null,
   "metadata": {},
   "outputs": [],
   "source": [
    "ggplot(data = stops, aes(x = date, fill = gender)) +\n",
    "    geom_histogram(bins = 500)"
   ]
  },
  {
   "cell_type": "code",
   "execution_count": null,
   "metadata": {},
   "outputs": [],
   "source": [
    "# Why doesn't this work?????\n",
    "ggplot(data = stops_by_yr, aes(x = yr, y = n, color = gender)) +\n",
    "    geom_line() +\n",
    "    geom_point() "
   ]
  },
  {
   "cell_type": "code",
   "execution_count": null,
   "metadata": {},
   "outputs": [],
   "source": [
    "# Oh right... stops_by_yr doesn't have any column called \"gender\"\n",
    "stops_by_yr"
   ]
  },
  {
   "cell_type": "code",
   "execution_count": null,
   "metadata": {},
   "outputs": [],
   "source": [
    "# Let's make a new table counting by year AND gender\n",
    "\n",
    "# OUR CODE GOES HERE\n",
    "\n",
    "stops_by_yr_and_gender "
   ]
  },
  {
   "cell_type": "code",
   "execution_count": null,
   "metadata": {},
   "outputs": [],
   "source": [
    "ggplot(data = stops_by_yr_and_gender, aes(x = yr, y = n, color = gender)) +\n",
    "    geom_line() +\n",
    "    geom_point() "
   ]
  },
  {
   "cell_type": "markdown",
   "metadata": {},
   "source": [
    "## Making interactive plots (woah!)"
   ]
  },
  {
   "cell_type": "code",
   "execution_count": null,
   "metadata": {},
   "outputs": [],
   "source": [
    "library(plotly)"
   ]
  },
  {
   "cell_type": "code",
   "execution_count": null,
   "metadata": {},
   "outputs": [],
   "source": [
    "# First just save your plot to a variable\n",
    "p <- stops %>%\n",
    "    ggplot(aes(x = date, fill = gender)) +\n",
    "    geom_histogram(bins = 500)\n",
    "\n",
    "# Then put that plot variable into the function `ggplotly()`\n",
    "ggplotly(p)"
   ]
  },
  {
   "cell_type": "markdown",
   "metadata": {},
   "source": [
    "## How do I learn all of these `geoms` and such??\n",
    "\n",
    "There's a really great [helper's guide](https://www.rstudio.com/wp-content/uploads/2015/03/ggplot2-cheatsheet.pdf) to ggplot2. Check it out!"
   ]
  },
  {
   "cell_type": "code",
   "execution_count": null,
   "metadata": {},
   "outputs": [],
   "source": []
  }
 ],
 "metadata": {
  "kernelspec": {
   "display_name": "R",
   "language": "R",
   "name": "ir"
  },
  "language_info": {
   "codemirror_mode": "r",
   "file_extension": ".r",
   "mimetype": "text/x-r-source",
   "name": "R",
   "pygments_lexer": "r",
   "version": "3.4.4"
  }
 },
 "nbformat": 4,
 "nbformat_minor": 2
}
