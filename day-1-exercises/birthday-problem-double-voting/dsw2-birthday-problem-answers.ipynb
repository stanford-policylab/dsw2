{
 "cells": [
  {
   "cell_type": "markdown",
   "metadata": {},
   "source": [
    "# Double voting and the birthday problem"
   ]
  },
  {
   "cell_type": "markdown",
   "metadata": {},
   "source": [
    "<img src=\"voting.jpg\" alt=\"voting\" width=\"400\" align=\"left\"/>"
   ]
  },
  {
   "cell_type": "markdown",
   "metadata": {},
   "source": [
    "## Introduction"
   ]
  },
  {
   "cell_type": "markdown",
   "metadata": {},
   "source": [
    "Claims of voter fraud are widespread. Here's one example:"
   ]
  },
  {
   "cell_type": "markdown",
   "metadata": {},
   "source": [
    "> **“Probably over a million people voted twice \n",
    "in [the 2012 presidential] election.”**\n",
    ">\n",
    "> Dick Morris, in 2014 on Fox News"
   ]
  },
  {
   "cell_type": "markdown",
   "metadata": {},
   "source": [
    "Voter fraud can take place in a number of ways, including tampering with voting machines, destroying ballots, and impersonating voters. Today, though, we're going to explore \n",
    "**double voting**, which occurs when a single person illegally casts more than one vote in an election.\n",
    "\n",
    "To start, consider this fact:\n",
    "\n",
    "> In the 2012 election, there were 141 individuals named \"John Smith\" who were born in 1970, and 27 pairs had exactly the same birthday.\n",
    "\n",
    "Were there 27 fraduluent ballots in the 2012 election? Let's find out."
   ]
  },
  {
   "cell_type": "markdown",
   "metadata": {},
   "source": [
    "## The birthday problem"
   ]
  },
  {
   "cell_type": "markdown",
   "metadata": {},
   "source": [
    "<img src=\"birthday.jpg\" alt=\"voting\" width=\"200\" align=\"left\"/>"
   ]
  },
  {
   "cell_type": "markdown",
   "metadata": {},
   "source": [
    "To begin answering this question, let's solve a similar problem: \n",
    "\n",
    "> In a room of 30 people, how likely is it that two people share exactly the same birthday? \n",
    ">\n",
    "> You can assume that every person in the room was born in the same year."
   ]
  },
  {
   "cell_type": "markdown",
   "metadata": {},
   "source": [
    "To answer this question, we could use the following **algorithm**, or list of steps needed to solve a problem:\n",
    " > 1. We need a room of 30 people, and we need to know their birthdays.\n",
    " > 2. We need to check whether two people in that room share a birthday.\n",
    " > 3. We need to repeat steps 1 and 2 over and over.\n",
    " > 4. We need to figure out how often two or more people shared a birthday."
   ]
  },
  {
   "cell_type": "markdown",
   "metadata": {},
   "source": [
    "Unfortunately, we don't have the time (or money!) to recruit a couple thousand experimental subjects to come to Stanford, sit in a big room with 29 other people, and tell us their birthdays.\n",
    "\n",
    "Instead, we must create a **simulation**, or a computer model that helps us recreate and study real-life phenomena. "
   ]
  },
  {
   "cell_type": "markdown",
   "metadata": {},
   "source": [
    "## The `sample` command"
   ]
  },
  {
   "cell_type": "markdown",
   "metadata": {},
   "source": [
    "Here's the first step of our algorithm:\n",
    "\n",
    "> We need a room of 30 people, and we need to know their birthdays.\n",
    "\n",
    "How can we simulate 30 people using `R`, a statistical programming language?\n",
    "\n",
    "### Exercise 1\n",
    "\n",
    "**A. Think about the output of the cells below, then discuss with your partner what you think `sample` does.**\n",
    "\n",
    "(Hint: Try re-running the code in each cell a couple times by pressing SHIFT + ENTER, and see what happens!)"
   ]
  },
  {
   "cell_type": "code",
   "execution_count": 107,
   "metadata": {},
   "outputs": [
    {
     "data": {
      "text/html": [
       "<ol class=list-inline>\n",
       "\t<li>4</li>\n",
       "\t<li>1</li>\n",
       "\t<li>7</li>\n",
       "\t<li>5</li>\n",
       "\t<li>2</li>\n",
       "</ol>\n"
      ],
      "text/latex": [
       "\\begin{enumerate*}\n",
       "\\item 4\n",
       "\\item 1\n",
       "\\item 7\n",
       "\\item 5\n",
       "\\item 2\n",
       "\\end{enumerate*}\n"
      ],
      "text/markdown": [
       "1. 4\n",
       "2. 1\n",
       "3. 7\n",
       "4. 5\n",
       "5. 2\n",
       "\n",
       "\n"
      ],
      "text/plain": [
       "[1] 4 1 7 5 2"
      ]
     },
     "metadata": {},
     "output_type": "display_data"
    }
   ],
   "source": [
    "sample(1:10, 5, replace = FALSE)"
   ]
  },
  {
   "cell_type": "code",
   "execution_count": 108,
   "metadata": {},
   "outputs": [
    {
     "data": {
      "text/html": [
       "<ol class=list-inline>\n",
       "\t<li>3</li>\n",
       "\t<li>2</li>\n",
       "\t<li>1</li>\n",
       "\t<li>2</li>\n",
       "\t<li>1</li>\n",
       "</ol>\n"
      ],
      "text/latex": [
       "\\begin{enumerate*}\n",
       "\\item 3\n",
       "\\item 2\n",
       "\\item 1\n",
       "\\item 2\n",
       "\\item 1\n",
       "\\end{enumerate*}\n"
      ],
      "text/markdown": [
       "1. 3\n",
       "2. 2\n",
       "3. 1\n",
       "4. 2\n",
       "5. 1\n",
       "\n",
       "\n"
      ],
      "text/plain": [
       "[1] 3 2 1 2 1"
      ]
     },
     "metadata": {},
     "output_type": "display_data"
    }
   ],
   "source": [
    "sample(1:3, 5, replace = TRUE)"
   ]
  },
  {
   "cell_type": "code",
   "execution_count": 109,
   "metadata": {},
   "outputs": [
    {
     "data": {
      "text/html": [
       "<ol class=list-inline>\n",
       "\t<li>7</li>\n",
       "\t<li>18</li>\n",
       "\t<li>7</li>\n",
       "</ol>\n"
      ],
      "text/latex": [
       "\\begin{enumerate*}\n",
       "\\item 7\n",
       "\\item 18\n",
       "\\item 7\n",
       "\\end{enumerate*}\n"
      ],
      "text/markdown": [
       "1. 7\n",
       "2. 18\n",
       "3. 7\n",
       "\n",
       "\n"
      ],
      "text/plain": [
       "[1]  7 18  7"
      ]
     },
     "metadata": {},
     "output_type": "display_data"
    }
   ],
   "source": [
    "sample(1:20, 3, replace = TRUE)"
   ]
  },
  {
   "cell_type": "code",
   "execution_count": 13,
   "metadata": {},
   "outputs": [],
   "source": [
    "# Feel free to test more sample commands here.\n",
    "\n"
   ]
  },
  {
   "cell_type": "markdown",
   "metadata": {},
   "source": [
    "---\n",
    "\n",
    "**Tip: To edit text, double click on it!**\n",
    "\n",
    "Ideas about what `sample` does:\n",
    "- Idea 1\n",
    "- Idea 2\n",
    "- ...\n",
    "\n",
    "---"
   ]
  },
  {
   "cell_type": "markdown",
   "metadata": {},
   "source": [
    "**B. Using `sample`, simulate a list of 30 birthdays.**\n",
    "\n",
    "(Hint: Think about assigning a number to each day in the year.)"
   ]
  },
  {
   "cell_type": "code",
   "execution_count": 15,
   "metadata": {},
   "outputs": [
    {
     "data": {
      "text/html": [
       "<ol class=list-inline>\n",
       "\t<li>5</li>\n",
       "\t<li>42</li>\n",
       "\t<li>190</li>\n",
       "\t<li>282</li>\n",
       "\t<li>109</li>\n",
       "\t<li>101</li>\n",
       "\t<li>266</li>\n",
       "\t<li>50</li>\n",
       "\t<li>13</li>\n",
       "\t<li>149</li>\n",
       "\t<li>164</li>\n",
       "\t<li>263</li>\n",
       "\t<li>288</li>\n",
       "\t<li>248</li>\n",
       "\t<li>255</li>\n",
       "\t<li>59</li>\n",
       "\t<li>323</li>\n",
       "\t<li>39</li>\n",
       "\t<li>268</li>\n",
       "\t<li>126</li>\n",
       "\t<li>85</li>\n",
       "\t<li>33</li>\n",
       "\t<li>49</li>\n",
       "\t<li>154</li>\n",
       "\t<li>352</li>\n",
       "\t<li>298</li>\n",
       "\t<li>111</li>\n",
       "\t<li>139</li>\n",
       "\t<li>300</li>\n",
       "\t<li>31</li>\n",
       "</ol>\n"
      ],
      "text/latex": [
       "\\begin{enumerate*}\n",
       "\\item 5\n",
       "\\item 42\n",
       "\\item 190\n",
       "\\item 282\n",
       "\\item 109\n",
       "\\item 101\n",
       "\\item 266\n",
       "\\item 50\n",
       "\\item 13\n",
       "\\item 149\n",
       "\\item 164\n",
       "\\item 263\n",
       "\\item 288\n",
       "\\item 248\n",
       "\\item 255\n",
       "\\item 59\n",
       "\\item 323\n",
       "\\item 39\n",
       "\\item 268\n",
       "\\item 126\n",
       "\\item 85\n",
       "\\item 33\n",
       "\\item 49\n",
       "\\item 154\n",
       "\\item 352\n",
       "\\item 298\n",
       "\\item 111\n",
       "\\item 139\n",
       "\\item 300\n",
       "\\item 31\n",
       "\\end{enumerate*}\n"
      ],
      "text/markdown": [
       "1. 5\n",
       "2. 42\n",
       "3. 190\n",
       "4. 282\n",
       "5. 109\n",
       "6. 101\n",
       "7. 266\n",
       "8. 50\n",
       "9. 13\n",
       "10. 149\n",
       "11. 164\n",
       "12. 263\n",
       "13. 288\n",
       "14. 248\n",
       "15. 255\n",
       "16. 59\n",
       "17. 323\n",
       "18. 39\n",
       "19. 268\n",
       "20. 126\n",
       "21. 85\n",
       "22. 33\n",
       "23. 49\n",
       "24. 154\n",
       "25. 352\n",
       "26. 298\n",
       "27. 111\n",
       "28. 139\n",
       "29. 300\n",
       "30. 31\n",
       "\n",
       "\n"
      ],
      "text/plain": [
       " [1]   5  42 190 282 109 101 266  50  13 149 164 263 288 248 255  59 323  39 268\n",
       "[20] 126  85  33  49 154 352 298 111 139 300  31"
      ]
     },
     "metadata": {},
     "output_type": "display_data"
    }
   ],
   "source": [
    "# Your code goes here!\n",
    "\n",
    "# START\n",
    "sample(1:366, 30, replace = TRUE)\n",
    "# END"
   ]
  },
  {
   "cell_type": "markdown",
   "metadata": {},
   "source": [
    "### Finding duplicates"
   ]
  },
  {
   "cell_type": "markdown",
   "metadata": {},
   "source": [
    "Here's the second step of our algorithm:\n",
    "\n",
    "> We need to check whether two people in the room share a birthday.\n",
    "\n",
    "In this exercise, we will learn about two useful tools for finding duplicates."
   ]
  },
  {
   "cell_type": "markdown",
   "metadata": {},
   "source": [
    "### Exercise 2\n",
    "\n",
    "**A. Think about the output of the cells below, then discuss with your partner what you think `has_duplicate` does.**"
   ]
  },
  {
   "cell_type": "code",
   "execution_count": 2,
   "metadata": {},
   "outputs": [],
   "source": [
    "# Press SHIFT + ENTER to run this cell\n",
    "# Don't worry about what it's doing for now!\n",
    "\n",
    "source(\"duplicate.R\")"
   ]
  },
  {
   "cell_type": "markdown",
   "metadata": {},
   "source": [
    "---\n",
    "<br>"
   ]
  },
  {
   "cell_type": "code",
   "execution_count": 2,
   "metadata": {},
   "outputs": [],
   "source": [
    "list_a <- sample(1:3, 5, replace = TRUE)"
   ]
  },
  {
   "cell_type": "code",
   "execution_count": 3,
   "metadata": {},
   "outputs": [
    {
     "name": "stdout",
     "output_type": "stream",
     "text": [
      "[1] 2 3 2 1 2\n"
     ]
    }
   ],
   "source": [
    "print(list_a)"
   ]
  },
  {
   "cell_type": "code",
   "execution_count": 6,
   "metadata": {},
   "outputs": [
    {
     "data": {
      "text/html": [
       "TRUE"
      ],
      "text/latex": [
       "TRUE"
      ],
      "text/markdown": [
       "TRUE"
      ],
      "text/plain": [
       "[1] TRUE"
      ]
     },
     "metadata": {},
     "output_type": "display_data"
    }
   ],
   "source": [
    "has_duplicate(list_a)"
   ]
  },
  {
   "cell_type": "markdown",
   "metadata": {},
   "source": [
    "---\n",
    "<br>"
   ]
  },
  {
   "cell_type": "code",
   "execution_count": 7,
   "metadata": {},
   "outputs": [],
   "source": [
    "list_b <- sample(1:10, 5, replace = FALSE)"
   ]
  },
  {
   "cell_type": "code",
   "execution_count": 8,
   "metadata": {},
   "outputs": [
    {
     "name": "stdout",
     "output_type": "stream",
     "text": [
      "[1]  5  7  8  1 10\n"
     ]
    }
   ],
   "source": [
    "print(list_b)"
   ]
  },
  {
   "cell_type": "code",
   "execution_count": 9,
   "metadata": {},
   "outputs": [
    {
     "data": {
      "text/html": [
       "FALSE"
      ],
      "text/latex": [
       "FALSE"
      ],
      "text/markdown": [
       "FALSE"
      ],
      "text/plain": [
       "[1] FALSE"
      ]
     },
     "metadata": {},
     "output_type": "display_data"
    }
   ],
   "source": [
    "has_duplicate(list_b)"
   ]
  },
  {
   "cell_type": "markdown",
   "metadata": {},
   "source": [
    "---\n",
    "<br>"
   ]
  },
  {
   "cell_type": "code",
   "execution_count": 10,
   "metadata": {},
   "outputs": [],
   "source": [
    "list_c <- sample(1:5, 10, replace = TRUE)"
   ]
  },
  {
   "cell_type": "code",
   "execution_count": 11,
   "metadata": {},
   "outputs": [
    {
     "name": "stdout",
     "output_type": "stream",
     "text": [
      " [1] 5 3 3 4 5 5 2 3 4 2\n"
     ]
    }
   ],
   "source": [
    "print(list_c)"
   ]
  },
  {
   "cell_type": "code",
   "execution_count": 12,
   "metadata": {},
   "outputs": [
    {
     "data": {
      "text/html": [
       "TRUE"
      ],
      "text/latex": [
       "TRUE"
      ],
      "text/markdown": [
       "TRUE"
      ],
      "text/plain": [
       "[1] TRUE"
      ]
     },
     "metadata": {},
     "output_type": "display_data"
    }
   ],
   "source": [
    "has_duplicate(list_c)"
   ]
  },
  {
   "cell_type": "markdown",
   "metadata": {},
   "source": [
    "---"
   ]
  },
  {
   "cell_type": "markdown",
   "metadata": {},
   "source": [
    "Ideas about `has_duplicate`:\n",
    "- Idea 1\n",
    "- Idea 2\n",
    "- ...\n",
    "\n",
    "---"
   ]
  },
  {
   "cell_type": "markdown",
   "metadata": {},
   "source": [
    "**B. Generate a list of 30 random birthdays, and determine whether the list has any duplicates. Re-run the code several times to estimate how often the list has duplicates.**"
   ]
  },
  {
   "cell_type": "code",
   "execution_count": 16,
   "metadata": {},
   "outputs": [
    {
     "data": {
      "text/html": [
       "TRUE"
      ],
      "text/latex": [
       "TRUE"
      ],
      "text/markdown": [
       "TRUE"
      ],
      "text/plain": [
       "[1] TRUE"
      ]
     },
     "metadata": {},
     "output_type": "display_data"
    }
   ],
   "source": [
    "# Your code here!\n",
    "\n",
    "# START\n",
    "has_duplicate(sample(1:366, 30, replace = TRUE))\n",
    "# END"
   ]
  },
  {
   "cell_type": "markdown",
   "metadata": {},
   "source": [
    "Observations:\n",
    "- Observation 1\n",
    "- Observation 2\n",
    "- ...\n",
    "\n",
    "---"
   ]
  },
  {
   "cell_type": "markdown",
   "metadata": {},
   "source": [
    "**C. Think about the output of the cells below, then discuss with your partner what you think `num_duplicates` does.**"
   ]
  },
  {
   "cell_type": "code",
   "execution_count": 102,
   "metadata": {},
   "outputs": [
    {
     "name": "stdout",
     "output_type": "stream",
     "text": [
      "[1] 3 2 2 2 1\n"
     ]
    }
   ],
   "source": [
    "print(list_a)"
   ]
  },
  {
   "cell_type": "code",
   "execution_count": 103,
   "metadata": {},
   "outputs": [
    {
     "data": {
      "text/html": [
       "2"
      ],
      "text/latex": [
       "2"
      ],
      "text/markdown": [
       "2"
      ],
      "text/plain": [
       "[1] 2"
      ]
     },
     "metadata": {},
     "output_type": "display_data"
    }
   ],
   "source": [
    "num_duplicates(list_a)"
   ]
  },
  {
   "cell_type": "markdown",
   "metadata": {},
   "source": [
    "---\n",
    "<br>"
   ]
  },
  {
   "cell_type": "code",
   "execution_count": 98,
   "metadata": {},
   "outputs": [
    {
     "name": "stdout",
     "output_type": "stream",
     "text": [
      "[1]  4  5  7 10  3\n"
     ]
    }
   ],
   "source": [
    "print(list_b)"
   ]
  },
  {
   "cell_type": "code",
   "execution_count": 73,
   "metadata": {},
   "outputs": [
    {
     "data": {
      "text/html": [
       "0"
      ],
      "text/latex": [
       "0"
      ],
      "text/markdown": [
       "0"
      ],
      "text/plain": [
       "[1] 0"
      ]
     },
     "metadata": {},
     "output_type": "display_data"
    }
   ],
   "source": [
    "num_duplicates(list_b)"
   ]
  },
  {
   "cell_type": "markdown",
   "metadata": {},
   "source": [
    "---\n",
    "<br>"
   ]
  },
  {
   "cell_type": "code",
   "execution_count": 113,
   "metadata": {},
   "outputs": [
    {
     "name": "stdout",
     "output_type": "stream",
     "text": [
      " [1] 1 2 5 5 4 5 5 1 3 5\n"
     ]
    }
   ],
   "source": [
    "print(list_c)"
   ]
  },
  {
   "cell_type": "code",
   "execution_count": 114,
   "metadata": {},
   "outputs": [
    {
     "data": {
      "text/html": [
       "5"
      ],
      "text/latex": [
       "5"
      ],
      "text/markdown": [
       "5"
      ],
      "text/plain": [
       "[1] 5"
      ]
     },
     "metadata": {},
     "output_type": "display_data"
    }
   ],
   "source": [
    "num_duplicates(list_c)"
   ]
  },
  {
   "cell_type": "markdown",
   "metadata": {},
   "source": [
    "---"
   ]
  },
  {
   "cell_type": "markdown",
   "metadata": {},
   "source": [
    "Ideas about `num_duplicates`:\n",
    "- Idea 1\n",
    "- Idea 2\n",
    "- ..."
   ]
  },
  {
   "cell_type": "markdown",
   "metadata": {},
   "source": [
    "---"
   ]
  },
  {
   "cell_type": "markdown",
   "metadata": {},
   "source": [
    "**D. Think back to the John Smith example:**\n",
    "\n",
    "> In the 2012 election, there were 141 individuals named \"John Smith\" who were born in 1970, and 27 pairs had exactly the same birthday.\n",
    "\n",
    "**Generate a list of 141 birthdays, and determine how many duplicates are in the list. Re-run the code several times and note any observations.**"
   ]
  },
  {
   "cell_type": "code",
   "execution_count": 18,
   "metadata": {},
   "outputs": [
    {
     "data": {
      "text/html": [
       "33"
      ],
      "text/latex": [
       "33"
      ],
      "text/markdown": [
       "33"
      ],
      "text/plain": [
       "[1] 33"
      ]
     },
     "metadata": {},
     "output_type": "display_data"
    }
   ],
   "source": [
    "# Your code here!\n",
    "\n",
    "# START\n",
    "num_duplicates(sample(1:366, 141, replace = TRUE))\n",
    "# END"
   ]
  },
  {
   "cell_type": "markdown",
   "metadata": {},
   "source": [
    "Observations:\n",
    "- Observation 1\n",
    "- Observation 2\n",
    "- ..."
   ]
  },
  {
   "cell_type": "markdown",
   "metadata": {},
   "source": [
    "## Repetition with `for` loops\n",
    "\n",
    "Here's the third step in our algorithm:\n",
    "\n",
    "> We need to repeat this process over and over.\n",
    "\n",
    "The `for` loop lets us do exactly this!\n",
    "\n",
    "### Exercise 3\n",
    "\n",
    "**A. Think about the output of the cells below, then discuss with your partner how you think a `for` loop works.**"
   ]
  },
  {
   "cell_type": "code",
   "execution_count": 25,
   "metadata": {},
   "outputs": [
    {
     "name": "stdout",
     "output_type": "stream",
     "text": [
      "[1] \"Hello, world!\"\n",
      "[1] \"Hello, world!\"\n",
      "[1] \"Hello, world!\"\n",
      "[1] \"Hello, world!\"\n",
      "[1] \"Hello, world!\"\n",
      "[1] \"Hello, world!\"\n",
      "[1] \"Hello, world!\"\n",
      "[1] \"Hello, world!\"\n",
      "[1] \"Hello, world!\"\n",
      "[1] \"Hello, world!\"\n"
     ]
    }
   ],
   "source": [
    "for (i in 1:10) {\n",
    "    print(\"Hello, world!\")\n",
    "}"
   ]
  },
  {
   "cell_type": "code",
   "execution_count": 26,
   "metadata": {},
   "outputs": [
    {
     "name": "stdout",
     "output_type": "stream",
     "text": [
      "[1] 1\n",
      "[1] 2\n",
      "[1] 3\n",
      "[1] 4\n",
      "[1] 5\n"
     ]
    }
   ],
   "source": [
    "for (i in 1:5) {\n",
    "    print(i)\n",
    "}"
   ]
  },
  {
   "cell_type": "code",
   "execution_count": 111,
   "metadata": {},
   "outputs": [
    {
     "name": "stdout",
     "output_type": "stream",
     "text": [
      "[1] 18  9 18 14 15\n",
      "[1]  3 13  2  9  7\n",
      "[1]  8  5  1 15  5\n"
     ]
    }
   ],
   "source": [
    "for (i in 1:3) {\n",
    "    print(sample(1:20, 5, replace = TRUE))\n",
    "}"
   ]
  },
  {
   "cell_type": "markdown",
   "metadata": {},
   "source": [
    "<br>"
   ]
  },
  {
   "cell_type": "markdown",
   "metadata": {},
   "source": [
    "Ideas about `for` loops:\n",
    "- Idea 1\n",
    "- Idea 2\n",
    "- ..."
   ]
  },
  {
   "cell_type": "markdown",
   "metadata": {},
   "source": [
    "---"
   ]
  },
  {
   "cell_type": "markdown",
   "metadata": {},
   "source": [
    "**B. Using a `for` loop, print 10 lists of 30 random birthdays**"
   ]
  },
  {
   "cell_type": "code",
   "execution_count": 19,
   "metadata": {},
   "outputs": [
    {
     "name": "stdout",
     "output_type": "stream",
     "text": [
      " [1]  27 216 261 157 352  33  15 175 335 328 139  75 106  82 331  80 236 123 285\n",
      "[20] 279 216 267 134 344 321 218 288  35 170  81\n",
      " [1]  66 151 152 191  85 241  94 314  59 295 221 194  84 208 192 293 215 203 277\n",
      "[20] 297 355 335 176 267 214  97 207   5 138 351\n",
      " [1] 196 133 355 236 124 193 150  30  18  47  66 183 311  88 313  13 137  10 335\n",
      "[20]  27 339  30 236 132  58 186 195 230 286 146\n",
      " [1] 169 180 131 106 249  11 298 196  91 330 197 253  59 234 353 247  26  10  61\n",
      "[20] 280 157  29 221  25 328 260 218  95 133 153\n",
      " [1] 363 321 128 352  14 339 130 147 125 150 222  46  77  74 314 269 161 299 265\n",
      "[20] 100  42 350 185 218 195 205  32 256 243 219\n",
      " [1] 227 140 334 295 163  12   7   1 187  31 346 336  61 192 218 258 179 324  98\n",
      "[20] 353 104 304  93  81 142 299 131 231  24  37\n",
      " [1] 195 324 361 286  14 187 287  48 356 183 248   1   2 203 265  91 236 322 233\n",
      "[20] 321 233 115  93 259 104 199 240   9 231 275\n",
      " [1]  70 130 236  21 283  17 151 172  47 262  24 194 308  66 110 151 291 162 186\n",
      "[20] 106  89  56  96  95   3 178   8 312 256  13\n",
      " [1] 137 166 335 193 115 325 303 244  20 317 123 234 130 212 176 245 303 187 151\n",
      "[20] 260 268 100 114 235 191 155 132  16 309 342\n",
      " [1]  60 254 169  34 211 109  65 336 183 223 279 115 180  29 102  74 233  65 340\n",
      "[20] 345 149 169 107 176 113 148 106 255 150  36\n"
     ]
    }
   ],
   "source": [
    "# Your code here!\n",
    "\n",
    "# START\n",
    "for (i in 1:10) {\n",
    "    print(sample(1:366, 30, replace = TRUE))\n",
    "}\n",
    "# END"
   ]
  },
  {
   "cell_type": "markdown",
   "metadata": {},
   "source": [
    "---"
   ]
  },
  {
   "cell_type": "markdown",
   "metadata": {},
   "source": [
    "**C. Think about the output of the cell below, and discuss with your partner what you think is going on. You are encouraged to change the numbers and re-run the code a couple times!**"
   ]
  },
  {
   "cell_type": "code",
   "execution_count": 21,
   "metadata": {},
   "outputs": [
    {
     "name": "stdout",
     "output_type": "stream",
     "text": [
      "[1] 1\n",
      "[1] 2\n",
      "[1] 3\n",
      "[1] 4\n",
      "[1] 5\n"
     ]
    }
   ],
   "source": [
    "counter <- 0\n",
    "\n",
    "for (i in 1:5) {\n",
    "    counter <- counter + 1\n",
    "    print(counter)\n",
    "}"
   ]
  },
  {
   "cell_type": "markdown",
   "metadata": {},
   "source": [
    "Ideas:\n",
    "- Idea 1\n",
    "- Idea 2\n",
    "- ..."
   ]
  },
  {
   "cell_type": "markdown",
   "metadata": {},
   "source": [
    "## Translating our algorithm into code"
   ]
  },
  {
   "cell_type": "markdown",
   "metadata": {},
   "source": [
    "We're ready to come back to our algorithm:\n",
    "\n",
    "> 1. We need a room of 30 people, and we need to know their birthdays.\n",
    "> 2. We need to check whether two people in that room share a birthday.\n",
    "> 3. We need to repeat this process over and over.\n",
    "> 4. We need to figure out how frequently two or more people shared a birthday."
   ]
  },
  {
   "cell_type": "markdown",
   "metadata": {},
   "source": [
    "Here's our algorithm for finding duplicates, translated into code! "
   ]
  },
  {
   "cell_type": "code",
   "execution_count": 59,
   "metadata": {},
   "outputs": [
    {
     "data": {
      "text/html": [
       "0.716"
      ],
      "text/latex": [
       "0.716"
      ],
      "text/markdown": [
       "0.716"
      ],
      "text/plain": [
       "[1] 0.716"
      ]
     },
     "metadata": {},
     "output_type": "display_data"
    }
   ],
   "source": [
    "# This is the total number of birthday lists we will generate\n",
    "n_lists <- 1000\n",
    "\n",
    "# This is a counter to keep track of how many lists had at least one duplicate birthday\n",
    "n_lists_with_duplicates <- 0\n",
    "\n",
    "# Each time we see a list with at least one duplicate, we should increment our counter\n",
    "for (i in 1:n_lists) {\n",
    "    \n",
    "    if (has_duplicate(sample(1:366, 30, replace = TRUE))) {\n",
    "        \n",
    "        n_lists_with_duplicates <- n_lists_with_duplicates + 1\n",
    "    }\n",
    "    \n",
    "}\n",
    "\n",
    "# Fraction of lists with at least one duplicate\n",
    "n_lists_with_duplicates / n_lists\n"
   ]
  },
  {
   "cell_type": "markdown",
   "metadata": {},
   "source": [
    "### Exercise 4\n",
    "\n",
    "**A. Increase the number of birthdays we generate in each list, and re-run the code several times. What happens to the fraction of lists with duplicates?**\n",
    "\n",
    "Findings:\n",
    "- Finding 1\n",
    "- Finding 2\n",
    "- ..."
   ]
  },
  {
   "cell_type": "markdown",
   "metadata": {},
   "source": [
    "**B. Change the number of lists to 100, and re-run the code several times. What happens to the results?**\n",
    "\n",
    "Findings:\n",
    "- Finding 1\n",
    "- Finding 2 \n",
    "- ..."
   ]
  },
  {
   "cell_type": "markdown",
   "metadata": {},
   "source": [
    "**C. Change the number of lists to 100,000, and re-run the code several times. What happens to the results?**\n",
    "\n",
    "Findings:\n",
    "- Finding 1\n",
    "- Finding 2 \n",
    "- ..."
   ]
  },
  {
   "cell_type": "markdown",
   "metadata": {},
   "source": [
    "**D. How many birthdays should be in each list for an approximately 50% chance of a match?**\n",
    "\n",
    "Findings:\n",
    "- Finding 1\n",
    "- Finding 2\n",
    "- ..."
   ]
  },
  {
   "cell_type": "markdown",
   "metadata": {},
   "source": [
    "## Circling back to double voting\n",
    "\n",
    "Remember our original problem:\n",
    "\n",
    "> In the 2012 election, there were 141 individuals named \"John Smith\" who were born in 1970, and 27 pairs had exactly the same birthday.\n",
    "\n",
    "### Challenge exercise\n",
    "\n",
    "**Modify the simulation code to calculate the average number of birthday matches in 1,000 lists of 141 individuals.**\n",
    "\n",
    "(Hint: Use `num_duplicates` from earlier and have the counter add up the total number of duplicates in all the generated lists.)"
   ]
  },
  {
   "cell_type": "code",
   "execution_count": 20,
   "metadata": {},
   "outputs": [
    {
     "data": {
      "text/html": [
       "23.903"
      ],
      "text/latex": [
       "23.903"
      ],
      "text/markdown": [
       "23.903"
      ],
      "text/plain": [
       "[1] 23.903"
      ]
     },
     "metadata": {},
     "output_type": "display_data"
    }
   ],
   "source": [
    "# Your code here!\n",
    "\n",
    "# START\n",
    "n_lists <- 1000\n",
    "\n",
    "# counter to keep track of total duplicates\n",
    "n_duplicates <- 0\n",
    "\n",
    "for (i in 1:n_lists) {\n",
    "    \n",
    "    # add any duplicates to our counter \n",
    "    n_duplicates <- n_duplicates + num_duplicates(sample(1:366, 141, replace = TRUE))\n",
    "    \n",
    "}\n",
    "\n",
    "# find the average number of duplicates across all lists\n",
    "n_duplicates / n_lists\n",
    "# END"
   ]
  }
 ],
 "metadata": {
  "kernelspec": {
   "display_name": "R",
   "language": "R",
   "name": "ir"
  },
  "language_info": {
   "codemirror_mode": "r",
   "file_extension": ".r",
   "mimetype": "text/x-r-source",
   "name": "R",
   "pygments_lexer": "r",
   "version": "3.4.4"
  }
 },
 "nbformat": 4,
 "nbformat_minor": 2
}
