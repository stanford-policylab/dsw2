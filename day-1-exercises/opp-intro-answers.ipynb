{
 "cells": [
  {
   "cell_type": "markdown",
   "metadata": {},
   "source": [
    "# Analyzing racial disparities in SF traffic stops\n",
    "\n",
    "To start getting our hands dirty with learning data science, we're going to explore San Francisco's traffic stops. Our goals today are twofold:\n",
    "1. To learn how to use data science to test for racial discrimination, and to investigate whether there is racial discrimination in our SF data. \n",
    "2. To learn a bit of `R`, so that tomorrow you can all start doing your own analysis on different datasets!\n",
    "\n",
    "## Getting started \n",
    "\n",
    "First, let's load the necessary libraries and data that will allow us to begin our investigation!"
   ]
  },
  {
   "cell_type": "code",
   "execution_count": 29,
   "metadata": {},
   "outputs": [
    {
     "name": "stderr",
     "output_type": "stream",
     "text": [
      "Warning message:\n",
      "“package ‘tidyr’ was built under R version 3.5.2”\n",
      "\n",
      "Attaching package: ‘tidyr’\n",
      "\n",
      "\n",
      "The following object is masked from ‘package:magrittr’:\n",
      "\n",
      "    extract\n",
      "\n",
      "\n"
     ]
    },
    {
     "data": {
      "text/html": [
       "'/Users/JoshGrossman/dsw2/day-1-exercises'"
      ],
      "text/latex": [
       "'/Users/JoshGrossman/dsw2/day-1-exercises'"
      ],
      "text/markdown": [
       "'/Users/JoshGrossman/dsw2/day-1-exercises'"
      ],
      "text/plain": [
       "[1] \"/Users/JoshGrossman/dsw2/day-1-exercises\""
      ]
     },
     "metadata": {},
     "output_type": "display_data"
    }
   ],
   "source": [
    "# Some initial setup\n",
    "options(digits = 3)\n",
    "library(ggplot2)\n",
    "library(dplyr)\n",
    "library(readr)\n",
    "library(magrittr)\n",
    "library(lubridate)\n",
    "library(tidyr)\n",
    "theme_set(theme_bw())\n",
    "getwd()\n",
    "\n",
    "# Read the data\n",
    "stops <- read_rds(\"opp_data/san_francisco_stop_data.rds\")\n",
    "pop_2015 <- read_rds(\"opp_data/sf_pop_2015.rds\")"
   ]
  },
  {
   "cell_type": "markdown",
   "metadata": {},
   "source": [
    "### Covering the basics\n",
    "\n",
    "The core of `R` is the dataframe. We've given you one to start with, in the form\n",
    "of `stops`. Think of dataframes like a spreadsheet: they have rows and columns.\n",
    "Usually, rows are a \"datapoint\": in `stops`, each row corresponds to a single\n",
    "stop from San Francisco. The columns are the \"variables\": again, in `stops`,\n",
    "these are the things we know about the stop, like where the stop happened, the\n",
    "age of the driver, whether an arrest was made, and so on.\n",
    "\n",
    "We can take a peak simply by typing `stops` into an R chunk:"
   ]
  },
  {
   "cell_type": "code",
   "execution_count": 2,
   "metadata": {},
   "outputs": [
    {
     "data": {
      "text/html": [
       "<table>\n",
       "<caption>A tibble: 636161 × 13</caption>\n",
       "<thead>\n",
       "\t<tr><th scope=col>date</th><th scope=col>time</th><th scope=col>location</th><th scope=col>lat</th><th scope=col>lng</th><th scope=col>district</th><th scope=col>age</th><th scope=col>race</th><th scope=col>gender</th><th scope=col>arrested</th><th scope=col>contraband_found</th><th scope=col>searched</th><th scope=col>reason_for_stop</th></tr>\n",
       "\t<tr><th scope=col>&lt;date&gt;</th><th scope=col>&lt;time&gt;</th><th scope=col>&lt;chr&gt;</th><th scope=col>&lt;dbl&gt;</th><th scope=col>&lt;dbl&gt;</th><th scope=col>&lt;chr&gt;</th><th scope=col>&lt;int&gt;</th><th scope=col>&lt;chr&gt;</th><th scope=col>&lt;fct&gt;</th><th scope=col>&lt;lgl&gt;</th><th scope=col>&lt;lgl&gt;</th><th scope=col>&lt;lgl&gt;</th><th scope=col>&lt;chr&gt;</th></tr>\n",
       "</thead>\n",
       "<tbody>\n",
       "\t<tr><td>2009-01-01</td><td>10:10:00</td><td>1736 PALOU                 </td><td>37.7</td><td>-122</td><td>C</td><td>22</td><td>black                 </td><td>female</td><td>FALSE</td><td>FALSE</td><td> TRUE</td><td>Mechanical or Non-Moving Violation (V.C.)</td></tr>\n",
       "\t<tr><td>2009-01-01</td><td>10:15:00</td><td>THRIFT/PLYMTH              </td><td>37.7</td><td>-122</td><td>I</td><td>44</td><td>black                 </td><td>male  </td><td>FALSE</td><td>   NA</td><td>FALSE</td><td>Moving Violation                         </td></tr>\n",
       "\t<tr><td>2009-01-01</td><td>10:20:00</td><td>FLORIDA/19TH               </td><td>37.8</td><td>-122</td><td>D</td><td>45</td><td>white                 </td><td>female</td><td>FALSE</td><td>   NA</td><td>FALSE</td><td>Mechanical or Non-Moving Violation (V.C.)</td></tr>\n",
       "\t<tr><td>2009-01-01</td><td>10:20:00</td><td>19TH AVE/MORAGAE           </td><td>37.8</td><td>-122</td><td>I</td><td>27</td><td>white                 </td><td>male  </td><td>FALSE</td><td>   NA</td><td>FALSE</td><td>Mechanical or Non-Moving Violation (V.C.)</td></tr>\n",
       "\t<tr><td>2009-01-01</td><td>10:36:00</td><td>19TH/LINCOLN               </td><td>37.8</td><td>-122</td><td>I</td><td>29</td><td>white                 </td><td>male  </td><td>FALSE</td><td>   NA</td><td>FALSE</td><td>Mechanical or Non-Moving Violation (V.C.)</td></tr>\n",
       "\t<tr><td>2009-01-01</td><td>10:40:00</td><td><span style=white-space:pre-wrap>16TH&amp;JULIAN                </span></td><td>37.8</td><td>-122</td><td>D</td><td>34</td><td><span style=white-space:pre-wrap>black                 </span></td><td><span style=white-space:pre-wrap>male  </span></td><td>FALSE</td><td><span style=white-space:pre-wrap>   NA</span></td><td>FALSE</td><td><span style=white-space:pre-wrap>Moving Violation                         </span></td></tr>\n",
       "\t<tr><td>2009-01-01</td><td>10:40:00</td><td><span style=white-space:pre-wrap>LAKE ST &amp; 12TH AVE         </span></td><td>37.8</td><td>-122</td><td>G</td><td>50</td><td><span style=white-space:pre-wrap>white                 </span></td><td>female</td><td>FALSE</td><td><span style=white-space:pre-wrap>   NA</span></td><td>FALSE</td><td><span style=white-space:pre-wrap>Moving Violation                         </span></td></tr>\n",
       "\t<tr><td>2009-01-01</td><td>10:44:00</td><td>19TH/SANTIAGO              </td><td>37.7</td><td>-122</td><td>I</td><td>29</td><td>white                 </td><td>female</td><td>FALSE</td><td>   NA</td><td>FALSE</td><td>Mechanical or Non-Moving Violation (V.C.)</td></tr>\n",
       "\t<tr><td>2009-01-01</td><td>10:45:00</td><td><span style=white-space:pre-wrap>19TH AVE &amp; TARAVAL ST      </span></td><td>37.7</td><td>-122</td><td>I</td><td>44</td><td><span style=white-space:pre-wrap>white                 </span></td><td>female</td><td>FALSE</td><td><span style=white-space:pre-wrap>   NA</span></td><td>FALSE</td><td><span style=white-space:pre-wrap>Moving Violation                         </span></td></tr>\n",
       "\t<tr><td>2009-01-01</td><td>10:50:00</td><td>LINCOLN WAY AND 9TH AVE    </td><td>37.8</td><td>-122</td><td>G</td><td>30</td><td>white                 </td><td>male  </td><td>FALSE</td><td>   NA</td><td>FALSE</td><td>Moving Violation                         </td></tr>\n",
       "\t<tr><td>2009-01-01</td><td>10:50:00</td><td>UNION/LARKIN               </td><td>37.8</td><td>-122</td><td>E</td><td>46</td><td>white                 </td><td>male  </td><td>FALSE</td><td>   NA</td><td>FALSE</td><td>Moving Violation                         </td></tr>\n",
       "\t<tr><td>2009-01-01</td><td>10:55:00</td><td>LA SALLE @ NEWCOMB         </td><td>37.7</td><td>-122</td><td>C</td><td>26</td><td>black                 </td><td>male  </td><td>FALSE</td><td>FALSE</td><td> TRUE</td><td>Moving Violation                         </td></tr>\n",
       "\t<tr><td>2009-01-01</td><td>10:55:00</td><td><span style=white-space:pre-wrap>ALABAMA &amp; @22ND ST         </span></td><td>37.8</td><td>-122</td><td>D</td><td>59</td><td><span style=white-space:pre-wrap>black                 </span></td><td><span style=white-space:pre-wrap>male  </span></td><td>FALSE</td><td><span style=white-space:pre-wrap>   NA</span></td><td>FALSE</td><td>Mechanical or Non-Moving Violation (V.C.)</td></tr>\n",
       "\t<tr><td>2009-01-01</td><td>10:55:00</td><td>2900 BLK 19TH AVE          </td><td>37.7</td><td>-122</td><td>I</td><td>61</td><td>other                 </td><td>male  </td><td>FALSE</td><td>FALSE</td><td> TRUE</td><td>Mechanical or Non-Moving Violation (V.C.)</td></tr>\n",
       "\t<tr><td>2009-01-01</td><td>01:10:00</td><td><span style=white-space:pre-wrap>CORDELIA AL &amp; BROADWAY     </span></td><td>37.8</td><td>-122</td><td>A</td><td>19</td><td><span style=white-space:pre-wrap>black                 </span></td><td><span style=white-space:pre-wrap>male  </span></td><td>FALSE</td><td><span style=white-space:pre-wrap>   NA</span></td><td>FALSE</td><td><span style=white-space:pre-wrap>Moving Violation                         </span></td></tr>\n",
       "\t<tr><td>2009-01-01</td><td>11:00:00</td><td>LINCOLN WAY AND 9TH AVE    </td><td>37.8</td><td>-122</td><td>G</td><td>73</td><td>white                 </td><td>male  </td><td>FALSE</td><td>   NA</td><td>FALSE</td><td>Moving Violation                         </td></tr>\n",
       "\t<tr><td>2009-01-01</td><td>11:10:00</td><td><span style=white-space:pre-wrap>SILVER&amp;COLBY               </span></td><td>37.7</td><td>-122</td><td>C</td><td>32</td><td><span style=white-space:pre-wrap>hispanic              </span></td><td><span style=white-space:pre-wrap>male  </span></td><td>FALSE</td><td><span style=white-space:pre-wrap>   NA</span></td><td>FALSE</td><td><span style=white-space:pre-wrap>Moving Violation                         </span></td></tr>\n",
       "\t<tr><td>2009-01-01</td><td>11:15:00</td><td>EVAN/TOLAND                </td><td>37.7</td><td>-122</td><td>C</td><td>34</td><td>black                 </td><td>male  </td><td>FALSE</td><td> TRUE</td><td> TRUE</td><td>Moving Violation                         </td></tr>\n",
       "\t<tr><td>2009-01-01</td><td>11:18:00</td><td><span style=white-space:pre-wrap>HYDE ST &amp; CALIFORNIA       </span></td><td>37.8</td><td>-122</td><td>A</td><td>49</td><td>asian/pacific islander</td><td>female</td><td>FALSE</td><td><span style=white-space:pre-wrap>   NA</span></td><td>FALSE</td><td><span style=white-space:pre-wrap>Moving Violation                         </span></td></tr>\n",
       "\t<tr><td>2009-01-01</td><td>01:12:00</td><td><span style=white-space:pre-wrap>4TH ST. &amp; HARRISON ST      </span></td><td>37.8</td><td>-122</td><td>B</td><td>27</td><td><span style=white-space:pre-wrap>white                 </span></td><td><span style=white-space:pre-wrap>male  </span></td><td>FALSE</td><td><span style=white-space:pre-wrap>   NA</span></td><td>FALSE</td><td><span style=white-space:pre-wrap>Moving Violation                         </span></td></tr>\n",
       "\t<tr><td>2009-01-01</td><td>11:25:00</td><td>1800 BLK LINCOLNAT 19TH AVE</td><td>37.8</td><td>-122</td><td>I</td><td>43</td><td>white                 </td><td>male  </td><td>FALSE</td><td>FALSE</td><td> TRUE</td><td>Mechanical or Non-Moving Violation (V.C.)</td></tr>\n",
       "\t<tr><td>2009-01-01</td><td>11:27:00</td><td>19TH/RIBVERA               </td><td>37.7</td><td>-122</td><td>I</td><td>49</td><td>white                 </td><td>male  </td><td>FALSE</td><td>   NA</td><td>FALSE</td><td>Mechanical or Non-Moving Violation (V.C.)</td></tr>\n",
       "\t<tr><td>2009-01-01</td><td>11:30:00</td><td>ARMY/EVAN                  </td><td>37.8</td><td>-122</td><td>C</td><td>20</td><td>black                 </td><td>female</td><td>FALSE</td><td>   NA</td><td>FALSE</td><td>Moving Violation                         </td></tr>\n",
       "\t<tr><td>2009-01-01</td><td>11:35:00</td><td>LINCOLN WAY AND 9TH AVE    </td><td>37.8</td><td>-122</td><td>G</td><td>49</td><td>asian/pacific islander</td><td>male  </td><td>FALSE</td><td>   NA</td><td>FALSE</td><td>Moving Violation                         </td></tr>\n",
       "\t<tr><td>2009-01-01</td><td>11:45:00</td><td>TURK/FILLMORE              </td><td>37.8</td><td>-122</td><td>E</td><td>NA</td><td>asian/pacific islander</td><td>male  </td><td>FALSE</td><td>   NA</td><td>FALSE</td><td>Moving Violation                         </td></tr>\n",
       "\t<tr><td>2009-01-01</td><td>11:53:00</td><td><span style=white-space:pre-wrap>MISSION ST &amp; 23RD ST       </span></td><td>37.8</td><td>-122</td><td>D</td><td>18</td><td><span style=white-space:pre-wrap>other                 </span></td><td><span style=white-space:pre-wrap>male  </span></td><td>FALSE</td><td><span style=white-space:pre-wrap>   NA</span></td><td>FALSE</td><td>Mechanical or Non-Moving Violation (V.C.)</td></tr>\n",
       "\t<tr><td>2009-01-01</td><td>11:58:00</td><td><span style=white-space:pre-wrap>VALENCIA &amp;19TH             </span></td><td>37.8</td><td>-122</td><td>D</td><td>62</td><td><span style=white-space:pre-wrap>white                 </span></td><td><span style=white-space:pre-wrap>male  </span></td><td>FALSE</td><td><span style=white-space:pre-wrap>   NA</span></td><td>FALSE</td><td>Mechanical or Non-Moving Violation (V.C.)</td></tr>\n",
       "\t<tr><td>2009-01-01</td><td>00:12:00</td><td><span style=white-space:pre-wrap>19TH AVE &amp; SLOAT BLVD      </span></td><td>37.7</td><td>-122</td><td>I</td><td>45</td><td>asian/pacific islander</td><td><span style=white-space:pre-wrap>male  </span></td><td>FALSE</td><td><span style=white-space:pre-wrap>   NA</span></td><td>FALSE</td><td><span style=white-space:pre-wrap>Moving Violation                         </span></td></tr>\n",
       "\t<tr><td>2009-01-01</td><td>00:12:00</td><td>400 BLK BROADWAY           </td><td>37.8</td><td>-122</td><td>A</td><td>19</td><td>white                 </td><td>male  </td><td>FALSE</td><td>   NA</td><td>FALSE</td><td>Moving Violation                         </td></tr>\n",
       "\t<tr><td>2009-01-01</td><td>01:20:00</td><td><span style=white-space:pre-wrap>19TH AVE &amp; JUDAH ST        </span></td><td>37.8</td><td>-122</td><td>I</td><td>33</td><td>asian/pacific islander</td><td><span style=white-space:pre-wrap>male  </span></td><td>FALSE</td><td><span style=white-space:pre-wrap>   NA</span></td><td>FALSE</td><td><span style=white-space:pre-wrap>Moving Violation                         </span></td></tr>\n",
       "\t<tr><td>⋮</td><td>⋮</td><td>⋮</td><td>⋮</td><td>⋮</td><td>⋮</td><td>⋮</td><td>⋮</td><td>⋮</td><td>⋮</td><td>⋮</td><td>⋮</td><td>⋮</td></tr>\n",
       "\t<tr><td>2016-06-30</td><td>06:56:00</td><td>15TH AND KANSAS           </td><td>37.8</td><td>-122</td><td>C</td><td>56</td><td>white                 </td><td>male  </td><td>FALSE</td><td>  NA</td><td>FALSE</td><td>Moving Violation                         </td></tr>\n",
       "\t<tr><td>2016-06-30</td><td>06:57:00</td><td>EMBARCADERO X CHESTNUT    </td><td>37.8</td><td>-122</td><td>A</td><td>31</td><td>white                 </td><td>female</td><td>FALSE</td><td>  NA</td><td>FALSE</td><td>Moving Violation                         </td></tr>\n",
       "\t<tr><td>2016-06-30</td><td>07:10:00</td><td><span style=white-space:pre-wrap>MISSION ST &amp; 18TH ST      </span></td><td>37.8</td><td>-122</td><td>D</td><td>31</td><td><span style=white-space:pre-wrap>hispanic              </span></td><td><span style=white-space:pre-wrap>male  </span></td><td>FALSE</td><td><span style=white-space:pre-wrap>  NA</span></td><td>FALSE</td><td>Mechanical or Non-Moving Violation (V.C.)</td></tr>\n",
       "\t<tr><td>2016-06-30</td><td>07:15:00</td><td><span style=white-space:pre-wrap>S VAN NESS &amp; 17TH         </span></td><td>37.8</td><td>-122</td><td>D</td><td>41</td><td><span style=white-space:pre-wrap>hispanic              </span></td><td><span style=white-space:pre-wrap>male  </span></td><td>FALSE</td><td><span style=white-space:pre-wrap>  NA</span></td><td>FALSE</td><td>Mechanical or Non-Moving Violation (V.C.)</td></tr>\n",
       "\t<tr><td>2016-06-30</td><td>07:20:00</td><td>965 GEARY ST.             </td><td>37.8</td><td>-122</td><td>E</td><td>49</td><td>asian/pacific islander</td><td>female</td><td>FALSE</td><td>  NA</td><td>FALSE</td><td>Moving Violation                         </td></tr>\n",
       "\t<tr><td>2016-06-30</td><td>07:40:00</td><td><span style=white-space:pre-wrap>GEARY ST. &amp; JONES ST.     </span></td><td>37.8</td><td>-122</td><td>J</td><td>28</td><td><span style=white-space:pre-wrap>hispanic              </span></td><td>female</td><td>FALSE</td><td><span style=white-space:pre-wrap>  NA</span></td><td>FALSE</td><td><span style=white-space:pre-wrap>Moving Violation                         </span></td></tr>\n",
       "\t<tr><td>2016-06-30</td><td>07:55:00</td><td><span style=white-space:pre-wrap>14TH AVE &amp; BALBOA ST      </span></td><td>37.8</td><td>-122</td><td>G</td><td>32</td><td>asian/pacific islander</td><td><span style=white-space:pre-wrap>male  </span></td><td>FALSE</td><td><span style=white-space:pre-wrap>  NA</span></td><td>FALSE</td><td><span style=white-space:pre-wrap>Moving Violation                         </span></td></tr>\n",
       "\t<tr><td>2016-06-30</td><td>07:55:00</td><td><span style=white-space:pre-wrap>3RD ST &amp; BRYANT ST        </span></td><td>37.8</td><td>-122</td><td>B</td><td>45</td><td><span style=white-space:pre-wrap>hispanic              </span></td><td><span style=white-space:pre-wrap>male  </span></td><td>FALSE</td><td><span style=white-space:pre-wrap>  NA</span></td><td>FALSE</td><td><span style=white-space:pre-wrap>Moving Violation                         </span></td></tr>\n",
       "\t<tr><td>2016-06-30</td><td>07:55:00</td><td>800 BLK GEARY.            </td><td>37.8</td><td>-122</td><td>A</td><td>46</td><td>white                 </td><td>male  </td><td>FALSE</td><td>  NA</td><td>FALSE</td><td>Moving Violation                         </td></tr>\n",
       "\t<tr><td>2016-06-30</td><td>08:05:00</td><td>FULTON ST AND FILLMORE ST </td><td>37.8</td><td>-122</td><td>E</td><td>30</td><td>hispanic              </td><td>female</td><td>FALSE</td><td>  NA</td><td>FALSE</td><td>Moving Violation                         </td></tr>\n",
       "\t<tr><td>2016-06-30</td><td>08:11:00</td><td>POLK/UNION                </td><td>37.8</td><td>-122</td><td>E</td><td>32</td><td>white                 </td><td>male  </td><td>FALSE</td><td>  NA</td><td>FALSE</td><td>Moving Violation                         </td></tr>\n",
       "\t<tr><td>2016-06-30</td><td>08:15:00</td><td>POLK/ EDDY                </td><td>37.8</td><td>-122</td><td>E</td><td>56</td><td>white                 </td><td>male  </td><td>FALSE</td><td>  NA</td><td>FALSE</td><td>Moving Violation                         </td></tr>\n",
       "\t<tr><td>2016-06-30</td><td>08:20:00</td><td>FULTON ST AND FILLMORE ST </td><td>37.8</td><td>-122</td><td>E</td><td>46</td><td>white                 </td><td>male  </td><td>FALSE</td><td>  NA</td><td>FALSE</td><td>Moving Violation                         </td></tr>\n",
       "\t<tr><td>2016-06-30</td><td>08:25:00</td><td>781 GEARY ST.             </td><td>37.8</td><td>-122</td><td>J</td><td>35</td><td>hispanic              </td><td>male  </td><td>FALSE</td><td>  NA</td><td>FALSE</td><td>Moving Violation                         </td></tr>\n",
       "\t<tr><td>2016-06-30</td><td>08:30:00</td><td><span style=white-space:pre-wrap>24TH &amp; TARAVAL            </span></td><td>37.7</td><td>-122</td><td>I</td><td>59</td><td><span style=white-space:pre-wrap>hispanic              </span></td><td><span style=white-space:pre-wrap>male  </span></td><td>FALSE</td><td><span style=white-space:pre-wrap>  NA</span></td><td>FALSE</td><td>Mechanical or Non-Moving Violation (V.C.)</td></tr>\n",
       "\t<tr><td>2016-06-30</td><td>08:30:00</td><td><span style=white-space:pre-wrap>19TH AVE. &amp; DENSLOWE ST.  </span></td><td>37.7</td><td>-122</td><td>I</td><td>31</td><td><span style=white-space:pre-wrap>other                 </span></td><td>female</td><td>FALSE</td><td><span style=white-space:pre-wrap>  NA</span></td><td>FALSE</td><td><span style=white-space:pre-wrap>Moving Violation                         </span></td></tr>\n",
       "\t<tr><td>2016-06-30</td><td>08:30:00</td><td><span style=white-space:pre-wrap>ANDERSON &amp; EUGENIA        </span></td><td>37.7</td><td>-122</td><td>H</td><td>29</td><td><span style=white-space:pre-wrap>white                 </span></td><td>female</td><td>FALSE</td><td><span style=white-space:pre-wrap>  NA</span></td><td>FALSE</td><td><span style=white-space:pre-wrap>Moving Violation                         </span></td></tr>\n",
       "\t<tr><td>2016-06-30</td><td>08:38:00</td><td>FULTON ST AND SCOTT ST    </td><td>37.8</td><td>-122</td><td>E</td><td>26</td><td>white                 </td><td>male  </td><td>FALSE</td><td>  NA</td><td>FALSE</td><td>Moving Violation                         </td></tr>\n",
       "\t<tr><td>2016-06-30</td><td>08:45:00</td><td>781 GEARY ST.             </td><td>37.8</td><td>-122</td><td>J</td><td>38</td><td>other                 </td><td>male  </td><td>FALSE</td><td>  NA</td><td>FALSE</td><td>Moving Violation                         </td></tr>\n",
       "\t<tr><td>2016-06-30</td><td>08:50:00</td><td>FULTON ST AND FILLMORE ST </td><td>37.8</td><td>-122</td><td>E</td><td>26</td><td>asian/pacific islander</td><td>male  </td><td>FALSE</td><td>  NA</td><td>FALSE</td><td>Moving Violation                         </td></tr>\n",
       "\t<tr><td>2016-06-30</td><td>08:50:00</td><td><span style=white-space:pre-wrap>26TH &amp; JUDAH              </span></td><td>37.8</td><td>-122</td><td>I</td><td>59</td><td><span style=white-space:pre-wrap>white                 </span></td><td><span style=white-space:pre-wrap>male  </span></td><td>FALSE</td><td><span style=white-space:pre-wrap>  NA</span></td><td>FALSE</td><td><span style=white-space:pre-wrap>Moving Violation                         </span></td></tr>\n",
       "\t<tr><td>2016-06-30</td><td>08:55:00</td><td><span style=white-space:pre-wrap>GEARY ST. &amp; HYDE ST.      </span></td><td>37.8</td><td>-122</td><td>J</td><td>29</td><td><span style=white-space:pre-wrap>white                 </span></td><td>female</td><td>FALSE</td><td><span style=white-space:pre-wrap>  NA</span></td><td>FALSE</td><td><span style=white-space:pre-wrap>Moving Violation                         </span></td></tr>\n",
       "\t<tr><td>2016-06-30</td><td>00:09:00</td><td><span style=white-space:pre-wrap>LARKIN &amp; BROADWAY         </span></td><td>37.8</td><td>-122</td><td>A</td><td>24</td><td><span style=white-space:pre-wrap>hispanic              </span></td><td><span style=white-space:pre-wrap>male  </span></td><td>FALSE</td><td><span style=white-space:pre-wrap>  NA</span></td><td>FALSE</td><td>Mechanical or Non-Moving Violation (V.C.)</td></tr>\n",
       "\t<tr><td>2016-06-30</td><td>09:00:00</td><td><span style=white-space:pre-wrap>MISSION &amp; SANTA MARINA    </span></td><td>37.7</td><td>-122</td><td>H</td><td>28</td><td><span style=white-space:pre-wrap>black                 </span></td><td><span style=white-space:pre-wrap>male  </span></td><td>FALSE</td><td>TRUE</td><td> TRUE</td><td>Mechanical or Non-Moving Violation (V.C.)</td></tr>\n",
       "\t<tr><td>2016-06-30</td><td>09:15:00</td><td><span style=white-space:pre-wrap>GOLDEN GATE &amp; JONES       </span></td><td>37.8</td><td>-122</td><td>J</td><td>35</td><td>asian/pacific islander</td><td><span style=white-space:pre-wrap>male  </span></td><td>FALSE</td><td><span style=white-space:pre-wrap>  NA</span></td><td>FALSE</td><td><span style=white-space:pre-wrap>Moving Violation                         </span></td></tr>\n",
       "\t<tr><td>2016-06-30</td><td>09:24:00</td><td><span style=white-space:pre-wrap>JONES &amp; MCALLISTER        </span></td><td>37.8</td><td>-122</td><td>J</td><td>47</td><td><span style=white-space:pre-wrap>hispanic              </span></td><td>female</td><td>FALSE</td><td><span style=white-space:pre-wrap>  NA</span></td><td>FALSE</td><td><span style=white-space:pre-wrap>Moving Violation                         </span></td></tr>\n",
       "\t<tr><td>2016-06-30</td><td>09:34:00</td><td><span style=white-space:pre-wrap>GOLDEN GATE &amp; HYDE        </span></td><td>37.8</td><td>-122</td><td>J</td><td>55</td><td><span style=white-space:pre-wrap>white                 </span></td><td>female</td><td>FALSE</td><td><span style=white-space:pre-wrap>  NA</span></td><td>FALSE</td><td><span style=white-space:pre-wrap>Moving Violation                         </span></td></tr>\n",
       "\t<tr><td>2016-06-30</td><td>09:50:00</td><td><span style=white-space:pre-wrap>11TH ST. &amp; MARKET ST.     </span></td><td>37.8</td><td>-122</td><td>J</td><td>36</td><td>asian/pacific islander</td><td><span style=white-space:pre-wrap>male  </span></td><td>FALSE</td><td><span style=white-space:pre-wrap>  NA</span></td><td>FALSE</td><td><span style=white-space:pre-wrap>Moving Violation                         </span></td></tr>\n",
       "\t<tr><td>2016-06-30</td><td>09:50:00</td><td>BROTHERHOOD WAY &amp; ARCH ST.</td><td>37.7</td><td>-122</td><td>I</td><td>50</td><td><span style=white-space:pre-wrap>black                 </span></td><td><span style=white-space:pre-wrap>male  </span></td><td>FALSE</td><td><span style=white-space:pre-wrap>  NA</span></td><td>FALSE</td><td>Mechanical or Non-Moving Violation (V.C.)</td></tr>\n",
       "\t<tr><td>2016-06-30</td><td>09:55:00</td><td>1650 17THAV               </td><td>37.8</td><td>-122</td><td>I</td><td>22</td><td>other                 </td><td>female</td><td>FALSE</td><td>  NA</td><td>FALSE</td><td>Moving Violation                         </td></tr>\n",
       "</tbody>\n",
       "</table>\n"
      ],
      "text/latex": [
       "A tibble: 636161 × 13\n",
       "\\begin{tabular}{r|lllllllllllll}\n",
       " date & time & location & lat & lng & district & age & race & gender & arrested & contraband\\_found & searched & reason\\_for\\_stop\\\\\n",
       " <date> & <time> & <chr> & <dbl> & <dbl> & <chr> & <int> & <chr> & <fct> & <lgl> & <lgl> & <lgl> & <chr>\\\\\n",
       "\\hline\n",
       "\t 2009-01-01 & 10:10:00 & 1736 PALOU                  & 37.7 & -122 & C & 22 & black                  & female & FALSE & FALSE &  TRUE & Mechanical or Non-Moving Violation (V.C.)\\\\\n",
       "\t 2009-01-01 & 10:15:00 & THRIFT/PLYMTH               & 37.7 & -122 & I & 44 & black                  & male   & FALSE &    NA & FALSE & Moving Violation                         \\\\\n",
       "\t 2009-01-01 & 10:20:00 & FLORIDA/19TH                & 37.8 & -122 & D & 45 & white                  & female & FALSE &    NA & FALSE & Mechanical or Non-Moving Violation (V.C.)\\\\\n",
       "\t 2009-01-01 & 10:20:00 & 19TH AVE/MORAGAE            & 37.8 & -122 & I & 27 & white                  & male   & FALSE &    NA & FALSE & Mechanical or Non-Moving Violation (V.C.)\\\\\n",
       "\t 2009-01-01 & 10:36:00 & 19TH/LINCOLN                & 37.8 & -122 & I & 29 & white                  & male   & FALSE &    NA & FALSE & Mechanical or Non-Moving Violation (V.C.)\\\\\n",
       "\t 2009-01-01 & 10:40:00 & 16TH\\&JULIAN                 & 37.8 & -122 & D & 34 & black                  & male   & FALSE &    NA & FALSE & Moving Violation                         \\\\\n",
       "\t 2009-01-01 & 10:40:00 & LAKE ST \\& 12TH AVE          & 37.8 & -122 & G & 50 & white                  & female & FALSE &    NA & FALSE & Moving Violation                         \\\\\n",
       "\t 2009-01-01 & 10:44:00 & 19TH/SANTIAGO               & 37.7 & -122 & I & 29 & white                  & female & FALSE &    NA & FALSE & Mechanical or Non-Moving Violation (V.C.)\\\\\n",
       "\t 2009-01-01 & 10:45:00 & 19TH AVE \\& TARAVAL ST       & 37.7 & -122 & I & 44 & white                  & female & FALSE &    NA & FALSE & Moving Violation                         \\\\\n",
       "\t 2009-01-01 & 10:50:00 & LINCOLN WAY AND 9TH AVE     & 37.8 & -122 & G & 30 & white                  & male   & FALSE &    NA & FALSE & Moving Violation                         \\\\\n",
       "\t 2009-01-01 & 10:50:00 & UNION/LARKIN                & 37.8 & -122 & E & 46 & white                  & male   & FALSE &    NA & FALSE & Moving Violation                         \\\\\n",
       "\t 2009-01-01 & 10:55:00 & LA SALLE @ NEWCOMB          & 37.7 & -122 & C & 26 & black                  & male   & FALSE & FALSE &  TRUE & Moving Violation                         \\\\\n",
       "\t 2009-01-01 & 10:55:00 & ALABAMA \\& @22ND ST          & 37.8 & -122 & D & 59 & black                  & male   & FALSE &    NA & FALSE & Mechanical or Non-Moving Violation (V.C.)\\\\\n",
       "\t 2009-01-01 & 10:55:00 & 2900 BLK 19TH AVE           & 37.7 & -122 & I & 61 & other                  & male   & FALSE & FALSE &  TRUE & Mechanical or Non-Moving Violation (V.C.)\\\\\n",
       "\t 2009-01-01 & 01:10:00 & CORDELIA AL \\& BROADWAY      & 37.8 & -122 & A & 19 & black                  & male   & FALSE &    NA & FALSE & Moving Violation                         \\\\\n",
       "\t 2009-01-01 & 11:00:00 & LINCOLN WAY AND 9TH AVE     & 37.8 & -122 & G & 73 & white                  & male   & FALSE &    NA & FALSE & Moving Violation                         \\\\\n",
       "\t 2009-01-01 & 11:10:00 & SILVER\\&COLBY                & 37.7 & -122 & C & 32 & hispanic               & male   & FALSE &    NA & FALSE & Moving Violation                         \\\\\n",
       "\t 2009-01-01 & 11:15:00 & EVAN/TOLAND                 & 37.7 & -122 & C & 34 & black                  & male   & FALSE &  TRUE &  TRUE & Moving Violation                         \\\\\n",
       "\t 2009-01-01 & 11:18:00 & HYDE ST \\& CALIFORNIA        & 37.8 & -122 & A & 49 & asian/pacific islander & female & FALSE &    NA & FALSE & Moving Violation                         \\\\\n",
       "\t 2009-01-01 & 01:12:00 & 4TH ST. \\& HARRISON ST       & 37.8 & -122 & B & 27 & white                  & male   & FALSE &    NA & FALSE & Moving Violation                         \\\\\n",
       "\t 2009-01-01 & 11:25:00 & 1800 BLK LINCOLNAT 19TH AVE & 37.8 & -122 & I & 43 & white                  & male   & FALSE & FALSE &  TRUE & Mechanical or Non-Moving Violation (V.C.)\\\\\n",
       "\t 2009-01-01 & 11:27:00 & 19TH/RIBVERA                & 37.7 & -122 & I & 49 & white                  & male   & FALSE &    NA & FALSE & Mechanical or Non-Moving Violation (V.C.)\\\\\n",
       "\t 2009-01-01 & 11:30:00 & ARMY/EVAN                   & 37.8 & -122 & C & 20 & black                  & female & FALSE &    NA & FALSE & Moving Violation                         \\\\\n",
       "\t 2009-01-01 & 11:35:00 & LINCOLN WAY AND 9TH AVE     & 37.8 & -122 & G & 49 & asian/pacific islander & male   & FALSE &    NA & FALSE & Moving Violation                         \\\\\n",
       "\t 2009-01-01 & 11:45:00 & TURK/FILLMORE               & 37.8 & -122 & E & NA & asian/pacific islander & male   & FALSE &    NA & FALSE & Moving Violation                         \\\\\n",
       "\t 2009-01-01 & 11:53:00 & MISSION ST \\& 23RD ST        & 37.8 & -122 & D & 18 & other                  & male   & FALSE &    NA & FALSE & Mechanical or Non-Moving Violation (V.C.)\\\\\n",
       "\t 2009-01-01 & 11:58:00 & VALENCIA \\&19TH              & 37.8 & -122 & D & 62 & white                  & male   & FALSE &    NA & FALSE & Mechanical or Non-Moving Violation (V.C.)\\\\\n",
       "\t 2009-01-01 & 00:12:00 & 19TH AVE \\& SLOAT BLVD       & 37.7 & -122 & I & 45 & asian/pacific islander & male   & FALSE &    NA & FALSE & Moving Violation                         \\\\\n",
       "\t 2009-01-01 & 00:12:00 & 400 BLK BROADWAY            & 37.8 & -122 & A & 19 & white                  & male   & FALSE &    NA & FALSE & Moving Violation                         \\\\\n",
       "\t 2009-01-01 & 01:20:00 & 19TH AVE \\& JUDAH ST         & 37.8 & -122 & I & 33 & asian/pacific islander & male   & FALSE &    NA & FALSE & Moving Violation                         \\\\\n",
       "\t ⋮ & ⋮ & ⋮ & ⋮ & ⋮ & ⋮ & ⋮ & ⋮ & ⋮ & ⋮ & ⋮ & ⋮ & ⋮\\\\\n",
       "\t 2016-06-30 & 06:56:00 & 15TH AND KANSAS            & 37.8 & -122 & C & 56 & white                  & male   & FALSE &   NA & FALSE & Moving Violation                         \\\\\n",
       "\t 2016-06-30 & 06:57:00 & EMBARCADERO X CHESTNUT     & 37.8 & -122 & A & 31 & white                  & female & FALSE &   NA & FALSE & Moving Violation                         \\\\\n",
       "\t 2016-06-30 & 07:10:00 & MISSION ST \\& 18TH ST       & 37.8 & -122 & D & 31 & hispanic               & male   & FALSE &   NA & FALSE & Mechanical or Non-Moving Violation (V.C.)\\\\\n",
       "\t 2016-06-30 & 07:15:00 & S VAN NESS \\& 17TH          & 37.8 & -122 & D & 41 & hispanic               & male   & FALSE &   NA & FALSE & Mechanical or Non-Moving Violation (V.C.)\\\\\n",
       "\t 2016-06-30 & 07:20:00 & 965 GEARY ST.              & 37.8 & -122 & E & 49 & asian/pacific islander & female & FALSE &   NA & FALSE & Moving Violation                         \\\\\n",
       "\t 2016-06-30 & 07:40:00 & GEARY ST. \\& JONES ST.      & 37.8 & -122 & J & 28 & hispanic               & female & FALSE &   NA & FALSE & Moving Violation                         \\\\\n",
       "\t 2016-06-30 & 07:55:00 & 14TH AVE \\& BALBOA ST       & 37.8 & -122 & G & 32 & asian/pacific islander & male   & FALSE &   NA & FALSE & Moving Violation                         \\\\\n",
       "\t 2016-06-30 & 07:55:00 & 3RD ST \\& BRYANT ST         & 37.8 & -122 & B & 45 & hispanic               & male   & FALSE &   NA & FALSE & Moving Violation                         \\\\\n",
       "\t 2016-06-30 & 07:55:00 & 800 BLK GEARY.             & 37.8 & -122 & A & 46 & white                  & male   & FALSE &   NA & FALSE & Moving Violation                         \\\\\n",
       "\t 2016-06-30 & 08:05:00 & FULTON ST AND FILLMORE ST  & 37.8 & -122 & E & 30 & hispanic               & female & FALSE &   NA & FALSE & Moving Violation                         \\\\\n",
       "\t 2016-06-30 & 08:11:00 & POLK/UNION                 & 37.8 & -122 & E & 32 & white                  & male   & FALSE &   NA & FALSE & Moving Violation                         \\\\\n",
       "\t 2016-06-30 & 08:15:00 & POLK/ EDDY                 & 37.8 & -122 & E & 56 & white                  & male   & FALSE &   NA & FALSE & Moving Violation                         \\\\\n",
       "\t 2016-06-30 & 08:20:00 & FULTON ST AND FILLMORE ST  & 37.8 & -122 & E & 46 & white                  & male   & FALSE &   NA & FALSE & Moving Violation                         \\\\\n",
       "\t 2016-06-30 & 08:25:00 & 781 GEARY ST.              & 37.8 & -122 & J & 35 & hispanic               & male   & FALSE &   NA & FALSE & Moving Violation                         \\\\\n",
       "\t 2016-06-30 & 08:30:00 & 24TH \\& TARAVAL             & 37.7 & -122 & I & 59 & hispanic               & male   & FALSE &   NA & FALSE & Mechanical or Non-Moving Violation (V.C.)\\\\\n",
       "\t 2016-06-30 & 08:30:00 & 19TH AVE. \\& DENSLOWE ST.   & 37.7 & -122 & I & 31 & other                  & female & FALSE &   NA & FALSE & Moving Violation                         \\\\\n",
       "\t 2016-06-30 & 08:30:00 & ANDERSON \\& EUGENIA         & 37.7 & -122 & H & 29 & white                  & female & FALSE &   NA & FALSE & Moving Violation                         \\\\\n",
       "\t 2016-06-30 & 08:38:00 & FULTON ST AND SCOTT ST     & 37.8 & -122 & E & 26 & white                  & male   & FALSE &   NA & FALSE & Moving Violation                         \\\\\n",
       "\t 2016-06-30 & 08:45:00 & 781 GEARY ST.              & 37.8 & -122 & J & 38 & other                  & male   & FALSE &   NA & FALSE & Moving Violation                         \\\\\n",
       "\t 2016-06-30 & 08:50:00 & FULTON ST AND FILLMORE ST  & 37.8 & -122 & E & 26 & asian/pacific islander & male   & FALSE &   NA & FALSE & Moving Violation                         \\\\\n",
       "\t 2016-06-30 & 08:50:00 & 26TH \\& JUDAH               & 37.8 & -122 & I & 59 & white                  & male   & FALSE &   NA & FALSE & Moving Violation                         \\\\\n",
       "\t 2016-06-30 & 08:55:00 & GEARY ST. \\& HYDE ST.       & 37.8 & -122 & J & 29 & white                  & female & FALSE &   NA & FALSE & Moving Violation                         \\\\\n",
       "\t 2016-06-30 & 00:09:00 & LARKIN \\& BROADWAY          & 37.8 & -122 & A & 24 & hispanic               & male   & FALSE &   NA & FALSE & Mechanical or Non-Moving Violation (V.C.)\\\\\n",
       "\t 2016-06-30 & 09:00:00 & MISSION \\& SANTA MARINA     & 37.7 & -122 & H & 28 & black                  & male   & FALSE & TRUE &  TRUE & Mechanical or Non-Moving Violation (V.C.)\\\\\n",
       "\t 2016-06-30 & 09:15:00 & GOLDEN GATE \\& JONES        & 37.8 & -122 & J & 35 & asian/pacific islander & male   & FALSE &   NA & FALSE & Moving Violation                         \\\\\n",
       "\t 2016-06-30 & 09:24:00 & JONES \\& MCALLISTER         & 37.8 & -122 & J & 47 & hispanic               & female & FALSE &   NA & FALSE & Moving Violation                         \\\\\n",
       "\t 2016-06-30 & 09:34:00 & GOLDEN GATE \\& HYDE         & 37.8 & -122 & J & 55 & white                  & female & FALSE &   NA & FALSE & Moving Violation                         \\\\\n",
       "\t 2016-06-30 & 09:50:00 & 11TH ST. \\& MARKET ST.      & 37.8 & -122 & J & 36 & asian/pacific islander & male   & FALSE &   NA & FALSE & Moving Violation                         \\\\\n",
       "\t 2016-06-30 & 09:50:00 & BROTHERHOOD WAY \\& ARCH ST. & 37.7 & -122 & I & 50 & black                  & male   & FALSE &   NA & FALSE & Mechanical or Non-Moving Violation (V.C.)\\\\\n",
       "\t 2016-06-30 & 09:55:00 & 1650 17THAV                & 37.8 & -122 & I & 22 & other                  & female & FALSE &   NA & FALSE & Moving Violation                         \\\\\n",
       "\\end{tabular}\n"
      ],
      "text/markdown": [
       "\n",
       "A tibble: 636161 × 13\n",
       "\n",
       "| date &lt;date&gt; | time &lt;time&gt; | location &lt;chr&gt; | lat &lt;dbl&gt; | lng &lt;dbl&gt; | district &lt;chr&gt; | age &lt;int&gt; | race &lt;chr&gt; | gender &lt;fct&gt; | arrested &lt;lgl&gt; | contraband_found &lt;lgl&gt; | searched &lt;lgl&gt; | reason_for_stop &lt;chr&gt; |\n",
       "|---|---|---|---|---|---|---|---|---|---|---|---|---|\n",
       "| 2009-01-01 | 10:10:00 | 1736 PALOU                  | 37.7 | -122 | C | 22 | black                  | female | FALSE | FALSE |  TRUE | Mechanical or Non-Moving Violation (V.C.) |\n",
       "| 2009-01-01 | 10:15:00 | THRIFT/PLYMTH               | 37.7 | -122 | I | 44 | black                  | male   | FALSE |    NA | FALSE | Moving Violation                          |\n",
       "| 2009-01-01 | 10:20:00 | FLORIDA/19TH                | 37.8 | -122 | D | 45 | white                  | female | FALSE |    NA | FALSE | Mechanical or Non-Moving Violation (V.C.) |\n",
       "| 2009-01-01 | 10:20:00 | 19TH AVE/MORAGAE            | 37.8 | -122 | I | 27 | white                  | male   | FALSE |    NA | FALSE | Mechanical or Non-Moving Violation (V.C.) |\n",
       "| 2009-01-01 | 10:36:00 | 19TH/LINCOLN                | 37.8 | -122 | I | 29 | white                  | male   | FALSE |    NA | FALSE | Mechanical or Non-Moving Violation (V.C.) |\n",
       "| 2009-01-01 | 10:40:00 | 16TH&amp;JULIAN                 | 37.8 | -122 | D | 34 | black                  | male   | FALSE |    NA | FALSE | Moving Violation                          |\n",
       "| 2009-01-01 | 10:40:00 | LAKE ST &amp; 12TH AVE          | 37.8 | -122 | G | 50 | white                  | female | FALSE |    NA | FALSE | Moving Violation                          |\n",
       "| 2009-01-01 | 10:44:00 | 19TH/SANTIAGO               | 37.7 | -122 | I | 29 | white                  | female | FALSE |    NA | FALSE | Mechanical or Non-Moving Violation (V.C.) |\n",
       "| 2009-01-01 | 10:45:00 | 19TH AVE &amp; TARAVAL ST       | 37.7 | -122 | I | 44 | white                  | female | FALSE |    NA | FALSE | Moving Violation                          |\n",
       "| 2009-01-01 | 10:50:00 | LINCOLN WAY AND 9TH AVE     | 37.8 | -122 | G | 30 | white                  | male   | FALSE |    NA | FALSE | Moving Violation                          |\n",
       "| 2009-01-01 | 10:50:00 | UNION/LARKIN                | 37.8 | -122 | E | 46 | white                  | male   | FALSE |    NA | FALSE | Moving Violation                          |\n",
       "| 2009-01-01 | 10:55:00 | LA SALLE @ NEWCOMB          | 37.7 | -122 | C | 26 | black                  | male   | FALSE | FALSE |  TRUE | Moving Violation                          |\n",
       "| 2009-01-01 | 10:55:00 | ALABAMA &amp; @22ND ST          | 37.8 | -122 | D | 59 | black                  | male   | FALSE |    NA | FALSE | Mechanical or Non-Moving Violation (V.C.) |\n",
       "| 2009-01-01 | 10:55:00 | 2900 BLK 19TH AVE           | 37.7 | -122 | I | 61 | other                  | male   | FALSE | FALSE |  TRUE | Mechanical or Non-Moving Violation (V.C.) |\n",
       "| 2009-01-01 | 01:10:00 | CORDELIA AL &amp; BROADWAY      | 37.8 | -122 | A | 19 | black                  | male   | FALSE |    NA | FALSE | Moving Violation                          |\n",
       "| 2009-01-01 | 11:00:00 | LINCOLN WAY AND 9TH AVE     | 37.8 | -122 | G | 73 | white                  | male   | FALSE |    NA | FALSE | Moving Violation                          |\n",
       "| 2009-01-01 | 11:10:00 | SILVER&amp;COLBY                | 37.7 | -122 | C | 32 | hispanic               | male   | FALSE |    NA | FALSE | Moving Violation                          |\n",
       "| 2009-01-01 | 11:15:00 | EVAN/TOLAND                 | 37.7 | -122 | C | 34 | black                  | male   | FALSE |  TRUE |  TRUE | Moving Violation                          |\n",
       "| 2009-01-01 | 11:18:00 | HYDE ST &amp; CALIFORNIA        | 37.8 | -122 | A | 49 | asian/pacific islander | female | FALSE |    NA | FALSE | Moving Violation                          |\n",
       "| 2009-01-01 | 01:12:00 | 4TH ST. &amp; HARRISON ST       | 37.8 | -122 | B | 27 | white                  | male   | FALSE |    NA | FALSE | Moving Violation                          |\n",
       "| 2009-01-01 | 11:25:00 | 1800 BLK LINCOLNAT 19TH AVE | 37.8 | -122 | I | 43 | white                  | male   | FALSE | FALSE |  TRUE | Mechanical or Non-Moving Violation (V.C.) |\n",
       "| 2009-01-01 | 11:27:00 | 19TH/RIBVERA                | 37.7 | -122 | I | 49 | white                  | male   | FALSE |    NA | FALSE | Mechanical or Non-Moving Violation (V.C.) |\n",
       "| 2009-01-01 | 11:30:00 | ARMY/EVAN                   | 37.8 | -122 | C | 20 | black                  | female | FALSE |    NA | FALSE | Moving Violation                          |\n",
       "| 2009-01-01 | 11:35:00 | LINCOLN WAY AND 9TH AVE     | 37.8 | -122 | G | 49 | asian/pacific islander | male   | FALSE |    NA | FALSE | Moving Violation                          |\n",
       "| 2009-01-01 | 11:45:00 | TURK/FILLMORE               | 37.8 | -122 | E | NA | asian/pacific islander | male   | FALSE |    NA | FALSE | Moving Violation                          |\n",
       "| 2009-01-01 | 11:53:00 | MISSION ST &amp; 23RD ST        | 37.8 | -122 | D | 18 | other                  | male   | FALSE |    NA | FALSE | Mechanical or Non-Moving Violation (V.C.) |\n",
       "| 2009-01-01 | 11:58:00 | VALENCIA &amp;19TH              | 37.8 | -122 | D | 62 | white                  | male   | FALSE |    NA | FALSE | Mechanical or Non-Moving Violation (V.C.) |\n",
       "| 2009-01-01 | 00:12:00 | 19TH AVE &amp; SLOAT BLVD       | 37.7 | -122 | I | 45 | asian/pacific islander | male   | FALSE |    NA | FALSE | Moving Violation                          |\n",
       "| 2009-01-01 | 00:12:00 | 400 BLK BROADWAY            | 37.8 | -122 | A | 19 | white                  | male   | FALSE |    NA | FALSE | Moving Violation                          |\n",
       "| 2009-01-01 | 01:20:00 | 19TH AVE &amp; JUDAH ST         | 37.8 | -122 | I | 33 | asian/pacific islander | male   | FALSE |    NA | FALSE | Moving Violation                          |\n",
       "| ⋮ | ⋮ | ⋮ | ⋮ | ⋮ | ⋮ | ⋮ | ⋮ | ⋮ | ⋮ | ⋮ | ⋮ | ⋮ |\n",
       "| 2016-06-30 | 06:56:00 | 15TH AND KANSAS            | 37.8 | -122 | C | 56 | white                  | male   | FALSE |   NA | FALSE | Moving Violation                          |\n",
       "| 2016-06-30 | 06:57:00 | EMBARCADERO X CHESTNUT     | 37.8 | -122 | A | 31 | white                  | female | FALSE |   NA | FALSE | Moving Violation                          |\n",
       "| 2016-06-30 | 07:10:00 | MISSION ST &amp; 18TH ST       | 37.8 | -122 | D | 31 | hispanic               | male   | FALSE |   NA | FALSE | Mechanical or Non-Moving Violation (V.C.) |\n",
       "| 2016-06-30 | 07:15:00 | S VAN NESS &amp; 17TH          | 37.8 | -122 | D | 41 | hispanic               | male   | FALSE |   NA | FALSE | Mechanical or Non-Moving Violation (V.C.) |\n",
       "| 2016-06-30 | 07:20:00 | 965 GEARY ST.              | 37.8 | -122 | E | 49 | asian/pacific islander | female | FALSE |   NA | FALSE | Moving Violation                          |\n",
       "| 2016-06-30 | 07:40:00 | GEARY ST. &amp; JONES ST.      | 37.8 | -122 | J | 28 | hispanic               | female | FALSE |   NA | FALSE | Moving Violation                          |\n",
       "| 2016-06-30 | 07:55:00 | 14TH AVE &amp; BALBOA ST       | 37.8 | -122 | G | 32 | asian/pacific islander | male   | FALSE |   NA | FALSE | Moving Violation                          |\n",
       "| 2016-06-30 | 07:55:00 | 3RD ST &amp; BRYANT ST         | 37.8 | -122 | B | 45 | hispanic               | male   | FALSE |   NA | FALSE | Moving Violation                          |\n",
       "| 2016-06-30 | 07:55:00 | 800 BLK GEARY.             | 37.8 | -122 | A | 46 | white                  | male   | FALSE |   NA | FALSE | Moving Violation                          |\n",
       "| 2016-06-30 | 08:05:00 | FULTON ST AND FILLMORE ST  | 37.8 | -122 | E | 30 | hispanic               | female | FALSE |   NA | FALSE | Moving Violation                          |\n",
       "| 2016-06-30 | 08:11:00 | POLK/UNION                 | 37.8 | -122 | E | 32 | white                  | male   | FALSE |   NA | FALSE | Moving Violation                          |\n",
       "| 2016-06-30 | 08:15:00 | POLK/ EDDY                 | 37.8 | -122 | E | 56 | white                  | male   | FALSE |   NA | FALSE | Moving Violation                          |\n",
       "| 2016-06-30 | 08:20:00 | FULTON ST AND FILLMORE ST  | 37.8 | -122 | E | 46 | white                  | male   | FALSE |   NA | FALSE | Moving Violation                          |\n",
       "| 2016-06-30 | 08:25:00 | 781 GEARY ST.              | 37.8 | -122 | J | 35 | hispanic               | male   | FALSE |   NA | FALSE | Moving Violation                          |\n",
       "| 2016-06-30 | 08:30:00 | 24TH &amp; TARAVAL             | 37.7 | -122 | I | 59 | hispanic               | male   | FALSE |   NA | FALSE | Mechanical or Non-Moving Violation (V.C.) |\n",
       "| 2016-06-30 | 08:30:00 | 19TH AVE. &amp; DENSLOWE ST.   | 37.7 | -122 | I | 31 | other                  | female | FALSE |   NA | FALSE | Moving Violation                          |\n",
       "| 2016-06-30 | 08:30:00 | ANDERSON &amp; EUGENIA         | 37.7 | -122 | H | 29 | white                  | female | FALSE |   NA | FALSE | Moving Violation                          |\n",
       "| 2016-06-30 | 08:38:00 | FULTON ST AND SCOTT ST     | 37.8 | -122 | E | 26 | white                  | male   | FALSE |   NA | FALSE | Moving Violation                          |\n",
       "| 2016-06-30 | 08:45:00 | 781 GEARY ST.              | 37.8 | -122 | J | 38 | other                  | male   | FALSE |   NA | FALSE | Moving Violation                          |\n",
       "| 2016-06-30 | 08:50:00 | FULTON ST AND FILLMORE ST  | 37.8 | -122 | E | 26 | asian/pacific islander | male   | FALSE |   NA | FALSE | Moving Violation                          |\n",
       "| 2016-06-30 | 08:50:00 | 26TH &amp; JUDAH               | 37.8 | -122 | I | 59 | white                  | male   | FALSE |   NA | FALSE | Moving Violation                          |\n",
       "| 2016-06-30 | 08:55:00 | GEARY ST. &amp; HYDE ST.       | 37.8 | -122 | J | 29 | white                  | female | FALSE |   NA | FALSE | Moving Violation                          |\n",
       "| 2016-06-30 | 00:09:00 | LARKIN &amp; BROADWAY          | 37.8 | -122 | A | 24 | hispanic               | male   | FALSE |   NA | FALSE | Mechanical or Non-Moving Violation (V.C.) |\n",
       "| 2016-06-30 | 09:00:00 | MISSION &amp; SANTA MARINA     | 37.7 | -122 | H | 28 | black                  | male   | FALSE | TRUE |  TRUE | Mechanical or Non-Moving Violation (V.C.) |\n",
       "| 2016-06-30 | 09:15:00 | GOLDEN GATE &amp; JONES        | 37.8 | -122 | J | 35 | asian/pacific islander | male   | FALSE |   NA | FALSE | Moving Violation                          |\n",
       "| 2016-06-30 | 09:24:00 | JONES &amp; MCALLISTER         | 37.8 | -122 | J | 47 | hispanic               | female | FALSE |   NA | FALSE | Moving Violation                          |\n",
       "| 2016-06-30 | 09:34:00 | GOLDEN GATE &amp; HYDE         | 37.8 | -122 | J | 55 | white                  | female | FALSE |   NA | FALSE | Moving Violation                          |\n",
       "| 2016-06-30 | 09:50:00 | 11TH ST. &amp; MARKET ST.      | 37.8 | -122 | J | 36 | asian/pacific islander | male   | FALSE |   NA | FALSE | Moving Violation                          |\n",
       "| 2016-06-30 | 09:50:00 | BROTHERHOOD WAY &amp; ARCH ST. | 37.7 | -122 | I | 50 | black                  | male   | FALSE |   NA | FALSE | Mechanical or Non-Moving Violation (V.C.) |\n",
       "| 2016-06-30 | 09:55:00 | 1650 17THAV                | 37.8 | -122 | I | 22 | other                  | female | FALSE |   NA | FALSE | Moving Violation                          |\n",
       "\n"
      ],
      "text/plain": [
       "       date       time     location                    lat  lng  district age\n",
       "1      2009-01-01 10:10:00 1736 PALOU                  37.7 -122 C        22 \n",
       "2      2009-01-01 10:15:00 THRIFT/PLYMTH               37.7 -122 I        44 \n",
       "3      2009-01-01 10:20:00 FLORIDA/19TH                37.8 -122 D        45 \n",
       "4      2009-01-01 10:20:00 19TH AVE/MORAGAE            37.8 -122 I        27 \n",
       "5      2009-01-01 10:36:00 19TH/LINCOLN                37.8 -122 I        29 \n",
       "6      2009-01-01 10:40:00 16TH&JULIAN                 37.8 -122 D        34 \n",
       "7      2009-01-01 10:40:00 LAKE ST & 12TH AVE          37.8 -122 G        50 \n",
       "8      2009-01-01 10:44:00 19TH/SANTIAGO               37.7 -122 I        29 \n",
       "9      2009-01-01 10:45:00 19TH AVE & TARAVAL ST       37.7 -122 I        44 \n",
       "10     2009-01-01 10:50:00 LINCOLN WAY AND 9TH AVE     37.8 -122 G        30 \n",
       "11     2009-01-01 10:50:00 UNION/LARKIN                37.8 -122 E        46 \n",
       "12     2009-01-01 10:55:00 LA SALLE @ NEWCOMB          37.7 -122 C        26 \n",
       "13     2009-01-01 10:55:00 ALABAMA & @22ND ST          37.8 -122 D        59 \n",
       "14     2009-01-01 10:55:00 2900 BLK 19TH AVE           37.7 -122 I        61 \n",
       "15     2009-01-01 01:10:00 CORDELIA AL & BROADWAY      37.8 -122 A        19 \n",
       "16     2009-01-01 11:00:00 LINCOLN WAY AND 9TH AVE     37.8 -122 G        73 \n",
       "17     2009-01-01 11:10:00 SILVER&COLBY                37.7 -122 C        32 \n",
       "18     2009-01-01 11:15:00 EVAN/TOLAND                 37.7 -122 C        34 \n",
       "19     2009-01-01 11:18:00 HYDE ST & CALIFORNIA        37.8 -122 A        49 \n",
       "20     2009-01-01 01:12:00 4TH ST. & HARRISON ST       37.8 -122 B        27 \n",
       "21     2009-01-01 11:25:00 1800 BLK LINCOLNAT 19TH AVE 37.8 -122 I        43 \n",
       "22     2009-01-01 11:27:00 19TH/RIBVERA                37.7 -122 I        49 \n",
       "23     2009-01-01 11:30:00 ARMY/EVAN                   37.8 -122 C        20 \n",
       "24     2009-01-01 11:35:00 LINCOLN WAY AND 9TH AVE     37.8 -122 G        49 \n",
       "25     2009-01-01 11:45:00 TURK/FILLMORE               37.8 -122 E        NA \n",
       "26     2009-01-01 11:53:00 MISSION ST & 23RD ST        37.8 -122 D        18 \n",
       "27     2009-01-01 11:58:00 VALENCIA &19TH              37.8 -122 D        62 \n",
       "28     2009-01-01 00:12:00 19TH AVE & SLOAT BLVD       37.7 -122 I        45 \n",
       "29     2009-01-01 00:12:00 400 BLK BROADWAY            37.8 -122 A        19 \n",
       "30     2009-01-01 01:20:00 19TH AVE & JUDAH ST         37.8 -122 I        33 \n",
       "⋮      ⋮          ⋮        ⋮                           ⋮    ⋮    ⋮        ⋮  \n",
       "636132 2016-06-30 06:56:00 15TH AND KANSAS             37.8 -122 C        56 \n",
       "636133 2016-06-30 06:57:00 EMBARCADERO X CHESTNUT      37.8 -122 A        31 \n",
       "636134 2016-06-30 07:10:00 MISSION ST & 18TH ST        37.8 -122 D        31 \n",
       "636135 2016-06-30 07:15:00 S VAN NESS & 17TH           37.8 -122 D        41 \n",
       "636136 2016-06-30 07:20:00 965 GEARY ST.               37.8 -122 E        49 \n",
       "636137 2016-06-30 07:40:00 GEARY ST. & JONES ST.       37.8 -122 J        28 \n",
       "636138 2016-06-30 07:55:00 14TH AVE & BALBOA ST        37.8 -122 G        32 \n",
       "636139 2016-06-30 07:55:00 3RD ST & BRYANT ST          37.8 -122 B        45 \n",
       "636140 2016-06-30 07:55:00 800 BLK GEARY.              37.8 -122 A        46 \n",
       "636141 2016-06-30 08:05:00 FULTON ST AND FILLMORE ST   37.8 -122 E        30 \n",
       "636142 2016-06-30 08:11:00 POLK/UNION                  37.8 -122 E        32 \n",
       "636143 2016-06-30 08:15:00 POLK/ EDDY                  37.8 -122 E        56 \n",
       "636144 2016-06-30 08:20:00 FULTON ST AND FILLMORE ST   37.8 -122 E        46 \n",
       "636145 2016-06-30 08:25:00 781 GEARY ST.               37.8 -122 J        35 \n",
       "636146 2016-06-30 08:30:00 24TH & TARAVAL              37.7 -122 I        59 \n",
       "636147 2016-06-30 08:30:00 19TH AVE. & DENSLOWE ST.    37.7 -122 I        31 \n",
       "636148 2016-06-30 08:30:00 ANDERSON & EUGENIA          37.7 -122 H        29 \n",
       "636149 2016-06-30 08:38:00 FULTON ST AND SCOTT ST      37.8 -122 E        26 \n",
       "636150 2016-06-30 08:45:00 781 GEARY ST.               37.8 -122 J        38 \n",
       "636151 2016-06-30 08:50:00 FULTON ST AND FILLMORE ST   37.8 -122 E        26 \n",
       "636152 2016-06-30 08:50:00 26TH & JUDAH                37.8 -122 I        59 \n",
       "636153 2016-06-30 08:55:00 GEARY ST. & HYDE ST.        37.8 -122 J        29 \n",
       "636154 2016-06-30 00:09:00 LARKIN & BROADWAY           37.8 -122 A        24 \n",
       "636155 2016-06-30 09:00:00 MISSION & SANTA MARINA      37.7 -122 H        28 \n",
       "636156 2016-06-30 09:15:00 GOLDEN GATE & JONES         37.8 -122 J        35 \n",
       "636157 2016-06-30 09:24:00 JONES & MCALLISTER          37.8 -122 J        47 \n",
       "636158 2016-06-30 09:34:00 GOLDEN GATE & HYDE          37.8 -122 J        55 \n",
       "636159 2016-06-30 09:50:00 11TH ST. & MARKET ST.       37.8 -122 J        36 \n",
       "636160 2016-06-30 09:50:00 BROTHERHOOD WAY & ARCH ST.  37.7 -122 I        50 \n",
       "636161 2016-06-30 09:55:00 1650 17THAV                 37.8 -122 I        22 \n",
       "       race                   gender arrested contraband_found searched\n",
       "1      black                  female FALSE    FALSE             TRUE   \n",
       "2      black                  male   FALSE       NA            FALSE   \n",
       "3      white                  female FALSE       NA            FALSE   \n",
       "4      white                  male   FALSE       NA            FALSE   \n",
       "5      white                  male   FALSE       NA            FALSE   \n",
       "6      black                  male   FALSE       NA            FALSE   \n",
       "7      white                  female FALSE       NA            FALSE   \n",
       "8      white                  female FALSE       NA            FALSE   \n",
       "9      white                  female FALSE       NA            FALSE   \n",
       "10     white                  male   FALSE       NA            FALSE   \n",
       "11     white                  male   FALSE       NA            FALSE   \n",
       "12     black                  male   FALSE    FALSE             TRUE   \n",
       "13     black                  male   FALSE       NA            FALSE   \n",
       "14     other                  male   FALSE    FALSE             TRUE   \n",
       "15     black                  male   FALSE       NA            FALSE   \n",
       "16     white                  male   FALSE       NA            FALSE   \n",
       "17     hispanic               male   FALSE       NA            FALSE   \n",
       "18     black                  male   FALSE     TRUE             TRUE   \n",
       "19     asian/pacific islander female FALSE       NA            FALSE   \n",
       "20     white                  male   FALSE       NA            FALSE   \n",
       "21     white                  male   FALSE    FALSE             TRUE   \n",
       "22     white                  male   FALSE       NA            FALSE   \n",
       "23     black                  female FALSE       NA            FALSE   \n",
       "24     asian/pacific islander male   FALSE       NA            FALSE   \n",
       "25     asian/pacific islander male   FALSE       NA            FALSE   \n",
       "26     other                  male   FALSE       NA            FALSE   \n",
       "27     white                  male   FALSE       NA            FALSE   \n",
       "28     asian/pacific islander male   FALSE       NA            FALSE   \n",
       "29     white                  male   FALSE       NA            FALSE   \n",
       "30     asian/pacific islander male   FALSE       NA            FALSE   \n",
       "⋮      ⋮                      ⋮      ⋮        ⋮                ⋮       \n",
       "636132 white                  male   FALSE      NA             FALSE   \n",
       "636133 white                  female FALSE      NA             FALSE   \n",
       "636134 hispanic               male   FALSE      NA             FALSE   \n",
       "636135 hispanic               male   FALSE      NA             FALSE   \n",
       "636136 asian/pacific islander female FALSE      NA             FALSE   \n",
       "636137 hispanic               female FALSE      NA             FALSE   \n",
       "636138 asian/pacific islander male   FALSE      NA             FALSE   \n",
       "636139 hispanic               male   FALSE      NA             FALSE   \n",
       "636140 white                  male   FALSE      NA             FALSE   \n",
       "636141 hispanic               female FALSE      NA             FALSE   \n",
       "636142 white                  male   FALSE      NA             FALSE   \n",
       "636143 white                  male   FALSE      NA             FALSE   \n",
       "636144 white                  male   FALSE      NA             FALSE   \n",
       "636145 hispanic               male   FALSE      NA             FALSE   \n",
       "636146 hispanic               male   FALSE      NA             FALSE   \n",
       "636147 other                  female FALSE      NA             FALSE   \n",
       "636148 white                  female FALSE      NA             FALSE   \n",
       "636149 white                  male   FALSE      NA             FALSE   \n",
       "636150 other                  male   FALSE      NA             FALSE   \n",
       "636151 asian/pacific islander male   FALSE      NA             FALSE   \n",
       "636152 white                  male   FALSE      NA             FALSE   \n",
       "636153 white                  female FALSE      NA             FALSE   \n",
       "636154 hispanic               male   FALSE      NA             FALSE   \n",
       "636155 black                  male   FALSE    TRUE              TRUE   \n",
       "636156 asian/pacific islander male   FALSE      NA             FALSE   \n",
       "636157 hispanic               female FALSE      NA             FALSE   \n",
       "636158 white                  female FALSE      NA             FALSE   \n",
       "636159 asian/pacific islander male   FALSE      NA             FALSE   \n",
       "636160 black                  male   FALSE      NA             FALSE   \n",
       "636161 other                  female FALSE      NA             FALSE   \n",
       "       reason_for_stop                          \n",
       "1      Mechanical or Non-Moving Violation (V.C.)\n",
       "2      Moving Violation                         \n",
       "3      Mechanical or Non-Moving Violation (V.C.)\n",
       "4      Mechanical or Non-Moving Violation (V.C.)\n",
       "5      Mechanical or Non-Moving Violation (V.C.)\n",
       "6      Moving Violation                         \n",
       "7      Moving Violation                         \n",
       "8      Mechanical or Non-Moving Violation (V.C.)\n",
       "9      Moving Violation                         \n",
       "10     Moving Violation                         \n",
       "11     Moving Violation                         \n",
       "12     Moving Violation                         \n",
       "13     Mechanical or Non-Moving Violation (V.C.)\n",
       "14     Mechanical or Non-Moving Violation (V.C.)\n",
       "15     Moving Violation                         \n",
       "16     Moving Violation                         \n",
       "17     Moving Violation                         \n",
       "18     Moving Violation                         \n",
       "19     Moving Violation                         \n",
       "20     Moving Violation                         \n",
       "21     Mechanical or Non-Moving Violation (V.C.)\n",
       "22     Mechanical or Non-Moving Violation (V.C.)\n",
       "23     Moving Violation                         \n",
       "24     Moving Violation                         \n",
       "25     Moving Violation                         \n",
       "26     Mechanical or Non-Moving Violation (V.C.)\n",
       "27     Mechanical or Non-Moving Violation (V.C.)\n",
       "28     Moving Violation                         \n",
       "29     Moving Violation                         \n",
       "30     Moving Violation                         \n",
       "⋮      ⋮                                        \n",
       "636132 Moving Violation                         \n",
       "636133 Moving Violation                         \n",
       "636134 Mechanical or Non-Moving Violation (V.C.)\n",
       "636135 Mechanical or Non-Moving Violation (V.C.)\n",
       "636136 Moving Violation                         \n",
       "636137 Moving Violation                         \n",
       "636138 Moving Violation                         \n",
       "636139 Moving Violation                         \n",
       "636140 Moving Violation                         \n",
       "636141 Moving Violation                         \n",
       "636142 Moving Violation                         \n",
       "636143 Moving Violation                         \n",
       "636144 Moving Violation                         \n",
       "636145 Moving Violation                         \n",
       "636146 Mechanical or Non-Moving Violation (V.C.)\n",
       "636147 Moving Violation                         \n",
       "636148 Moving Violation                         \n",
       "636149 Moving Violation                         \n",
       "636150 Moving Violation                         \n",
       "636151 Moving Violation                         \n",
       "636152 Moving Violation                         \n",
       "636153 Moving Violation                         \n",
       "636154 Mechanical or Non-Moving Violation (V.C.)\n",
       "636155 Mechanical or Non-Moving Violation (V.C.)\n",
       "636156 Moving Violation                         \n",
       "636157 Moving Violation                         \n",
       "636158 Moving Violation                         \n",
       "636159 Moving Violation                         \n",
       "636160 Mechanical or Non-Moving Violation (V.C.)\n",
       "636161 Moving Violation                         "
      ]
     },
     "metadata": {},
     "output_type": "display_data"
    }
   ],
   "source": [
    "stops"
   ]
  },
  {
   "cell_type": "markdown",
   "metadata": {},
   "source": [
    "### Functions\n",
    "\n",
    "In math, functions are a way to \"do something\" to an input. So `f(a)=b` takes a number `a`, and applies `f()`, and gets the output `b`. In programming, we also have functions! Most of the functions we'll use allow us to manipulate our dataframe as the input. \n",
    "\n",
    "So if we want to find the number of rows in our dataframe, we'd use the function `nrow()`, which takes a dataframe (like `stops`) as an input, and then outputs an integer (the number of rows in `stops`)."
   ]
  },
  {
   "cell_type": "code",
   "execution_count": 3,
   "metadata": {},
   "outputs": [
    {
     "data": {
      "text/html": [
       "636161"
      ],
      "text/latex": [
       "636161"
      ],
      "text/markdown": [
       "636161"
      ],
      "text/plain": [
       "[1] 636161"
      ]
     },
     "metadata": {},
     "output_type": "display_data"
    }
   ],
   "source": [
    "nrow(stops)"
   ]
  },
  {
   "cell_type": "markdown",
   "metadata": {},
   "source": [
    "### Your turn\n",
    "\n",
    "To find the number of columns, we (unsurprisingly) use `ncol`. Try it!"
   ]
  },
  {
   "cell_type": "code",
   "execution_count": 4,
   "metadata": {},
   "outputs": [
    {
     "data": {
      "text/html": [
       "13"
      ],
      "text/latex": [
       "13"
      ],
      "text/markdown": [
       "13"
      ],
      "text/plain": [
       "[1] 13"
      ]
     },
     "metadata": {},
     "output_type": "display_data"
    }
   ],
   "source": [
    "# Find the number of columns in `stops`\n",
    "# START\n",
    "ncol(stops)\n",
    "# END"
   ]
  },
  {
   "cell_type": "markdown",
   "metadata": {},
   "source": [
    "To figure out what the names of our columns are, we can use `colnames()`."
   ]
  },
  {
   "cell_type": "code",
   "execution_count": 5,
   "metadata": {},
   "outputs": [
    {
     "data": {
      "text/html": [
       "<ol class=list-inline>\n",
       "\t<li>'date'</li>\n",
       "\t<li>'time'</li>\n",
       "\t<li>'location'</li>\n",
       "\t<li>'lat'</li>\n",
       "\t<li>'lng'</li>\n",
       "\t<li>'district'</li>\n",
       "\t<li>'age'</li>\n",
       "\t<li>'race'</li>\n",
       "\t<li>'gender'</li>\n",
       "\t<li>'arrested'</li>\n",
       "\t<li>'contraband_found'</li>\n",
       "\t<li>'searched'</li>\n",
       "\t<li>'reason_for_stop'</li>\n",
       "</ol>\n"
      ],
      "text/latex": [
       "\\begin{enumerate*}\n",
       "\\item 'date'\n",
       "\\item 'time'\n",
       "\\item 'location'\n",
       "\\item 'lat'\n",
       "\\item 'lng'\n",
       "\\item 'district'\n",
       "\\item 'age'\n",
       "\\item 'race'\n",
       "\\item 'gender'\n",
       "\\item 'arrested'\n",
       "\\item 'contraband\\_found'\n",
       "\\item 'searched'\n",
       "\\item 'reason\\_for\\_stop'\n",
       "\\end{enumerate*}\n"
      ],
      "text/markdown": [
       "1. 'date'\n",
       "2. 'time'\n",
       "3. 'location'\n",
       "4. 'lat'\n",
       "5. 'lng'\n",
       "6. 'district'\n",
       "7. 'age'\n",
       "8. 'race'\n",
       "9. 'gender'\n",
       "10. 'arrested'\n",
       "11. 'contraband_found'\n",
       "12. 'searched'\n",
       "13. 'reason_for_stop'\n",
       "\n",
       "\n"
      ],
      "text/plain": [
       " [1] \"date\"             \"time\"             \"location\"         \"lat\"             \n",
       " [5] \"lng\"              \"district\"         \"age\"              \"race\"            \n",
       " [9] \"gender\"           \"arrested\"         \"contraband_found\" \"searched\"        \n",
       "[13] \"reason_for_stop\" "
      ]
     },
     "metadata": {},
     "output_type": "display_data"
    }
   ],
   "source": [
    "# Find the column names in `stops`\n",
    "# START\n",
    "colnames(stops)\n",
    "# END"
   ]
  },
  {
   "cell_type": "markdown",
   "metadata": {},
   "source": [
    "Now, if we want to take a peak at our dataframe without printing the whole 900,000 x 13 table, we can use the functions `head()` or `tail()` to see the first few or last few rows."
   ]
  },
  {
   "cell_type": "code",
   "execution_count": 6,
   "metadata": {},
   "outputs": [
    {
     "data": {
      "text/html": [
       "<table>\n",
       "<caption>A tibble: 6 × 13</caption>\n",
       "<thead>\n",
       "\t<tr><th scope=col>date</th><th scope=col>time</th><th scope=col>location</th><th scope=col>lat</th><th scope=col>lng</th><th scope=col>district</th><th scope=col>age</th><th scope=col>race</th><th scope=col>gender</th><th scope=col>arrested</th><th scope=col>contraband_found</th><th scope=col>searched</th><th scope=col>reason_for_stop</th></tr>\n",
       "\t<tr><th scope=col>&lt;date&gt;</th><th scope=col>&lt;time&gt;</th><th scope=col>&lt;chr&gt;</th><th scope=col>&lt;dbl&gt;</th><th scope=col>&lt;dbl&gt;</th><th scope=col>&lt;chr&gt;</th><th scope=col>&lt;int&gt;</th><th scope=col>&lt;chr&gt;</th><th scope=col>&lt;fct&gt;</th><th scope=col>&lt;lgl&gt;</th><th scope=col>&lt;lgl&gt;</th><th scope=col>&lt;lgl&gt;</th><th scope=col>&lt;chr&gt;</th></tr>\n",
       "</thead>\n",
       "<tbody>\n",
       "\t<tr><td>2009-01-01</td><td>10:10:00</td><td>1736 PALOU      </td><td>37.7</td><td>-122</td><td>C</td><td>22</td><td>black</td><td>female</td><td>FALSE</td><td>FALSE</td><td> TRUE</td><td>Mechanical or Non-Moving Violation (V.C.)</td></tr>\n",
       "\t<tr><td>2009-01-01</td><td>10:15:00</td><td>THRIFT/PLYMTH   </td><td>37.7</td><td>-122</td><td>I</td><td>44</td><td>black</td><td>male  </td><td>FALSE</td><td>   NA</td><td>FALSE</td><td>Moving Violation                         </td></tr>\n",
       "\t<tr><td>2009-01-01</td><td>10:20:00</td><td>FLORIDA/19TH    </td><td>37.8</td><td>-122</td><td>D</td><td>45</td><td>white</td><td>female</td><td>FALSE</td><td>   NA</td><td>FALSE</td><td>Mechanical or Non-Moving Violation (V.C.)</td></tr>\n",
       "\t<tr><td>2009-01-01</td><td>10:20:00</td><td>19TH AVE/MORAGAE</td><td>37.8</td><td>-122</td><td>I</td><td>27</td><td>white</td><td>male  </td><td>FALSE</td><td>   NA</td><td>FALSE</td><td>Mechanical or Non-Moving Violation (V.C.)</td></tr>\n",
       "\t<tr><td>2009-01-01</td><td>10:36:00</td><td>19TH/LINCOLN    </td><td>37.8</td><td>-122</td><td>I</td><td>29</td><td>white</td><td>male  </td><td>FALSE</td><td>   NA</td><td>FALSE</td><td>Mechanical or Non-Moving Violation (V.C.)</td></tr>\n",
       "\t<tr><td>2009-01-01</td><td>10:40:00</td><td><span style=white-space:pre-wrap>16TH&amp;JULIAN     </span></td><td>37.8</td><td>-122</td><td>D</td><td>34</td><td>black</td><td><span style=white-space:pre-wrap>male  </span></td><td>FALSE</td><td><span style=white-space:pre-wrap>   NA</span></td><td>FALSE</td><td><span style=white-space:pre-wrap>Moving Violation                         </span></td></tr>\n",
       "</tbody>\n",
       "</table>\n"
      ],
      "text/latex": [
       "A tibble: 6 × 13\n",
       "\\begin{tabular}{r|lllllllllllll}\n",
       " date & time & location & lat & lng & district & age & race & gender & arrested & contraband\\_found & searched & reason\\_for\\_stop\\\\\n",
       " <date> & <time> & <chr> & <dbl> & <dbl> & <chr> & <int> & <chr> & <fct> & <lgl> & <lgl> & <lgl> & <chr>\\\\\n",
       "\\hline\n",
       "\t 2009-01-01 & 10:10:00 & 1736 PALOU       & 37.7 & -122 & C & 22 & black & female & FALSE & FALSE &  TRUE & Mechanical or Non-Moving Violation (V.C.)\\\\\n",
       "\t 2009-01-01 & 10:15:00 & THRIFT/PLYMTH    & 37.7 & -122 & I & 44 & black & male   & FALSE &    NA & FALSE & Moving Violation                         \\\\\n",
       "\t 2009-01-01 & 10:20:00 & FLORIDA/19TH     & 37.8 & -122 & D & 45 & white & female & FALSE &    NA & FALSE & Mechanical or Non-Moving Violation (V.C.)\\\\\n",
       "\t 2009-01-01 & 10:20:00 & 19TH AVE/MORAGAE & 37.8 & -122 & I & 27 & white & male   & FALSE &    NA & FALSE & Mechanical or Non-Moving Violation (V.C.)\\\\\n",
       "\t 2009-01-01 & 10:36:00 & 19TH/LINCOLN     & 37.8 & -122 & I & 29 & white & male   & FALSE &    NA & FALSE & Mechanical or Non-Moving Violation (V.C.)\\\\\n",
       "\t 2009-01-01 & 10:40:00 & 16TH\\&JULIAN      & 37.8 & -122 & D & 34 & black & male   & FALSE &    NA & FALSE & Moving Violation                         \\\\\n",
       "\\end{tabular}\n"
      ],
      "text/markdown": [
       "\n",
       "A tibble: 6 × 13\n",
       "\n",
       "| date &lt;date&gt; | time &lt;time&gt; | location &lt;chr&gt; | lat &lt;dbl&gt; | lng &lt;dbl&gt; | district &lt;chr&gt; | age &lt;int&gt; | race &lt;chr&gt; | gender &lt;fct&gt; | arrested &lt;lgl&gt; | contraband_found &lt;lgl&gt; | searched &lt;lgl&gt; | reason_for_stop &lt;chr&gt; |\n",
       "|---|---|---|---|---|---|---|---|---|---|---|---|---|\n",
       "| 2009-01-01 | 10:10:00 | 1736 PALOU       | 37.7 | -122 | C | 22 | black | female | FALSE | FALSE |  TRUE | Mechanical or Non-Moving Violation (V.C.) |\n",
       "| 2009-01-01 | 10:15:00 | THRIFT/PLYMTH    | 37.7 | -122 | I | 44 | black | male   | FALSE |    NA | FALSE | Moving Violation                          |\n",
       "| 2009-01-01 | 10:20:00 | FLORIDA/19TH     | 37.8 | -122 | D | 45 | white | female | FALSE |    NA | FALSE | Mechanical or Non-Moving Violation (V.C.) |\n",
       "| 2009-01-01 | 10:20:00 | 19TH AVE/MORAGAE | 37.8 | -122 | I | 27 | white | male   | FALSE |    NA | FALSE | Mechanical or Non-Moving Violation (V.C.) |\n",
       "| 2009-01-01 | 10:36:00 | 19TH/LINCOLN     | 37.8 | -122 | I | 29 | white | male   | FALSE |    NA | FALSE | Mechanical or Non-Moving Violation (V.C.) |\n",
       "| 2009-01-01 | 10:40:00 | 16TH&amp;JULIAN      | 37.8 | -122 | D | 34 | black | male   | FALSE |    NA | FALSE | Moving Violation                          |\n",
       "\n"
      ],
      "text/plain": [
       "  date       time     location         lat  lng  district age race  gender\n",
       "1 2009-01-01 10:10:00 1736 PALOU       37.7 -122 C        22  black female\n",
       "2 2009-01-01 10:15:00 THRIFT/PLYMTH    37.7 -122 I        44  black male  \n",
       "3 2009-01-01 10:20:00 FLORIDA/19TH     37.8 -122 D        45  white female\n",
       "4 2009-01-01 10:20:00 19TH AVE/MORAGAE 37.8 -122 I        27  white male  \n",
       "5 2009-01-01 10:36:00 19TH/LINCOLN     37.8 -122 I        29  white male  \n",
       "6 2009-01-01 10:40:00 16TH&JULIAN      37.8 -122 D        34  black male  \n",
       "  arrested contraband_found searched reason_for_stop                          \n",
       "1 FALSE    FALSE             TRUE    Mechanical or Non-Moving Violation (V.C.)\n",
       "2 FALSE       NA            FALSE    Moving Violation                         \n",
       "3 FALSE       NA            FALSE    Mechanical or Non-Moving Violation (V.C.)\n",
       "4 FALSE       NA            FALSE    Mechanical or Non-Moving Violation (V.C.)\n",
       "5 FALSE       NA            FALSE    Mechanical or Non-Moving Violation (V.C.)\n",
       "6 FALSE       NA            FALSE    Moving Violation                         "
      ]
     },
     "metadata": {},
     "output_type": "display_data"
    }
   ],
   "source": [
    "head(stops)"
   ]
  },
  {
   "cell_type": "markdown",
   "metadata": {},
   "source": [
    "**Pro-tip:** If you're ever confused about a function and want to know more about it, what it does, how to use it, etc., every function has \"documentation\" to help! To know more about the `head()` function, simply run a code chunk with `?head`. It provides way more information than you might want or need -- but if you scroll down to the \"Examples\" section, those usually help!"
   ]
  },
  {
   "cell_type": "markdown",
   "metadata": {},
   "source": [
    "## Exercise 1: Stop dates\n",
    "\n",
    "For this first exercise, let's get a better sense of what time range our `stops` data covers. To do this, we'll be dealing with the `date` column in our dataframe. \n",
    "\n",
    "1. What happens when you run `stops$date`? How about `pull(stops, date)`? What do `$` and `pull()` do?\n",
    "\n",
    "2. What date range does our dataset cover? (Hint: Try exploring the `min()` and `max()` functions, or the `range()` function!)"
   ]
  },
  {
   "cell_type": "code",
   "execution_count": 7,
   "metadata": {},
   "outputs": [
    {
     "data": {
      "text/html": [
       "<ol class=list-inline>\n",
       "\t<li><time datetime=\"2009-01-01\">2009-01-01</time></li>\n",
       "\t<li><time datetime=\"2016-06-30\">2016-06-30</time></li>\n",
       "</ol>\n"
      ],
      "text/latex": [
       "\\begin{enumerate*}\n",
       "\\item 2009-01-01\n",
       "\\item 2016-06-30\n",
       "\\end{enumerate*}\n"
      ],
      "text/markdown": [
       "1. 2009-01-01\n",
       "2. 2016-06-30\n",
       "\n",
       "\n"
      ],
      "text/plain": [
       "[1] \"2009-01-01\" \"2016-06-30\""
      ]
     },
     "metadata": {},
     "output_type": "display_data"
    }
   ],
   "source": [
    "## EXERCISE 1: YOUR CODE HERE\n",
    "# START\n",
    "# 1. \n",
    "# We get a list of the date each stop occurred on. \n",
    "# Both methods ($ and pull) do the same thing, they\n",
    "# extract the column `date` from the df.\n",
    "\n",
    "# 2. \n",
    "range(stops$date)\n",
    "# END"
   ]
  },
  {
   "cell_type": "markdown",
   "metadata": {},
   "source": [
    "Take a look at the two versions of the code below. They do the same thing. See if you can understand what's going on in the second one -- what does `%>%` seem to be doing?"
   ]
  },
  {
   "cell_type": "code",
   "execution_count": 8,
   "metadata": {},
   "outputs": [
    {
     "data": {
      "text/html": [
       "<ol class=list-inline>\n",
       "\t<li><time datetime=\"2009-01-01\">2009-01-01</time></li>\n",
       "\t<li><time datetime=\"2016-06-30\">2016-06-30</time></li>\n",
       "</ol>\n"
      ],
      "text/latex": [
       "\\begin{enumerate*}\n",
       "\\item 2009-01-01\n",
       "\\item 2016-06-30\n",
       "\\end{enumerate*}\n"
      ],
      "text/markdown": [
       "1. 2009-01-01\n",
       "2. 2016-06-30\n",
       "\n",
       "\n"
      ],
      "text/plain": [
       "[1] \"2009-01-01\" \"2016-06-30\""
      ]
     },
     "metadata": {},
     "output_type": "display_data"
    },
    {
     "data": {
      "text/html": [
       "<ol class=list-inline>\n",
       "\t<li><time datetime=\"2009-01-01\">2009-01-01</time></li>\n",
       "\t<li><time datetime=\"2016-06-30\">2016-06-30</time></li>\n",
       "</ol>\n"
      ],
      "text/latex": [
       "\\begin{enumerate*}\n",
       "\\item 2009-01-01\n",
       "\\item 2016-06-30\n",
       "\\end{enumerate*}\n"
      ],
      "text/markdown": [
       "1. 2009-01-01\n",
       "2. 2016-06-30\n",
       "\n",
       "\n"
      ],
      "text/plain": [
       "[1] \"2009-01-01\" \"2016-06-30\""
      ]
     },
     "metadata": {},
     "output_type": "display_data"
    }
   ],
   "source": [
    "# Confirm that these give the same answer:\n",
    "\n",
    "# Method 1: nested\n",
    "range(pull(stops, date))\n",
    "\n",
    "# Method 2: multi-line\n",
    "stops %>% \n",
    "    pull(date) %>% \n",
    "    range()\n"
   ]
  },
  {
   "cell_type": "markdown",
   "metadata": {},
   "source": [
    "**tidyverse tip**: The second method uses a funky symbol, `%>%` called the \"pipe\", which is the crux of the tidyverse. The pipe helps to keep our code clean. It allows us to read top-down rather than inside-out (which is what method 1 above requires of us). Each line simply applies to the result of the previous line:\n",
    "* We start with `stops`,\n",
    "* then we apply `pull(date)` to the above (stops), getting us a list of dates,\n",
    "* then we apply `range()` to the above (a list of dates).\n",
    "\n",
    "More formally, the pipe operator\n",
    "just places the previous item into the first argument of the function. So,\n",
    "`x %>% f()` is simply `f(x)`. While in a one-function call the pipe might feel\n",
    "silly and unnecessary, it's going to become _really_ helpful once we start\n",
    "wanting to do multiple transformations to our data. "
   ]
  },
  {
   "cell_type": "markdown",
   "metadata": {},
   "source": [
    "## Preparing our data\n",
    "\n",
    "For some of our analysis, we'll want to focus on the most recent full year: 2015.\n",
    "\n",
    "To do this we'll want to use the _year_ of each stop, but _year_ isn't currently a column in our dataset. Let's add it!"
   ]
  },
  {
   "cell_type": "markdown",
   "metadata": {},
   "source": [
    "**tidyverse function: `mutate()`**\n",
    "\n",
    "We can use the `mutate()` function to fix add a `yr` column to `stops`.\n",
    "The `mutate()` function adds new columns to a dataframe based on old columns.\n",
    "The basic setup is `mutate(DATA, NEW_COL = FUN(OLD_COL))` where \n",
    "* `DATA` is our\n",
    "dataframe, \n",
    "* `NEW_COL` is the name of the new column we want, and \n",
    "* `FUN` is the function we apply to the old column, `OLD_COL`, to get it.\n",
    "\n",
    "### You try!\n",
    "\n",
    "In the space below:\n",
    "\n",
    "1. use the `year()` and `mutate()` functions to add a new column called `yr` to our `stops` dataframe, and\n",
    "2. use the assignment operator `<-` (it's like = in `R`) to create a new variable, `stops_w_yr`."
   ]
  },
  {
   "cell_type": "code",
   "execution_count": 9,
   "metadata": {},
   "outputs": [],
   "source": [
    "# Add a yr column to `stops`\n",
    "# START\n",
    "stops_w_yr <- stops %>% mutate(yr = year(date))\n",
    "# END"
   ]
  },
  {
   "cell_type": "markdown",
   "metadata": {},
   "source": [
    "**Note:** When we write code chunks and _don't_ save our result using `<-`, that result does not overwrite or in any way change the data. To change the data, we need to use the process above, creating a new variable, or we could overwrite the original dataframe (`stops <- stops %>% ...` -- but be careful, because you could accidentally overwrite the dataframe with something you didn't expect!)"
   ]
  },
  {
   "cell_type": "markdown",
   "metadata": {},
   "source": [
    "Now, we can investigate this new `yr` column in a few ways. \n",
    "1. We can check it's acutally there by looking at `colnames(stops_w_yr)`.\n",
    "2. We can compute the range of years using `range(stops_w_yr$yr)`.\n",
    "3. We can count the number of stops per year: `stops_w_yr %>% count(yr)`. \n",
    "\n",
    "### You try\n",
    "\n",
    "Play around with these! Make sure to try the last one."
   ]
  },
  {
   "cell_type": "code",
   "execution_count": 10,
   "metadata": {},
   "outputs": [
    {
     "data": {
      "text/html": [
       "<table>\n",
       "<caption>A tibble: 8 × 2</caption>\n",
       "<thead>\n",
       "\t<tr><th scope=col>yr</th><th scope=col>n</th></tr>\n",
       "\t<tr><th scope=col>&lt;dbl&gt;</th><th scope=col>&lt;int&gt;</th></tr>\n",
       "</thead>\n",
       "<tbody>\n",
       "\t<tr><td>2009</td><td>110269</td></tr>\n",
       "\t<tr><td>2010</td><td>104254</td></tr>\n",
       "\t<tr><td>2011</td><td> 99476</td></tr>\n",
       "\t<tr><td>2012</td><td> 82362</td></tr>\n",
       "\t<tr><td>2013</td><td> 74144</td></tr>\n",
       "\t<tr><td>2014</td><td> 39752</td></tr>\n",
       "\t<tr><td>2015</td><td> 85689</td></tr>\n",
       "\t<tr><td>2016</td><td> 40215</td></tr>\n",
       "</tbody>\n",
       "</table>\n"
      ],
      "text/latex": [
       "A tibble: 8 × 2\n",
       "\\begin{tabular}{r|ll}\n",
       " yr & n\\\\\n",
       " <dbl> & <int>\\\\\n",
       "\\hline\n",
       "\t 2009 & 110269\\\\\n",
       "\t 2010 & 104254\\\\\n",
       "\t 2011 &  99476\\\\\n",
       "\t 2012 &  82362\\\\\n",
       "\t 2013 &  74144\\\\\n",
       "\t 2014 &  39752\\\\\n",
       "\t 2015 &  85689\\\\\n",
       "\t 2016 &  40215\\\\\n",
       "\\end{tabular}\n"
      ],
      "text/markdown": [
       "\n",
       "A tibble: 8 × 2\n",
       "\n",
       "| yr &lt;dbl&gt; | n &lt;int&gt; |\n",
       "|---|---|\n",
       "| 2009 | 110269 |\n",
       "| 2010 | 104254 |\n",
       "| 2011 |  99476 |\n",
       "| 2012 |  82362 |\n",
       "| 2013 |  74144 |\n",
       "| 2014 |  39752 |\n",
       "| 2015 |  85689 |\n",
       "| 2016 |  40215 |\n",
       "\n"
      ],
      "text/plain": [
       "  yr   n     \n",
       "1 2009 110269\n",
       "2 2010 104254\n",
       "3 2011  99476\n",
       "4 2012  82362\n",
       "5 2013  74144\n",
       "6 2014  39752\n",
       "7 2015  85689\n",
       "8 2016  40215"
      ]
     },
     "metadata": {},
     "output_type": "display_data"
    }
   ],
   "source": [
    "# Investigate your new `yr` column. \n",
    "# Make sure to try counting the number of stops per year!\n",
    "# START\n",
    "stops_w_yr %>%\n",
    "    count(yr)\n",
    "# END"
   ]
  },
  {
   "cell_type": "markdown",
   "metadata": {},
   "source": [
    "### Discuss\n",
    "\n",
    "What do you notice about stop counts over the years?\n",
    "\n",
    "### Back to data prep\n",
    "\n",
    "Now let's get back to prepping our data. To get to our desired date range of the most recent full year (2015), we will \n",
    "1. Use the `filter()` function to specify the years we want, and \n",
    "2. Again use the assignment operator `<-` (it's like = in `R`) to create a new variable, `stops_2015`."
   ]
  },
  {
   "cell_type": "markdown",
   "metadata": {},
   "source": [
    "**tidyverse function: `filter()`**\n",
    "\n",
    "* The `filter()` function is used to separate rows from the dataframe that\n",
    "interest us from rows that do not. \n",
    "* In particular, `filter(DATA, CONDITION)`\n",
    "returns `DATA` with all of the rows that satisfy `CONDITION` removed. \n",
    "* For\n",
    "instance, we might want to only look at stops from 2015. To do this, we would type `stops %>% filter(yr == 2015)`, since we only want\n",
    "rows from `stops` where the `yr` column is (i.e., `==`) `2015`. \n",
    "* We can also filter on multiple conditions, just separating each condition with a comma. So, for example, if we wanted all stops between 2011 and 2015, we would write `stops %>% filter(yr >= 2011, yr <=2015)`.\n",
    "\n",
    "### Your turn\n",
    "\n",
    "Create a new variable, `stops_2015` that is our stops dataframe filtered to just those that happened in the year (`yr`) 2015. "
   ]
  },
  {
   "cell_type": "code",
   "execution_count": 11,
   "metadata": {},
   "outputs": [],
   "source": [
    "# Use the filter function to get just stops from 2015\n",
    "# START\n",
    "stops_2015 <- \n",
    "    stops_w_yr %>%\n",
    "    filter(yr == 2015)\n",
    "# END"
   ]
  },
  {
   "cell_type": "markdown",
   "metadata": {},
   "source": [
    "Just to be extra sure, let's check our date range in this new dataframe, `stops_2015`!"
   ]
  },
  {
   "cell_type": "code",
   "execution_count": 12,
   "metadata": {},
   "outputs": [
    {
     "data": {
      "text/html": [
       "<ol class=list-inline>\n",
       "\t<li><time datetime=\"2015-01-01\">2015-01-01</time></li>\n",
       "\t<li><time datetime=\"2015-12-31\">2015-12-31</time></li>\n",
       "</ol>\n"
      ],
      "text/latex": [
       "\\begin{enumerate*}\n",
       "\\item 2015-01-01\n",
       "\\item 2015-12-31\n",
       "\\end{enumerate*}\n"
      ],
      "text/markdown": [
       "1. 2015-01-01\n",
       "2. 2015-12-31\n",
       "\n",
       "\n"
      ],
      "text/plain": [
       "[1] \"2015-01-01\" \"2015-12-31\""
      ]
     },
     "metadata": {},
     "output_type": "display_data"
    }
   ],
   "source": [
    "# What date range does stops_2015 cover?\n",
    "# START\n",
    "stops_2015$date %>% range()\n",
    "# END"
   ]
  },
  {
   "cell_type": "markdown",
   "metadata": {},
   "source": [
    "## Exercise 2: Stops by race group\n",
    "\n",
    "For this second exercise, let's compute the racial breakdown of traffic stops. To do this, we'll need two functions that we've already seen: `count()` and `mutate()`.\n",
    "\n",
    "1. Count how many stops per race group our `stops_2015` dataset has, saving your result to a new dataframe: `stops_by_race`. \n",
    "\n",
    "2. Describe in words what we'd need to do to find the proportion of stops that were of white drivers.\n",
    "\n",
    "3. To do the above computation for each race group, we can add additional column to `stops_by_race` using the `mutate()` function. Overwrite `stops_by_race`, adding a new column `p` with the proportion of stops that were made of drivers of each race group.\n",
    "\n",
    "4. Discuss: What do these proportions mean? Are drivers of certain race groups being stopped more than others? What might we be missing to really start interpreting these values?"
   ]
  },
  {
   "cell_type": "code",
   "execution_count": 13,
   "metadata": {},
   "outputs": [
    {
     "data": {
      "text/html": [
       "<table>\n",
       "<caption>A tibble: 5 × 3</caption>\n",
       "<thead>\n",
       "\t<tr><th scope=col>race</th><th scope=col>n</th><th scope=col>p</th></tr>\n",
       "\t<tr><th scope=col>&lt;chr&gt;</th><th scope=col>&lt;int&gt;</th><th scope=col>&lt;dbl&gt;</th></tr>\n",
       "</thead>\n",
       "<tbody>\n",
       "\t<tr><td>asian/pacific islander</td><td>15498</td><td>0.181</td></tr>\n",
       "\t<tr><td>black                 </td><td>14955</td><td>0.175</td></tr>\n",
       "\t<tr><td>hispanic              </td><td>11911</td><td>0.139</td></tr>\n",
       "\t<tr><td>other                 </td><td>13560</td><td>0.158</td></tr>\n",
       "\t<tr><td>white                 </td><td>29765</td><td>0.347</td></tr>\n",
       "</tbody>\n",
       "</table>\n"
      ],
      "text/latex": [
       "A tibble: 5 × 3\n",
       "\\begin{tabular}{r|lll}\n",
       " race & n & p\\\\\n",
       " <chr> & <int> & <dbl>\\\\\n",
       "\\hline\n",
       "\t asian/pacific islander & 15498 & 0.181\\\\\n",
       "\t black                  & 14955 & 0.175\\\\\n",
       "\t hispanic               & 11911 & 0.139\\\\\n",
       "\t other                  & 13560 & 0.158\\\\\n",
       "\t white                  & 29765 & 0.347\\\\\n",
       "\\end{tabular}\n"
      ],
      "text/markdown": [
       "\n",
       "A tibble: 5 × 3\n",
       "\n",
       "| race &lt;chr&gt; | n &lt;int&gt; | p &lt;dbl&gt; |\n",
       "|---|---|---|\n",
       "| asian/pacific islander | 15498 | 0.181 |\n",
       "| black                  | 14955 | 0.175 |\n",
       "| hispanic               | 11911 | 0.139 |\n",
       "| other                  | 13560 | 0.158 |\n",
       "| white                  | 29765 | 0.347 |\n",
       "\n"
      ],
      "text/plain": [
       "  race                   n     p    \n",
       "1 asian/pacific islander 15498 0.181\n",
       "2 black                  14955 0.175\n",
       "3 hispanic               11911 0.139\n",
       "4 other                  13560 0.158\n",
       "5 white                  29765 0.347"
      ]
     },
     "metadata": {},
     "output_type": "display_data"
    }
   ],
   "source": [
    "# EXERCISE 2: YOUR CODE HERE\n",
    "# START\n",
    "# 1. \n",
    "stops_by_race <- stops_2015 %>% count(race)\n",
    "# 2.\n",
    "# Divide each count (num stops by race) by the total (num overall stops)\n",
    "# 3. \n",
    "stops_by_race <- stops_by_race %>% mutate(p = n / sum(n))\n",
    "# 4. \n",
    "stops_by_race\n",
    "# This means 35% of stops were of white drivers, 18% of black drivers\n",
    "# 18% Aisan, 14% Hispanic, etc. \n",
    "# It seems like the biggest race group being stopped are white drivers.\n",
    "# But, i know that SF has a pretty large white population -- probably\n",
    "# more than 35% of SF is white...so maybe they're actually \n",
    "# underrepresented in stops? We'd need to know the population to be \n",
    "# able to answer this question of whether some race groups are being \n",
    "# stopped disproportionately.\n",
    "# We see white drivers make up about one-third of stops, and drivers \n",
    "# of each other race represent 14-18%. The by-race stop counts are \n",
    "# only meaningful, though, when compared to some baseline. If the \n",
    "# San Francisco population was about one-third white, one-third \n",
    "# percent of stops being of white drivers wouldn't be at all \n",
    "# surprising. But if 75% of the SF population is white, then our \n",
    "# findings might be more suspicious!\n",
    "# END"
   ]
  },
  {
   "cell_type": "markdown",
   "metadata": {},
   "source": [
    "## Stop rates\n",
    "\n",
    "In order to do this baseline comparison, we need to understand the racial\n",
    "demographics in our SF population data. (Note: This is why we wanted just one full year: comparing the number of stops in a year to the population from that year.) The data as we've given it to you\n",
    "has raw population numbers from 2015. To make it useful, we'll need to compute the\n",
    "_proportion_ of SF residents in each demographic group. As before, we do this using the `mutate()` function.\n",
    "\n",
    "### You try\n",
    "\n",
    "* Take a look at `pop_2015`, then\n",
    "* mutate `pop_2015`, adding a column `p` that shows us what proportion of the population is white, black, Hispanic, Asian, and other."
   ]
  },
  {
   "cell_type": "code",
   "execution_count": 14,
   "metadata": {},
   "outputs": [
    {
     "data": {
      "text/html": [
       "<table>\n",
       "<caption>A tibble: 5 × 3</caption>\n",
       "<thead>\n",
       "\t<tr><th scope=col>race</th><th scope=col>n_people</th><th scope=col>p</th></tr>\n",
       "\t<tr><th scope=col>&lt;chr&gt;</th><th scope=col>&lt;dbl&gt;</th><th scope=col>&lt;dbl&gt;</th></tr>\n",
       "</thead>\n",
       "<tbody>\n",
       "\t<tr><td>white                 </td><td>346732</td><td>0.4124</td></tr>\n",
       "\t<tr><td>black                 </td><td> 44879</td><td>0.0534</td></tr>\n",
       "\t<tr><td>hispanic              </td><td>128619</td><td>0.1530</td></tr>\n",
       "\t<tr><td>asian/pacific islander</td><td>285266</td><td>0.3393</td></tr>\n",
       "\t<tr><td>other                 </td><td> 35267</td><td>0.0419</td></tr>\n",
       "</tbody>\n",
       "</table>\n"
      ],
      "text/latex": [
       "A tibble: 5 × 3\n",
       "\\begin{tabular}{r|lll}\n",
       " race & n\\_people & p\\\\\n",
       " <chr> & <dbl> & <dbl>\\\\\n",
       "\\hline\n",
       "\t white                  & 346732 & 0.4124\\\\\n",
       "\t black                  &  44879 & 0.0534\\\\\n",
       "\t hispanic               & 128619 & 0.1530\\\\\n",
       "\t asian/pacific islander & 285266 & 0.3393\\\\\n",
       "\t other                  &  35267 & 0.0419\\\\\n",
       "\\end{tabular}\n"
      ],
      "text/markdown": [
       "\n",
       "A tibble: 5 × 3\n",
       "\n",
       "| race &lt;chr&gt; | n_people &lt;dbl&gt; | p &lt;dbl&gt; |\n",
       "|---|---|---|\n",
       "| white                  | 346732 | 0.4124 |\n",
       "| black                  |  44879 | 0.0534 |\n",
       "| hispanic               | 128619 | 0.1530 |\n",
       "| asian/pacific islander | 285266 | 0.3393 |\n",
       "| other                  |  35267 | 0.0419 |\n",
       "\n"
      ],
      "text/plain": [
       "  race                   n_people p     \n",
       "1 white                  346732   0.4124\n",
       "2 black                   44879   0.0534\n",
       "3 hispanic               128619   0.1530\n",
       "4 asian/pacific islander 285266   0.3393\n",
       "5 other                   35267   0.0419"
      ]
     },
     "metadata": {},
     "output_type": "display_data"
    }
   ],
   "source": [
    "# Find the racial breakdown of SF's 2015 population\n",
    "# START\n",
    "pop_2015 %>%\n",
    "    mutate(p = n_people / (sum(n_people)))\n",
    "# END"
   ]
  },
  {
   "cell_type": "markdown",
   "metadata": {},
   "source": [
    "### Discuss\n",
    "\n",
    "What do the population proportions tell you about the stop proportions we computed before?\n",
    "\n",
    "\n",
    "### Adding rigor\n",
    "\n",
    "We can tell a lot just by eyeballing these two sets of proportions. But let's be a bit more\n",
    "rigorous about this. If we merge the two tables together, we can compute stop \n",
    "rates by race group (i.e., number of stops per person). "
   ]
  },
  {
   "cell_type": "markdown",
   "metadata": {},
   "source": [
    "**R function: `merge()`**\n",
    "\n",
    "One way to put tables together is with the `merge()` function. We need to\n",
    "input three things into this function: \n",
    " 1. our main table\n",
    " 2. the second table we'd like to merge with the first table, and\n",
    " 3. instructions on how to merge them. \n",
    "\n",
    "In this case, the two tables we\n",
    "want to merge are \n",
    " 1. the table of stops counted according to `race`, and\n",
    " 2. the table of population by race: `pop_2015`. \n",
    " \n",
    "The instruction for combining the tables is \n",
    " 3. to merge rows that give information about the same race groups.\n",
    "\n",
    "To implement 3., we give `merge()` the argument `by =\n",
    "\"race\"`. This means that `merge()` will \n",
    " * look at the first table---\n",
    "i.e., the table stops counted by race---and go to the `race` column\n",
    "in each row.\n",
    " * Then, `merge()` will take what it finds there---in this case,\n",
    "`\"asian/pacific islander\"`, `\"black\"`, `\"hispanic\"`, `\"other/unknown\"`, and\n",
    "`\"white\"`---and look in the second table, i.e., `pop_2015`, for all the\n",
    "rows that contain the same information in `pop_2015`'s race column.\n",
    " * Finally,\n",
    "it will add the second row at the end of the first to create a new row with\n",
    "information from both. \n",
    "\n",
    "What we end up with is a dataframe with all of the\n",
    "columns from _both_ tables.\n",
    "\n",
    "The process is a little complicated, and we won't use it too much, so don't\n",
    "worry if the abstract description doesn't make sense. To get a better\n",
    "understanding of what's going on, try merging the two tables described above,\n",
    "being sure to include the `by = \"race\"` argument.\n"
   ]
  },
  {
   "cell_type": "markdown",
   "metadata": {},
   "source": [
    "## Exercise 3: computing stop rates by race group\n",
    "\n",
    "1. First, merge together `stops_by_race` and `pop_2015` by \"race\", using the `merge()` function. Name your result `stops_and_pop_by_race`.\n",
    "2. Add a column `stop_rate` to `stops_and_pop_by_race`, that is simply the number of stops divided by the number of people. (Hint: the `mutate()` function will be helpful!)\n",
    "3. Now we can divide the black (or Asian, or Hispanic, or \"other\") stop rate by the white stop rate to be able to make \n",
    "a quantitative statement about how much more often black drivers are stopped compared to white drivers, relative to their share of the city's population. Using `R` as a calculator, do this!\n",
    "4. Discuss your results."
   ]
  },
  {
   "cell_type": "code",
   "execution_count": 15,
   "metadata": {},
   "outputs": [
    {
     "data": {
      "text/html": [
       "<table>\n",
       "<caption>A data.frame: 5 × 5</caption>\n",
       "<thead>\n",
       "\t<tr><th scope=col>race</th><th scope=col>n</th><th scope=col>p</th><th scope=col>n_people</th><th scope=col>stop_rate</th></tr>\n",
       "\t<tr><th scope=col>&lt;chr&gt;</th><th scope=col>&lt;int&gt;</th><th scope=col>&lt;dbl&gt;</th><th scope=col>&lt;dbl&gt;</th><th scope=col>&lt;dbl&gt;</th></tr>\n",
       "</thead>\n",
       "<tbody>\n",
       "\t<tr><td>asian/pacific islander</td><td>15498</td><td>0.181</td><td>285266</td><td>0.0543</td></tr>\n",
       "\t<tr><td>black                 </td><td>14955</td><td>0.175</td><td> 44879</td><td>0.3332</td></tr>\n",
       "\t<tr><td>hispanic              </td><td>11911</td><td>0.139</td><td>128619</td><td>0.0926</td></tr>\n",
       "\t<tr><td>other                 </td><td>13560</td><td>0.158</td><td> 35267</td><td>0.3845</td></tr>\n",
       "\t<tr><td>white                 </td><td>29765</td><td>0.347</td><td>346732</td><td>0.0858</td></tr>\n",
       "</tbody>\n",
       "</table>\n"
      ],
      "text/latex": [
       "A data.frame: 5 × 5\n",
       "\\begin{tabular}{r|lllll}\n",
       " race & n & p & n\\_people & stop\\_rate\\\\\n",
       " <chr> & <int> & <dbl> & <dbl> & <dbl>\\\\\n",
       "\\hline\n",
       "\t asian/pacific islander & 15498 & 0.181 & 285266 & 0.0543\\\\\n",
       "\t black                  & 14955 & 0.175 &  44879 & 0.3332\\\\\n",
       "\t hispanic               & 11911 & 0.139 & 128619 & 0.0926\\\\\n",
       "\t other                  & 13560 & 0.158 &  35267 & 0.3845\\\\\n",
       "\t white                  & 29765 & 0.347 & 346732 & 0.0858\\\\\n",
       "\\end{tabular}\n"
      ],
      "text/markdown": [
       "\n",
       "A data.frame: 5 × 5\n",
       "\n",
       "| race &lt;chr&gt; | n &lt;int&gt; | p &lt;dbl&gt; | n_people &lt;dbl&gt; | stop_rate &lt;dbl&gt; |\n",
       "|---|---|---|---|---|\n",
       "| asian/pacific islander | 15498 | 0.181 | 285266 | 0.0543 |\n",
       "| black                  | 14955 | 0.175 |  44879 | 0.3332 |\n",
       "| hispanic               | 11911 | 0.139 | 128619 | 0.0926 |\n",
       "| other                  | 13560 | 0.158 |  35267 | 0.3845 |\n",
       "| white                  | 29765 | 0.347 | 346732 | 0.0858 |\n",
       "\n"
      ],
      "text/plain": [
       "  race                   n     p     n_people stop_rate\n",
       "1 asian/pacific islander 15498 0.181 285266   0.0543   \n",
       "2 black                  14955 0.175  44879   0.3332   \n",
       "3 hispanic               11911 0.139 128619   0.0926   \n",
       "4 other                  13560 0.158  35267   0.3845   \n",
       "5 white                  29765 0.347 346732   0.0858   "
      ]
     },
     "metadata": {},
     "output_type": "display_data"
    },
    {
     "name": "stdout",
     "output_type": "stream",
     "text": [
      "[1] 3.88\n",
      "[1] 1.08\n",
      "[1] 0.633\n",
      "[1] 4.48\n"
     ]
    }
   ],
   "source": [
    "# EXERCISE 3: YOUR CODE HERE\n",
    "# START\n",
    "# 1.\n",
    "stops_and_pop_by_race <- \n",
    "    merge(\n",
    "        stops_by_race,\n",
    "        pop_2015, \n",
    "        by = \"race\"\n",
    "    )\n",
    "# 2. \n",
    "stop_rates <- \n",
    "    stops_and_pop_by_race %>%\n",
    "    mutate(stop_rate = n / n_people)\n",
    "# 3. \n",
    "stop_rates\n",
    "# black-white stop rate ratio:\n",
    "print(0.3332/0.0858)\n",
    "# Hispanic-white stop rate ratio:\n",
    "print(0.0926/0.0858)\n",
    "# Asian-white stop rate ratio:\n",
    "print(0.0543/0.0858)\n",
    "# other-white stop rate ratio:\n",
    "print(0.3845/0.0858)\n",
    "# END"
   ]
  },
  {
   "cell_type": "markdown",
   "metadata": {},
   "source": [
    "### Thought exercise: where stop rates fall short\n",
    "\n",
    "While these baseline stats give us a sense that there are racial disparities in\n",
    "policing practices in SF, they are not strong evidence of discrimination. The\n",
    "argument against using stop rates (often called \"benchmarking\" or the \"benchmark test\") is that we haven't identified the correct\n",
    "baseline to compare to. \n",
    "* Why isn't population the best thing to compare to (i.e., the best denominator of our stop rate)?\n",
    "* What would the ideal denominator of our stop rate be?\n",
    "* What other baselines (denominators) could we use? Are any of these ideal?"
   ]
  },
  {
   "cell_type": "code",
   "execution_count": 16,
   "metadata": {},
   "outputs": [],
   "source": [
    "# Your thoughts here (or just discuss)\n",
    "# START\n",
    "# For the stop rate denominator, what we really want to know is what \n",
    "# the true distribution is for individuals breaking traffic laws or \n",
    "# exhibiting other criminal behavior in their vehicles. But using \n",
    "# SF residential population doesn't account for commuting \n",
    "# populations, or possible race-specific differences in driving \n",
    "# behavior,including amount of time spent on the road (and \n",
    "# adherence to traffic laws, as mentioned above).  If black \n",
    "# drivers, hypothetically, spend more time on the road than white \n",
    "# drivers, that in and of itself could explain the higher stop\n",
    "# rates we see for black drivers, even in the absence of \n",
    "# discrimination.\n",
    "# We could try using violation rates as a baseline, but those can \n",
    "# be racially skewed by the vary systems we're trying to evaluate! \n",
    "# We can try something that's less racially skewed, like violent\n",
    "# crime rates, but violent crime rates have very little to do with\n",
    "# traffic infractions! We really don't have any ideal baseline here. \n",
    "# END "
   ]
  },
  {
   "cell_type": "markdown",
   "metadata": {},
   "source": [
    "## Searches\n",
    "\n",
    "Let's next consider how often drivers of different race groups were searched. Computing search rates is actually easier than stop rates because we don't need an external population benchmark.\n",
    "We can use the stopped population as our baseline, defining search rate to be the proportion of stopped people who were subsequently searched. "
   ]
  },
  {
   "cell_type": "markdown",
   "metadata": {},
   "source": [
    "**tidyverse functions: `group_by()` and `summarize()`**\n",
    "\n",
    "One thing that we often want to do with data is disaggregate it. That is, we\n",
    "might want to take the data and break it down into smaller subpopulations. Then,\n",
    "when we ask questions, we can ask about each piece---for instance, each\n",
    "demographic group, or each police district---instead of asking about the population as a whole.\n",
    "\n",
    "The way to do this in `R` is with `group_by()` and `summarize()`. The standard way\n",
    "to use `group_by()` is to call `group_by(DATA, COL_NAME)`, where \n",
    "* `DATA` is our dataframe and \n",
    "* `COL_NAME` is the name of a column. \n",
    "What `group_by()` then does is\n",
    "take all the rows in the dataframe `DATA` and put them into different groups,\n",
    "one for each different value in the column `COL_NAME`. So, for instance, if we\n",
    "called `group_by(stops_w_yr, district)`, `R` would hand back to us the `stops_w_yr`\n",
    "dataframe with all of its columns broken into different groups, one for each\n",
    "police district. (Note: At this stage, the dataframe doesn't _look_ any different to the human eye, since the groupings are happening behind the scenes.)\n",
    "\n",
    "Try it below!"
   ]
  },
  {
   "cell_type": "code",
   "execution_count": 17,
   "metadata": {},
   "outputs": [
    {
     "data": {
      "text/html": [
       "<table>\n",
       "<caption>A grouped_df: 636161 × 14</caption>\n",
       "<thead>\n",
       "\t<tr><th scope=col>date</th><th scope=col>time</th><th scope=col>location</th><th scope=col>lat</th><th scope=col>lng</th><th scope=col>district</th><th scope=col>age</th><th scope=col>race</th><th scope=col>gender</th><th scope=col>arrested</th><th scope=col>contraband_found</th><th scope=col>searched</th><th scope=col>reason_for_stop</th><th scope=col>yr</th></tr>\n",
       "\t<tr><th scope=col>&lt;date&gt;</th><th scope=col>&lt;time&gt;</th><th scope=col>&lt;chr&gt;</th><th scope=col>&lt;dbl&gt;</th><th scope=col>&lt;dbl&gt;</th><th scope=col>&lt;chr&gt;</th><th scope=col>&lt;int&gt;</th><th scope=col>&lt;chr&gt;</th><th scope=col>&lt;fct&gt;</th><th scope=col>&lt;lgl&gt;</th><th scope=col>&lt;lgl&gt;</th><th scope=col>&lt;lgl&gt;</th><th scope=col>&lt;chr&gt;</th><th scope=col>&lt;dbl&gt;</th></tr>\n",
       "</thead>\n",
       "<tbody>\n",
       "\t<tr><td>2009-01-01</td><td>10:10:00</td><td>1736 PALOU                 </td><td>37.7</td><td>-122</td><td>C</td><td>22</td><td>black                 </td><td>female</td><td>FALSE</td><td>FALSE</td><td> TRUE</td><td>Mechanical or Non-Moving Violation (V.C.)</td><td>2009</td></tr>\n",
       "\t<tr><td>2009-01-01</td><td>10:15:00</td><td>THRIFT/PLYMTH              </td><td>37.7</td><td>-122</td><td>I</td><td>44</td><td>black                 </td><td>male  </td><td>FALSE</td><td>   NA</td><td>FALSE</td><td>Moving Violation                         </td><td>2009</td></tr>\n",
       "\t<tr><td>2009-01-01</td><td>10:20:00</td><td>FLORIDA/19TH               </td><td>37.8</td><td>-122</td><td>D</td><td>45</td><td>white                 </td><td>female</td><td>FALSE</td><td>   NA</td><td>FALSE</td><td>Mechanical or Non-Moving Violation (V.C.)</td><td>2009</td></tr>\n",
       "\t<tr><td>2009-01-01</td><td>10:20:00</td><td>19TH AVE/MORAGAE           </td><td>37.8</td><td>-122</td><td>I</td><td>27</td><td>white                 </td><td>male  </td><td>FALSE</td><td>   NA</td><td>FALSE</td><td>Mechanical or Non-Moving Violation (V.C.)</td><td>2009</td></tr>\n",
       "\t<tr><td>2009-01-01</td><td>10:36:00</td><td>19TH/LINCOLN               </td><td>37.8</td><td>-122</td><td>I</td><td>29</td><td>white                 </td><td>male  </td><td>FALSE</td><td>   NA</td><td>FALSE</td><td>Mechanical or Non-Moving Violation (V.C.)</td><td>2009</td></tr>\n",
       "\t<tr><td>2009-01-01</td><td>10:40:00</td><td><span style=white-space:pre-wrap>16TH&amp;JULIAN                </span></td><td>37.8</td><td>-122</td><td>D</td><td>34</td><td><span style=white-space:pre-wrap>black                 </span></td><td><span style=white-space:pre-wrap>male  </span></td><td>FALSE</td><td><span style=white-space:pre-wrap>   NA</span></td><td>FALSE</td><td><span style=white-space:pre-wrap>Moving Violation                         </span></td><td>2009</td></tr>\n",
       "\t<tr><td>2009-01-01</td><td>10:40:00</td><td><span style=white-space:pre-wrap>LAKE ST &amp; 12TH AVE         </span></td><td>37.8</td><td>-122</td><td>G</td><td>50</td><td><span style=white-space:pre-wrap>white                 </span></td><td>female</td><td>FALSE</td><td><span style=white-space:pre-wrap>   NA</span></td><td>FALSE</td><td><span style=white-space:pre-wrap>Moving Violation                         </span></td><td>2009</td></tr>\n",
       "\t<tr><td>2009-01-01</td><td>10:44:00</td><td>19TH/SANTIAGO              </td><td>37.7</td><td>-122</td><td>I</td><td>29</td><td>white                 </td><td>female</td><td>FALSE</td><td>   NA</td><td>FALSE</td><td>Mechanical or Non-Moving Violation (V.C.)</td><td>2009</td></tr>\n",
       "\t<tr><td>2009-01-01</td><td>10:45:00</td><td><span style=white-space:pre-wrap>19TH AVE &amp; TARAVAL ST      </span></td><td>37.7</td><td>-122</td><td>I</td><td>44</td><td><span style=white-space:pre-wrap>white                 </span></td><td>female</td><td>FALSE</td><td><span style=white-space:pre-wrap>   NA</span></td><td>FALSE</td><td><span style=white-space:pre-wrap>Moving Violation                         </span></td><td>2009</td></tr>\n",
       "\t<tr><td>2009-01-01</td><td>10:50:00</td><td>LINCOLN WAY AND 9TH AVE    </td><td>37.8</td><td>-122</td><td>G</td><td>30</td><td>white                 </td><td>male  </td><td>FALSE</td><td>   NA</td><td>FALSE</td><td>Moving Violation                         </td><td>2009</td></tr>\n",
       "\t<tr><td>2009-01-01</td><td>10:50:00</td><td>UNION/LARKIN               </td><td>37.8</td><td>-122</td><td>E</td><td>46</td><td>white                 </td><td>male  </td><td>FALSE</td><td>   NA</td><td>FALSE</td><td>Moving Violation                         </td><td>2009</td></tr>\n",
       "\t<tr><td>2009-01-01</td><td>10:55:00</td><td>LA SALLE @ NEWCOMB         </td><td>37.7</td><td>-122</td><td>C</td><td>26</td><td>black                 </td><td>male  </td><td>FALSE</td><td>FALSE</td><td> TRUE</td><td>Moving Violation                         </td><td>2009</td></tr>\n",
       "\t<tr><td>2009-01-01</td><td>10:55:00</td><td><span style=white-space:pre-wrap>ALABAMA &amp; @22ND ST         </span></td><td>37.8</td><td>-122</td><td>D</td><td>59</td><td><span style=white-space:pre-wrap>black                 </span></td><td><span style=white-space:pre-wrap>male  </span></td><td>FALSE</td><td><span style=white-space:pre-wrap>   NA</span></td><td>FALSE</td><td>Mechanical or Non-Moving Violation (V.C.)</td><td>2009</td></tr>\n",
       "\t<tr><td>2009-01-01</td><td>10:55:00</td><td>2900 BLK 19TH AVE          </td><td>37.7</td><td>-122</td><td>I</td><td>61</td><td>other                 </td><td>male  </td><td>FALSE</td><td>FALSE</td><td> TRUE</td><td>Mechanical or Non-Moving Violation (V.C.)</td><td>2009</td></tr>\n",
       "\t<tr><td>2009-01-01</td><td>01:10:00</td><td><span style=white-space:pre-wrap>CORDELIA AL &amp; BROADWAY     </span></td><td>37.8</td><td>-122</td><td>A</td><td>19</td><td><span style=white-space:pre-wrap>black                 </span></td><td><span style=white-space:pre-wrap>male  </span></td><td>FALSE</td><td><span style=white-space:pre-wrap>   NA</span></td><td>FALSE</td><td><span style=white-space:pre-wrap>Moving Violation                         </span></td><td>2009</td></tr>\n",
       "\t<tr><td>2009-01-01</td><td>11:00:00</td><td>LINCOLN WAY AND 9TH AVE    </td><td>37.8</td><td>-122</td><td>G</td><td>73</td><td>white                 </td><td>male  </td><td>FALSE</td><td>   NA</td><td>FALSE</td><td>Moving Violation                         </td><td>2009</td></tr>\n",
       "\t<tr><td>2009-01-01</td><td>11:10:00</td><td><span style=white-space:pre-wrap>SILVER&amp;COLBY               </span></td><td>37.7</td><td>-122</td><td>C</td><td>32</td><td><span style=white-space:pre-wrap>hispanic              </span></td><td><span style=white-space:pre-wrap>male  </span></td><td>FALSE</td><td><span style=white-space:pre-wrap>   NA</span></td><td>FALSE</td><td><span style=white-space:pre-wrap>Moving Violation                         </span></td><td>2009</td></tr>\n",
       "\t<tr><td>2009-01-01</td><td>11:15:00</td><td>EVAN/TOLAND                </td><td>37.7</td><td>-122</td><td>C</td><td>34</td><td>black                 </td><td>male  </td><td>FALSE</td><td> TRUE</td><td> TRUE</td><td>Moving Violation                         </td><td>2009</td></tr>\n",
       "\t<tr><td>2009-01-01</td><td>11:18:00</td><td><span style=white-space:pre-wrap>HYDE ST &amp; CALIFORNIA       </span></td><td>37.8</td><td>-122</td><td>A</td><td>49</td><td>asian/pacific islander</td><td>female</td><td>FALSE</td><td><span style=white-space:pre-wrap>   NA</span></td><td>FALSE</td><td><span style=white-space:pre-wrap>Moving Violation                         </span></td><td>2009</td></tr>\n",
       "\t<tr><td>2009-01-01</td><td>01:12:00</td><td><span style=white-space:pre-wrap>4TH ST. &amp; HARRISON ST      </span></td><td>37.8</td><td>-122</td><td>B</td><td>27</td><td><span style=white-space:pre-wrap>white                 </span></td><td><span style=white-space:pre-wrap>male  </span></td><td>FALSE</td><td><span style=white-space:pre-wrap>   NA</span></td><td>FALSE</td><td><span style=white-space:pre-wrap>Moving Violation                         </span></td><td>2009</td></tr>\n",
       "\t<tr><td>2009-01-01</td><td>11:25:00</td><td>1800 BLK LINCOLNAT 19TH AVE</td><td>37.8</td><td>-122</td><td>I</td><td>43</td><td>white                 </td><td>male  </td><td>FALSE</td><td>FALSE</td><td> TRUE</td><td>Mechanical or Non-Moving Violation (V.C.)</td><td>2009</td></tr>\n",
       "\t<tr><td>2009-01-01</td><td>11:27:00</td><td>19TH/RIBVERA               </td><td>37.7</td><td>-122</td><td>I</td><td>49</td><td>white                 </td><td>male  </td><td>FALSE</td><td>   NA</td><td>FALSE</td><td>Mechanical or Non-Moving Violation (V.C.)</td><td>2009</td></tr>\n",
       "\t<tr><td>2009-01-01</td><td>11:30:00</td><td>ARMY/EVAN                  </td><td>37.8</td><td>-122</td><td>C</td><td>20</td><td>black                 </td><td>female</td><td>FALSE</td><td>   NA</td><td>FALSE</td><td>Moving Violation                         </td><td>2009</td></tr>\n",
       "\t<tr><td>2009-01-01</td><td>11:35:00</td><td>LINCOLN WAY AND 9TH AVE    </td><td>37.8</td><td>-122</td><td>G</td><td>49</td><td>asian/pacific islander</td><td>male  </td><td>FALSE</td><td>   NA</td><td>FALSE</td><td>Moving Violation                         </td><td>2009</td></tr>\n",
       "\t<tr><td>2009-01-01</td><td>11:45:00</td><td>TURK/FILLMORE              </td><td>37.8</td><td>-122</td><td>E</td><td>NA</td><td>asian/pacific islander</td><td>male  </td><td>FALSE</td><td>   NA</td><td>FALSE</td><td>Moving Violation                         </td><td>2009</td></tr>\n",
       "\t<tr><td>2009-01-01</td><td>11:53:00</td><td><span style=white-space:pre-wrap>MISSION ST &amp; 23RD ST       </span></td><td>37.8</td><td>-122</td><td>D</td><td>18</td><td><span style=white-space:pre-wrap>other                 </span></td><td><span style=white-space:pre-wrap>male  </span></td><td>FALSE</td><td><span style=white-space:pre-wrap>   NA</span></td><td>FALSE</td><td>Mechanical or Non-Moving Violation (V.C.)</td><td>2009</td></tr>\n",
       "\t<tr><td>2009-01-01</td><td>11:58:00</td><td><span style=white-space:pre-wrap>VALENCIA &amp;19TH             </span></td><td>37.8</td><td>-122</td><td>D</td><td>62</td><td><span style=white-space:pre-wrap>white                 </span></td><td><span style=white-space:pre-wrap>male  </span></td><td>FALSE</td><td><span style=white-space:pre-wrap>   NA</span></td><td>FALSE</td><td>Mechanical or Non-Moving Violation (V.C.)</td><td>2009</td></tr>\n",
       "\t<tr><td>2009-01-01</td><td>00:12:00</td><td><span style=white-space:pre-wrap>19TH AVE &amp; SLOAT BLVD      </span></td><td>37.7</td><td>-122</td><td>I</td><td>45</td><td>asian/pacific islander</td><td><span style=white-space:pre-wrap>male  </span></td><td>FALSE</td><td><span style=white-space:pre-wrap>   NA</span></td><td>FALSE</td><td><span style=white-space:pre-wrap>Moving Violation                         </span></td><td>2009</td></tr>\n",
       "\t<tr><td>2009-01-01</td><td>00:12:00</td><td>400 BLK BROADWAY           </td><td>37.8</td><td>-122</td><td>A</td><td>19</td><td>white                 </td><td>male  </td><td>FALSE</td><td>   NA</td><td>FALSE</td><td>Moving Violation                         </td><td>2009</td></tr>\n",
       "\t<tr><td>2009-01-01</td><td>01:20:00</td><td><span style=white-space:pre-wrap>19TH AVE &amp; JUDAH ST        </span></td><td>37.8</td><td>-122</td><td>I</td><td>33</td><td>asian/pacific islander</td><td><span style=white-space:pre-wrap>male  </span></td><td>FALSE</td><td><span style=white-space:pre-wrap>   NA</span></td><td>FALSE</td><td><span style=white-space:pre-wrap>Moving Violation                         </span></td><td>2009</td></tr>\n",
       "\t<tr><td>⋮</td><td>⋮</td><td>⋮</td><td>⋮</td><td>⋮</td><td>⋮</td><td>⋮</td><td>⋮</td><td>⋮</td><td>⋮</td><td>⋮</td><td>⋮</td><td>⋮</td><td>⋮</td></tr>\n",
       "\t<tr><td>2016-06-30</td><td>06:56:00</td><td>15TH AND KANSAS           </td><td>37.8</td><td>-122</td><td>C</td><td>56</td><td>white                 </td><td>male  </td><td>FALSE</td><td>  NA</td><td>FALSE</td><td>Moving Violation                         </td><td>2016</td></tr>\n",
       "\t<tr><td>2016-06-30</td><td>06:57:00</td><td>EMBARCADERO X CHESTNUT    </td><td>37.8</td><td>-122</td><td>A</td><td>31</td><td>white                 </td><td>female</td><td>FALSE</td><td>  NA</td><td>FALSE</td><td>Moving Violation                         </td><td>2016</td></tr>\n",
       "\t<tr><td>2016-06-30</td><td>07:10:00</td><td><span style=white-space:pre-wrap>MISSION ST &amp; 18TH ST      </span></td><td>37.8</td><td>-122</td><td>D</td><td>31</td><td><span style=white-space:pre-wrap>hispanic              </span></td><td><span style=white-space:pre-wrap>male  </span></td><td>FALSE</td><td><span style=white-space:pre-wrap>  NA</span></td><td>FALSE</td><td>Mechanical or Non-Moving Violation (V.C.)</td><td>2016</td></tr>\n",
       "\t<tr><td>2016-06-30</td><td>07:15:00</td><td><span style=white-space:pre-wrap>S VAN NESS &amp; 17TH         </span></td><td>37.8</td><td>-122</td><td>D</td><td>41</td><td><span style=white-space:pre-wrap>hispanic              </span></td><td><span style=white-space:pre-wrap>male  </span></td><td>FALSE</td><td><span style=white-space:pre-wrap>  NA</span></td><td>FALSE</td><td>Mechanical or Non-Moving Violation (V.C.)</td><td>2016</td></tr>\n",
       "\t<tr><td>2016-06-30</td><td>07:20:00</td><td>965 GEARY ST.             </td><td>37.8</td><td>-122</td><td>E</td><td>49</td><td>asian/pacific islander</td><td>female</td><td>FALSE</td><td>  NA</td><td>FALSE</td><td>Moving Violation                         </td><td>2016</td></tr>\n",
       "\t<tr><td>2016-06-30</td><td>07:40:00</td><td><span style=white-space:pre-wrap>GEARY ST. &amp; JONES ST.     </span></td><td>37.8</td><td>-122</td><td>J</td><td>28</td><td><span style=white-space:pre-wrap>hispanic              </span></td><td>female</td><td>FALSE</td><td><span style=white-space:pre-wrap>  NA</span></td><td>FALSE</td><td><span style=white-space:pre-wrap>Moving Violation                         </span></td><td>2016</td></tr>\n",
       "\t<tr><td>2016-06-30</td><td>07:55:00</td><td><span style=white-space:pre-wrap>14TH AVE &amp; BALBOA ST      </span></td><td>37.8</td><td>-122</td><td>G</td><td>32</td><td>asian/pacific islander</td><td><span style=white-space:pre-wrap>male  </span></td><td>FALSE</td><td><span style=white-space:pre-wrap>  NA</span></td><td>FALSE</td><td><span style=white-space:pre-wrap>Moving Violation                         </span></td><td>2016</td></tr>\n",
       "\t<tr><td>2016-06-30</td><td>07:55:00</td><td><span style=white-space:pre-wrap>3RD ST &amp; BRYANT ST        </span></td><td>37.8</td><td>-122</td><td>B</td><td>45</td><td><span style=white-space:pre-wrap>hispanic              </span></td><td><span style=white-space:pre-wrap>male  </span></td><td>FALSE</td><td><span style=white-space:pre-wrap>  NA</span></td><td>FALSE</td><td><span style=white-space:pre-wrap>Moving Violation                         </span></td><td>2016</td></tr>\n",
       "\t<tr><td>2016-06-30</td><td>07:55:00</td><td>800 BLK GEARY.            </td><td>37.8</td><td>-122</td><td>A</td><td>46</td><td>white                 </td><td>male  </td><td>FALSE</td><td>  NA</td><td>FALSE</td><td>Moving Violation                         </td><td>2016</td></tr>\n",
       "\t<tr><td>2016-06-30</td><td>08:05:00</td><td>FULTON ST AND FILLMORE ST </td><td>37.8</td><td>-122</td><td>E</td><td>30</td><td>hispanic              </td><td>female</td><td>FALSE</td><td>  NA</td><td>FALSE</td><td>Moving Violation                         </td><td>2016</td></tr>\n",
       "\t<tr><td>2016-06-30</td><td>08:11:00</td><td>POLK/UNION                </td><td>37.8</td><td>-122</td><td>E</td><td>32</td><td>white                 </td><td>male  </td><td>FALSE</td><td>  NA</td><td>FALSE</td><td>Moving Violation                         </td><td>2016</td></tr>\n",
       "\t<tr><td>2016-06-30</td><td>08:15:00</td><td>POLK/ EDDY                </td><td>37.8</td><td>-122</td><td>E</td><td>56</td><td>white                 </td><td>male  </td><td>FALSE</td><td>  NA</td><td>FALSE</td><td>Moving Violation                         </td><td>2016</td></tr>\n",
       "\t<tr><td>2016-06-30</td><td>08:20:00</td><td>FULTON ST AND FILLMORE ST </td><td>37.8</td><td>-122</td><td>E</td><td>46</td><td>white                 </td><td>male  </td><td>FALSE</td><td>  NA</td><td>FALSE</td><td>Moving Violation                         </td><td>2016</td></tr>\n",
       "\t<tr><td>2016-06-30</td><td>08:25:00</td><td>781 GEARY ST.             </td><td>37.8</td><td>-122</td><td>J</td><td>35</td><td>hispanic              </td><td>male  </td><td>FALSE</td><td>  NA</td><td>FALSE</td><td>Moving Violation                         </td><td>2016</td></tr>\n",
       "\t<tr><td>2016-06-30</td><td>08:30:00</td><td><span style=white-space:pre-wrap>24TH &amp; TARAVAL            </span></td><td>37.7</td><td>-122</td><td>I</td><td>59</td><td><span style=white-space:pre-wrap>hispanic              </span></td><td><span style=white-space:pre-wrap>male  </span></td><td>FALSE</td><td><span style=white-space:pre-wrap>  NA</span></td><td>FALSE</td><td>Mechanical or Non-Moving Violation (V.C.)</td><td>2016</td></tr>\n",
       "\t<tr><td>2016-06-30</td><td>08:30:00</td><td><span style=white-space:pre-wrap>19TH AVE. &amp; DENSLOWE ST.  </span></td><td>37.7</td><td>-122</td><td>I</td><td>31</td><td><span style=white-space:pre-wrap>other                 </span></td><td>female</td><td>FALSE</td><td><span style=white-space:pre-wrap>  NA</span></td><td>FALSE</td><td><span style=white-space:pre-wrap>Moving Violation                         </span></td><td>2016</td></tr>\n",
       "\t<tr><td>2016-06-30</td><td>08:30:00</td><td><span style=white-space:pre-wrap>ANDERSON &amp; EUGENIA        </span></td><td>37.7</td><td>-122</td><td>H</td><td>29</td><td><span style=white-space:pre-wrap>white                 </span></td><td>female</td><td>FALSE</td><td><span style=white-space:pre-wrap>  NA</span></td><td>FALSE</td><td><span style=white-space:pre-wrap>Moving Violation                         </span></td><td>2016</td></tr>\n",
       "\t<tr><td>2016-06-30</td><td>08:38:00</td><td>FULTON ST AND SCOTT ST    </td><td>37.8</td><td>-122</td><td>E</td><td>26</td><td>white                 </td><td>male  </td><td>FALSE</td><td>  NA</td><td>FALSE</td><td>Moving Violation                         </td><td>2016</td></tr>\n",
       "\t<tr><td>2016-06-30</td><td>08:45:00</td><td>781 GEARY ST.             </td><td>37.8</td><td>-122</td><td>J</td><td>38</td><td>other                 </td><td>male  </td><td>FALSE</td><td>  NA</td><td>FALSE</td><td>Moving Violation                         </td><td>2016</td></tr>\n",
       "\t<tr><td>2016-06-30</td><td>08:50:00</td><td>FULTON ST AND FILLMORE ST </td><td>37.8</td><td>-122</td><td>E</td><td>26</td><td>asian/pacific islander</td><td>male  </td><td>FALSE</td><td>  NA</td><td>FALSE</td><td>Moving Violation                         </td><td>2016</td></tr>\n",
       "\t<tr><td>2016-06-30</td><td>08:50:00</td><td><span style=white-space:pre-wrap>26TH &amp; JUDAH              </span></td><td>37.8</td><td>-122</td><td>I</td><td>59</td><td><span style=white-space:pre-wrap>white                 </span></td><td><span style=white-space:pre-wrap>male  </span></td><td>FALSE</td><td><span style=white-space:pre-wrap>  NA</span></td><td>FALSE</td><td><span style=white-space:pre-wrap>Moving Violation                         </span></td><td>2016</td></tr>\n",
       "\t<tr><td>2016-06-30</td><td>08:55:00</td><td><span style=white-space:pre-wrap>GEARY ST. &amp; HYDE ST.      </span></td><td>37.8</td><td>-122</td><td>J</td><td>29</td><td><span style=white-space:pre-wrap>white                 </span></td><td>female</td><td>FALSE</td><td><span style=white-space:pre-wrap>  NA</span></td><td>FALSE</td><td><span style=white-space:pre-wrap>Moving Violation                         </span></td><td>2016</td></tr>\n",
       "\t<tr><td>2016-06-30</td><td>00:09:00</td><td><span style=white-space:pre-wrap>LARKIN &amp; BROADWAY         </span></td><td>37.8</td><td>-122</td><td>A</td><td>24</td><td><span style=white-space:pre-wrap>hispanic              </span></td><td><span style=white-space:pre-wrap>male  </span></td><td>FALSE</td><td><span style=white-space:pre-wrap>  NA</span></td><td>FALSE</td><td>Mechanical or Non-Moving Violation (V.C.)</td><td>2016</td></tr>\n",
       "\t<tr><td>2016-06-30</td><td>09:00:00</td><td><span style=white-space:pre-wrap>MISSION &amp; SANTA MARINA    </span></td><td>37.7</td><td>-122</td><td>H</td><td>28</td><td><span style=white-space:pre-wrap>black                 </span></td><td><span style=white-space:pre-wrap>male  </span></td><td>FALSE</td><td>TRUE</td><td> TRUE</td><td>Mechanical or Non-Moving Violation (V.C.)</td><td>2016</td></tr>\n",
       "\t<tr><td>2016-06-30</td><td>09:15:00</td><td><span style=white-space:pre-wrap>GOLDEN GATE &amp; JONES       </span></td><td>37.8</td><td>-122</td><td>J</td><td>35</td><td>asian/pacific islander</td><td><span style=white-space:pre-wrap>male  </span></td><td>FALSE</td><td><span style=white-space:pre-wrap>  NA</span></td><td>FALSE</td><td><span style=white-space:pre-wrap>Moving Violation                         </span></td><td>2016</td></tr>\n",
       "\t<tr><td>2016-06-30</td><td>09:24:00</td><td><span style=white-space:pre-wrap>JONES &amp; MCALLISTER        </span></td><td>37.8</td><td>-122</td><td>J</td><td>47</td><td><span style=white-space:pre-wrap>hispanic              </span></td><td>female</td><td>FALSE</td><td><span style=white-space:pre-wrap>  NA</span></td><td>FALSE</td><td><span style=white-space:pre-wrap>Moving Violation                         </span></td><td>2016</td></tr>\n",
       "\t<tr><td>2016-06-30</td><td>09:34:00</td><td><span style=white-space:pre-wrap>GOLDEN GATE &amp; HYDE        </span></td><td>37.8</td><td>-122</td><td>J</td><td>55</td><td><span style=white-space:pre-wrap>white                 </span></td><td>female</td><td>FALSE</td><td><span style=white-space:pre-wrap>  NA</span></td><td>FALSE</td><td><span style=white-space:pre-wrap>Moving Violation                         </span></td><td>2016</td></tr>\n",
       "\t<tr><td>2016-06-30</td><td>09:50:00</td><td><span style=white-space:pre-wrap>11TH ST. &amp; MARKET ST.     </span></td><td>37.8</td><td>-122</td><td>J</td><td>36</td><td>asian/pacific islander</td><td><span style=white-space:pre-wrap>male  </span></td><td>FALSE</td><td><span style=white-space:pre-wrap>  NA</span></td><td>FALSE</td><td><span style=white-space:pre-wrap>Moving Violation                         </span></td><td>2016</td></tr>\n",
       "\t<tr><td>2016-06-30</td><td>09:50:00</td><td>BROTHERHOOD WAY &amp; ARCH ST.</td><td>37.7</td><td>-122</td><td>I</td><td>50</td><td><span style=white-space:pre-wrap>black                 </span></td><td><span style=white-space:pre-wrap>male  </span></td><td>FALSE</td><td><span style=white-space:pre-wrap>  NA</span></td><td>FALSE</td><td>Mechanical or Non-Moving Violation (V.C.)</td><td>2016</td></tr>\n",
       "\t<tr><td>2016-06-30</td><td>09:55:00</td><td>1650 17THAV               </td><td>37.8</td><td>-122</td><td>I</td><td>22</td><td>other                 </td><td>female</td><td>FALSE</td><td>  NA</td><td>FALSE</td><td>Moving Violation                         </td><td>2016</td></tr>\n",
       "</tbody>\n",
       "</table>\n"
      ],
      "text/latex": [
       "A grouped_df: 636161 × 14\n",
       "\\begin{tabular}{r|llllllllllllll}\n",
       " date & time & location & lat & lng & district & age & race & gender & arrested & contraband\\_found & searched & reason\\_for\\_stop & yr\\\\\n",
       " <date> & <time> & <chr> & <dbl> & <dbl> & <chr> & <int> & <chr> & <fct> & <lgl> & <lgl> & <lgl> & <chr> & <dbl>\\\\\n",
       "\\hline\n",
       "\t 2009-01-01 & 10:10:00 & 1736 PALOU                  & 37.7 & -122 & C & 22 & black                  & female & FALSE & FALSE &  TRUE & Mechanical or Non-Moving Violation (V.C.) & 2009\\\\\n",
       "\t 2009-01-01 & 10:15:00 & THRIFT/PLYMTH               & 37.7 & -122 & I & 44 & black                  & male   & FALSE &    NA & FALSE & Moving Violation                          & 2009\\\\\n",
       "\t 2009-01-01 & 10:20:00 & FLORIDA/19TH                & 37.8 & -122 & D & 45 & white                  & female & FALSE &    NA & FALSE & Mechanical or Non-Moving Violation (V.C.) & 2009\\\\\n",
       "\t 2009-01-01 & 10:20:00 & 19TH AVE/MORAGAE            & 37.8 & -122 & I & 27 & white                  & male   & FALSE &    NA & FALSE & Mechanical or Non-Moving Violation (V.C.) & 2009\\\\\n",
       "\t 2009-01-01 & 10:36:00 & 19TH/LINCOLN                & 37.8 & -122 & I & 29 & white                  & male   & FALSE &    NA & FALSE & Mechanical or Non-Moving Violation (V.C.) & 2009\\\\\n",
       "\t 2009-01-01 & 10:40:00 & 16TH\\&JULIAN                 & 37.8 & -122 & D & 34 & black                  & male   & FALSE &    NA & FALSE & Moving Violation                          & 2009\\\\\n",
       "\t 2009-01-01 & 10:40:00 & LAKE ST \\& 12TH AVE          & 37.8 & -122 & G & 50 & white                  & female & FALSE &    NA & FALSE & Moving Violation                          & 2009\\\\\n",
       "\t 2009-01-01 & 10:44:00 & 19TH/SANTIAGO               & 37.7 & -122 & I & 29 & white                  & female & FALSE &    NA & FALSE & Mechanical or Non-Moving Violation (V.C.) & 2009\\\\\n",
       "\t 2009-01-01 & 10:45:00 & 19TH AVE \\& TARAVAL ST       & 37.7 & -122 & I & 44 & white                  & female & FALSE &    NA & FALSE & Moving Violation                          & 2009\\\\\n",
       "\t 2009-01-01 & 10:50:00 & LINCOLN WAY AND 9TH AVE     & 37.8 & -122 & G & 30 & white                  & male   & FALSE &    NA & FALSE & Moving Violation                          & 2009\\\\\n",
       "\t 2009-01-01 & 10:50:00 & UNION/LARKIN                & 37.8 & -122 & E & 46 & white                  & male   & FALSE &    NA & FALSE & Moving Violation                          & 2009\\\\\n",
       "\t 2009-01-01 & 10:55:00 & LA SALLE @ NEWCOMB          & 37.7 & -122 & C & 26 & black                  & male   & FALSE & FALSE &  TRUE & Moving Violation                          & 2009\\\\\n",
       "\t 2009-01-01 & 10:55:00 & ALABAMA \\& @22ND ST          & 37.8 & -122 & D & 59 & black                  & male   & FALSE &    NA & FALSE & Mechanical or Non-Moving Violation (V.C.) & 2009\\\\\n",
       "\t 2009-01-01 & 10:55:00 & 2900 BLK 19TH AVE           & 37.7 & -122 & I & 61 & other                  & male   & FALSE & FALSE &  TRUE & Mechanical or Non-Moving Violation (V.C.) & 2009\\\\\n",
       "\t 2009-01-01 & 01:10:00 & CORDELIA AL \\& BROADWAY      & 37.8 & -122 & A & 19 & black                  & male   & FALSE &    NA & FALSE & Moving Violation                          & 2009\\\\\n",
       "\t 2009-01-01 & 11:00:00 & LINCOLN WAY AND 9TH AVE     & 37.8 & -122 & G & 73 & white                  & male   & FALSE &    NA & FALSE & Moving Violation                          & 2009\\\\\n",
       "\t 2009-01-01 & 11:10:00 & SILVER\\&COLBY                & 37.7 & -122 & C & 32 & hispanic               & male   & FALSE &    NA & FALSE & Moving Violation                          & 2009\\\\\n",
       "\t 2009-01-01 & 11:15:00 & EVAN/TOLAND                 & 37.7 & -122 & C & 34 & black                  & male   & FALSE &  TRUE &  TRUE & Moving Violation                          & 2009\\\\\n",
       "\t 2009-01-01 & 11:18:00 & HYDE ST \\& CALIFORNIA        & 37.8 & -122 & A & 49 & asian/pacific islander & female & FALSE &    NA & FALSE & Moving Violation                          & 2009\\\\\n",
       "\t 2009-01-01 & 01:12:00 & 4TH ST. \\& HARRISON ST       & 37.8 & -122 & B & 27 & white                  & male   & FALSE &    NA & FALSE & Moving Violation                          & 2009\\\\\n",
       "\t 2009-01-01 & 11:25:00 & 1800 BLK LINCOLNAT 19TH AVE & 37.8 & -122 & I & 43 & white                  & male   & FALSE & FALSE &  TRUE & Mechanical or Non-Moving Violation (V.C.) & 2009\\\\\n",
       "\t 2009-01-01 & 11:27:00 & 19TH/RIBVERA                & 37.7 & -122 & I & 49 & white                  & male   & FALSE &    NA & FALSE & Mechanical or Non-Moving Violation (V.C.) & 2009\\\\\n",
       "\t 2009-01-01 & 11:30:00 & ARMY/EVAN                   & 37.8 & -122 & C & 20 & black                  & female & FALSE &    NA & FALSE & Moving Violation                          & 2009\\\\\n",
       "\t 2009-01-01 & 11:35:00 & LINCOLN WAY AND 9TH AVE     & 37.8 & -122 & G & 49 & asian/pacific islander & male   & FALSE &    NA & FALSE & Moving Violation                          & 2009\\\\\n",
       "\t 2009-01-01 & 11:45:00 & TURK/FILLMORE               & 37.8 & -122 & E & NA & asian/pacific islander & male   & FALSE &    NA & FALSE & Moving Violation                          & 2009\\\\\n",
       "\t 2009-01-01 & 11:53:00 & MISSION ST \\& 23RD ST        & 37.8 & -122 & D & 18 & other                  & male   & FALSE &    NA & FALSE & Mechanical or Non-Moving Violation (V.C.) & 2009\\\\\n",
       "\t 2009-01-01 & 11:58:00 & VALENCIA \\&19TH              & 37.8 & -122 & D & 62 & white                  & male   & FALSE &    NA & FALSE & Mechanical or Non-Moving Violation (V.C.) & 2009\\\\\n",
       "\t 2009-01-01 & 00:12:00 & 19TH AVE \\& SLOAT BLVD       & 37.7 & -122 & I & 45 & asian/pacific islander & male   & FALSE &    NA & FALSE & Moving Violation                          & 2009\\\\\n",
       "\t 2009-01-01 & 00:12:00 & 400 BLK BROADWAY            & 37.8 & -122 & A & 19 & white                  & male   & FALSE &    NA & FALSE & Moving Violation                          & 2009\\\\\n",
       "\t 2009-01-01 & 01:20:00 & 19TH AVE \\& JUDAH ST         & 37.8 & -122 & I & 33 & asian/pacific islander & male   & FALSE &    NA & FALSE & Moving Violation                          & 2009\\\\\n",
       "\t ⋮ & ⋮ & ⋮ & ⋮ & ⋮ & ⋮ & ⋮ & ⋮ & ⋮ & ⋮ & ⋮ & ⋮ & ⋮ & ⋮\\\\\n",
       "\t 2016-06-30 & 06:56:00 & 15TH AND KANSAS            & 37.8 & -122 & C & 56 & white                  & male   & FALSE &   NA & FALSE & Moving Violation                          & 2016\\\\\n",
       "\t 2016-06-30 & 06:57:00 & EMBARCADERO X CHESTNUT     & 37.8 & -122 & A & 31 & white                  & female & FALSE &   NA & FALSE & Moving Violation                          & 2016\\\\\n",
       "\t 2016-06-30 & 07:10:00 & MISSION ST \\& 18TH ST       & 37.8 & -122 & D & 31 & hispanic               & male   & FALSE &   NA & FALSE & Mechanical or Non-Moving Violation (V.C.) & 2016\\\\\n",
       "\t 2016-06-30 & 07:15:00 & S VAN NESS \\& 17TH          & 37.8 & -122 & D & 41 & hispanic               & male   & FALSE &   NA & FALSE & Mechanical or Non-Moving Violation (V.C.) & 2016\\\\\n",
       "\t 2016-06-30 & 07:20:00 & 965 GEARY ST.              & 37.8 & -122 & E & 49 & asian/pacific islander & female & FALSE &   NA & FALSE & Moving Violation                          & 2016\\\\\n",
       "\t 2016-06-30 & 07:40:00 & GEARY ST. \\& JONES ST.      & 37.8 & -122 & J & 28 & hispanic               & female & FALSE &   NA & FALSE & Moving Violation                          & 2016\\\\\n",
       "\t 2016-06-30 & 07:55:00 & 14TH AVE \\& BALBOA ST       & 37.8 & -122 & G & 32 & asian/pacific islander & male   & FALSE &   NA & FALSE & Moving Violation                          & 2016\\\\\n",
       "\t 2016-06-30 & 07:55:00 & 3RD ST \\& BRYANT ST         & 37.8 & -122 & B & 45 & hispanic               & male   & FALSE &   NA & FALSE & Moving Violation                          & 2016\\\\\n",
       "\t 2016-06-30 & 07:55:00 & 800 BLK GEARY.             & 37.8 & -122 & A & 46 & white                  & male   & FALSE &   NA & FALSE & Moving Violation                          & 2016\\\\\n",
       "\t 2016-06-30 & 08:05:00 & FULTON ST AND FILLMORE ST  & 37.8 & -122 & E & 30 & hispanic               & female & FALSE &   NA & FALSE & Moving Violation                          & 2016\\\\\n",
       "\t 2016-06-30 & 08:11:00 & POLK/UNION                 & 37.8 & -122 & E & 32 & white                  & male   & FALSE &   NA & FALSE & Moving Violation                          & 2016\\\\\n",
       "\t 2016-06-30 & 08:15:00 & POLK/ EDDY                 & 37.8 & -122 & E & 56 & white                  & male   & FALSE &   NA & FALSE & Moving Violation                          & 2016\\\\\n",
       "\t 2016-06-30 & 08:20:00 & FULTON ST AND FILLMORE ST  & 37.8 & -122 & E & 46 & white                  & male   & FALSE &   NA & FALSE & Moving Violation                          & 2016\\\\\n",
       "\t 2016-06-30 & 08:25:00 & 781 GEARY ST.              & 37.8 & -122 & J & 35 & hispanic               & male   & FALSE &   NA & FALSE & Moving Violation                          & 2016\\\\\n",
       "\t 2016-06-30 & 08:30:00 & 24TH \\& TARAVAL             & 37.7 & -122 & I & 59 & hispanic               & male   & FALSE &   NA & FALSE & Mechanical or Non-Moving Violation (V.C.) & 2016\\\\\n",
       "\t 2016-06-30 & 08:30:00 & 19TH AVE. \\& DENSLOWE ST.   & 37.7 & -122 & I & 31 & other                  & female & FALSE &   NA & FALSE & Moving Violation                          & 2016\\\\\n",
       "\t 2016-06-30 & 08:30:00 & ANDERSON \\& EUGENIA         & 37.7 & -122 & H & 29 & white                  & female & FALSE &   NA & FALSE & Moving Violation                          & 2016\\\\\n",
       "\t 2016-06-30 & 08:38:00 & FULTON ST AND SCOTT ST     & 37.8 & -122 & E & 26 & white                  & male   & FALSE &   NA & FALSE & Moving Violation                          & 2016\\\\\n",
       "\t 2016-06-30 & 08:45:00 & 781 GEARY ST.              & 37.8 & -122 & J & 38 & other                  & male   & FALSE &   NA & FALSE & Moving Violation                          & 2016\\\\\n",
       "\t 2016-06-30 & 08:50:00 & FULTON ST AND FILLMORE ST  & 37.8 & -122 & E & 26 & asian/pacific islander & male   & FALSE &   NA & FALSE & Moving Violation                          & 2016\\\\\n",
       "\t 2016-06-30 & 08:50:00 & 26TH \\& JUDAH               & 37.8 & -122 & I & 59 & white                  & male   & FALSE &   NA & FALSE & Moving Violation                          & 2016\\\\\n",
       "\t 2016-06-30 & 08:55:00 & GEARY ST. \\& HYDE ST.       & 37.8 & -122 & J & 29 & white                  & female & FALSE &   NA & FALSE & Moving Violation                          & 2016\\\\\n",
       "\t 2016-06-30 & 00:09:00 & LARKIN \\& BROADWAY          & 37.8 & -122 & A & 24 & hispanic               & male   & FALSE &   NA & FALSE & Mechanical or Non-Moving Violation (V.C.) & 2016\\\\\n",
       "\t 2016-06-30 & 09:00:00 & MISSION \\& SANTA MARINA     & 37.7 & -122 & H & 28 & black                  & male   & FALSE & TRUE &  TRUE & Mechanical or Non-Moving Violation (V.C.) & 2016\\\\\n",
       "\t 2016-06-30 & 09:15:00 & GOLDEN GATE \\& JONES        & 37.8 & -122 & J & 35 & asian/pacific islander & male   & FALSE &   NA & FALSE & Moving Violation                          & 2016\\\\\n",
       "\t 2016-06-30 & 09:24:00 & JONES \\& MCALLISTER         & 37.8 & -122 & J & 47 & hispanic               & female & FALSE &   NA & FALSE & Moving Violation                          & 2016\\\\\n",
       "\t 2016-06-30 & 09:34:00 & GOLDEN GATE \\& HYDE         & 37.8 & -122 & J & 55 & white                  & female & FALSE &   NA & FALSE & Moving Violation                          & 2016\\\\\n",
       "\t 2016-06-30 & 09:50:00 & 11TH ST. \\& MARKET ST.      & 37.8 & -122 & J & 36 & asian/pacific islander & male   & FALSE &   NA & FALSE & Moving Violation                          & 2016\\\\\n",
       "\t 2016-06-30 & 09:50:00 & BROTHERHOOD WAY \\& ARCH ST. & 37.7 & -122 & I & 50 & black                  & male   & FALSE &   NA & FALSE & Mechanical or Non-Moving Violation (V.C.) & 2016\\\\\n",
       "\t 2016-06-30 & 09:55:00 & 1650 17THAV                & 37.8 & -122 & I & 22 & other                  & female & FALSE &   NA & FALSE & Moving Violation                          & 2016\\\\\n",
       "\\end{tabular}\n"
      ],
      "text/markdown": [
       "\n",
       "A grouped_df: 636161 × 14\n",
       "\n",
       "| date &lt;date&gt; | time &lt;time&gt; | location &lt;chr&gt; | lat &lt;dbl&gt; | lng &lt;dbl&gt; | district &lt;chr&gt; | age &lt;int&gt; | race &lt;chr&gt; | gender &lt;fct&gt; | arrested &lt;lgl&gt; | contraband_found &lt;lgl&gt; | searched &lt;lgl&gt; | reason_for_stop &lt;chr&gt; | yr &lt;dbl&gt; |\n",
       "|---|---|---|---|---|---|---|---|---|---|---|---|---|---|\n",
       "| 2009-01-01 | 10:10:00 | 1736 PALOU                  | 37.7 | -122 | C | 22 | black                  | female | FALSE | FALSE |  TRUE | Mechanical or Non-Moving Violation (V.C.) | 2009 |\n",
       "| 2009-01-01 | 10:15:00 | THRIFT/PLYMTH               | 37.7 | -122 | I | 44 | black                  | male   | FALSE |    NA | FALSE | Moving Violation                          | 2009 |\n",
       "| 2009-01-01 | 10:20:00 | FLORIDA/19TH                | 37.8 | -122 | D | 45 | white                  | female | FALSE |    NA | FALSE | Mechanical or Non-Moving Violation (V.C.) | 2009 |\n",
       "| 2009-01-01 | 10:20:00 | 19TH AVE/MORAGAE            | 37.8 | -122 | I | 27 | white                  | male   | FALSE |    NA | FALSE | Mechanical or Non-Moving Violation (V.C.) | 2009 |\n",
       "| 2009-01-01 | 10:36:00 | 19TH/LINCOLN                | 37.8 | -122 | I | 29 | white                  | male   | FALSE |    NA | FALSE | Mechanical or Non-Moving Violation (V.C.) | 2009 |\n",
       "| 2009-01-01 | 10:40:00 | 16TH&amp;JULIAN                 | 37.8 | -122 | D | 34 | black                  | male   | FALSE |    NA | FALSE | Moving Violation                          | 2009 |\n",
       "| 2009-01-01 | 10:40:00 | LAKE ST &amp; 12TH AVE          | 37.8 | -122 | G | 50 | white                  | female | FALSE |    NA | FALSE | Moving Violation                          | 2009 |\n",
       "| 2009-01-01 | 10:44:00 | 19TH/SANTIAGO               | 37.7 | -122 | I | 29 | white                  | female | FALSE |    NA | FALSE | Mechanical or Non-Moving Violation (V.C.) | 2009 |\n",
       "| 2009-01-01 | 10:45:00 | 19TH AVE &amp; TARAVAL ST       | 37.7 | -122 | I | 44 | white                  | female | FALSE |    NA | FALSE | Moving Violation                          | 2009 |\n",
       "| 2009-01-01 | 10:50:00 | LINCOLN WAY AND 9TH AVE     | 37.8 | -122 | G | 30 | white                  | male   | FALSE |    NA | FALSE | Moving Violation                          | 2009 |\n",
       "| 2009-01-01 | 10:50:00 | UNION/LARKIN                | 37.8 | -122 | E | 46 | white                  | male   | FALSE |    NA | FALSE | Moving Violation                          | 2009 |\n",
       "| 2009-01-01 | 10:55:00 | LA SALLE @ NEWCOMB          | 37.7 | -122 | C | 26 | black                  | male   | FALSE | FALSE |  TRUE | Moving Violation                          | 2009 |\n",
       "| 2009-01-01 | 10:55:00 | ALABAMA &amp; @22ND ST          | 37.8 | -122 | D | 59 | black                  | male   | FALSE |    NA | FALSE | Mechanical or Non-Moving Violation (V.C.) | 2009 |\n",
       "| 2009-01-01 | 10:55:00 | 2900 BLK 19TH AVE           | 37.7 | -122 | I | 61 | other                  | male   | FALSE | FALSE |  TRUE | Mechanical or Non-Moving Violation (V.C.) | 2009 |\n",
       "| 2009-01-01 | 01:10:00 | CORDELIA AL &amp; BROADWAY      | 37.8 | -122 | A | 19 | black                  | male   | FALSE |    NA | FALSE | Moving Violation                          | 2009 |\n",
       "| 2009-01-01 | 11:00:00 | LINCOLN WAY AND 9TH AVE     | 37.8 | -122 | G | 73 | white                  | male   | FALSE |    NA | FALSE | Moving Violation                          | 2009 |\n",
       "| 2009-01-01 | 11:10:00 | SILVER&amp;COLBY                | 37.7 | -122 | C | 32 | hispanic               | male   | FALSE |    NA | FALSE | Moving Violation                          | 2009 |\n",
       "| 2009-01-01 | 11:15:00 | EVAN/TOLAND                 | 37.7 | -122 | C | 34 | black                  | male   | FALSE |  TRUE |  TRUE | Moving Violation                          | 2009 |\n",
       "| 2009-01-01 | 11:18:00 | HYDE ST &amp; CALIFORNIA        | 37.8 | -122 | A | 49 | asian/pacific islander | female | FALSE |    NA | FALSE | Moving Violation                          | 2009 |\n",
       "| 2009-01-01 | 01:12:00 | 4TH ST. &amp; HARRISON ST       | 37.8 | -122 | B | 27 | white                  | male   | FALSE |    NA | FALSE | Moving Violation                          | 2009 |\n",
       "| 2009-01-01 | 11:25:00 | 1800 BLK LINCOLNAT 19TH AVE | 37.8 | -122 | I | 43 | white                  | male   | FALSE | FALSE |  TRUE | Mechanical or Non-Moving Violation (V.C.) | 2009 |\n",
       "| 2009-01-01 | 11:27:00 | 19TH/RIBVERA                | 37.7 | -122 | I | 49 | white                  | male   | FALSE |    NA | FALSE | Mechanical or Non-Moving Violation (V.C.) | 2009 |\n",
       "| 2009-01-01 | 11:30:00 | ARMY/EVAN                   | 37.8 | -122 | C | 20 | black                  | female | FALSE |    NA | FALSE | Moving Violation                          | 2009 |\n",
       "| 2009-01-01 | 11:35:00 | LINCOLN WAY AND 9TH AVE     | 37.8 | -122 | G | 49 | asian/pacific islander | male   | FALSE |    NA | FALSE | Moving Violation                          | 2009 |\n",
       "| 2009-01-01 | 11:45:00 | TURK/FILLMORE               | 37.8 | -122 | E | NA | asian/pacific islander | male   | FALSE |    NA | FALSE | Moving Violation                          | 2009 |\n",
       "| 2009-01-01 | 11:53:00 | MISSION ST &amp; 23RD ST        | 37.8 | -122 | D | 18 | other                  | male   | FALSE |    NA | FALSE | Mechanical or Non-Moving Violation (V.C.) | 2009 |\n",
       "| 2009-01-01 | 11:58:00 | VALENCIA &amp;19TH              | 37.8 | -122 | D | 62 | white                  | male   | FALSE |    NA | FALSE | Mechanical or Non-Moving Violation (V.C.) | 2009 |\n",
       "| 2009-01-01 | 00:12:00 | 19TH AVE &amp; SLOAT BLVD       | 37.7 | -122 | I | 45 | asian/pacific islander | male   | FALSE |    NA | FALSE | Moving Violation                          | 2009 |\n",
       "| 2009-01-01 | 00:12:00 | 400 BLK BROADWAY            | 37.8 | -122 | A | 19 | white                  | male   | FALSE |    NA | FALSE | Moving Violation                          | 2009 |\n",
       "| 2009-01-01 | 01:20:00 | 19TH AVE &amp; JUDAH ST         | 37.8 | -122 | I | 33 | asian/pacific islander | male   | FALSE |    NA | FALSE | Moving Violation                          | 2009 |\n",
       "| ⋮ | ⋮ | ⋮ | ⋮ | ⋮ | ⋮ | ⋮ | ⋮ | ⋮ | ⋮ | ⋮ | ⋮ | ⋮ | ⋮ |\n",
       "| 2016-06-30 | 06:56:00 | 15TH AND KANSAS            | 37.8 | -122 | C | 56 | white                  | male   | FALSE |   NA | FALSE | Moving Violation                          | 2016 |\n",
       "| 2016-06-30 | 06:57:00 | EMBARCADERO X CHESTNUT     | 37.8 | -122 | A | 31 | white                  | female | FALSE |   NA | FALSE | Moving Violation                          | 2016 |\n",
       "| 2016-06-30 | 07:10:00 | MISSION ST &amp; 18TH ST       | 37.8 | -122 | D | 31 | hispanic               | male   | FALSE |   NA | FALSE | Mechanical or Non-Moving Violation (V.C.) | 2016 |\n",
       "| 2016-06-30 | 07:15:00 | S VAN NESS &amp; 17TH          | 37.8 | -122 | D | 41 | hispanic               | male   | FALSE |   NA | FALSE | Mechanical or Non-Moving Violation (V.C.) | 2016 |\n",
       "| 2016-06-30 | 07:20:00 | 965 GEARY ST.              | 37.8 | -122 | E | 49 | asian/pacific islander | female | FALSE |   NA | FALSE | Moving Violation                          | 2016 |\n",
       "| 2016-06-30 | 07:40:00 | GEARY ST. &amp; JONES ST.      | 37.8 | -122 | J | 28 | hispanic               | female | FALSE |   NA | FALSE | Moving Violation                          | 2016 |\n",
       "| 2016-06-30 | 07:55:00 | 14TH AVE &amp; BALBOA ST       | 37.8 | -122 | G | 32 | asian/pacific islander | male   | FALSE |   NA | FALSE | Moving Violation                          | 2016 |\n",
       "| 2016-06-30 | 07:55:00 | 3RD ST &amp; BRYANT ST         | 37.8 | -122 | B | 45 | hispanic               | male   | FALSE |   NA | FALSE | Moving Violation                          | 2016 |\n",
       "| 2016-06-30 | 07:55:00 | 800 BLK GEARY.             | 37.8 | -122 | A | 46 | white                  | male   | FALSE |   NA | FALSE | Moving Violation                          | 2016 |\n",
       "| 2016-06-30 | 08:05:00 | FULTON ST AND FILLMORE ST  | 37.8 | -122 | E | 30 | hispanic               | female | FALSE |   NA | FALSE | Moving Violation                          | 2016 |\n",
       "| 2016-06-30 | 08:11:00 | POLK/UNION                 | 37.8 | -122 | E | 32 | white                  | male   | FALSE |   NA | FALSE | Moving Violation                          | 2016 |\n",
       "| 2016-06-30 | 08:15:00 | POLK/ EDDY                 | 37.8 | -122 | E | 56 | white                  | male   | FALSE |   NA | FALSE | Moving Violation                          | 2016 |\n",
       "| 2016-06-30 | 08:20:00 | FULTON ST AND FILLMORE ST  | 37.8 | -122 | E | 46 | white                  | male   | FALSE |   NA | FALSE | Moving Violation                          | 2016 |\n",
       "| 2016-06-30 | 08:25:00 | 781 GEARY ST.              | 37.8 | -122 | J | 35 | hispanic               | male   | FALSE |   NA | FALSE | Moving Violation                          | 2016 |\n",
       "| 2016-06-30 | 08:30:00 | 24TH &amp; TARAVAL             | 37.7 | -122 | I | 59 | hispanic               | male   | FALSE |   NA | FALSE | Mechanical or Non-Moving Violation (V.C.) | 2016 |\n",
       "| 2016-06-30 | 08:30:00 | 19TH AVE. &amp; DENSLOWE ST.   | 37.7 | -122 | I | 31 | other                  | female | FALSE |   NA | FALSE | Moving Violation                          | 2016 |\n",
       "| 2016-06-30 | 08:30:00 | ANDERSON &amp; EUGENIA         | 37.7 | -122 | H | 29 | white                  | female | FALSE |   NA | FALSE | Moving Violation                          | 2016 |\n",
       "| 2016-06-30 | 08:38:00 | FULTON ST AND SCOTT ST     | 37.8 | -122 | E | 26 | white                  | male   | FALSE |   NA | FALSE | Moving Violation                          | 2016 |\n",
       "| 2016-06-30 | 08:45:00 | 781 GEARY ST.              | 37.8 | -122 | J | 38 | other                  | male   | FALSE |   NA | FALSE | Moving Violation                          | 2016 |\n",
       "| 2016-06-30 | 08:50:00 | FULTON ST AND FILLMORE ST  | 37.8 | -122 | E | 26 | asian/pacific islander | male   | FALSE |   NA | FALSE | Moving Violation                          | 2016 |\n",
       "| 2016-06-30 | 08:50:00 | 26TH &amp; JUDAH               | 37.8 | -122 | I | 59 | white                  | male   | FALSE |   NA | FALSE | Moving Violation                          | 2016 |\n",
       "| 2016-06-30 | 08:55:00 | GEARY ST. &amp; HYDE ST.       | 37.8 | -122 | J | 29 | white                  | female | FALSE |   NA | FALSE | Moving Violation                          | 2016 |\n",
       "| 2016-06-30 | 00:09:00 | LARKIN &amp; BROADWAY          | 37.8 | -122 | A | 24 | hispanic               | male   | FALSE |   NA | FALSE | Mechanical or Non-Moving Violation (V.C.) | 2016 |\n",
       "| 2016-06-30 | 09:00:00 | MISSION &amp; SANTA MARINA     | 37.7 | -122 | H | 28 | black                  | male   | FALSE | TRUE |  TRUE | Mechanical or Non-Moving Violation (V.C.) | 2016 |\n",
       "| 2016-06-30 | 09:15:00 | GOLDEN GATE &amp; JONES        | 37.8 | -122 | J | 35 | asian/pacific islander | male   | FALSE |   NA | FALSE | Moving Violation                          | 2016 |\n",
       "| 2016-06-30 | 09:24:00 | JONES &amp; MCALLISTER         | 37.8 | -122 | J | 47 | hispanic               | female | FALSE |   NA | FALSE | Moving Violation                          | 2016 |\n",
       "| 2016-06-30 | 09:34:00 | GOLDEN GATE &amp; HYDE         | 37.8 | -122 | J | 55 | white                  | female | FALSE |   NA | FALSE | Moving Violation                          | 2016 |\n",
       "| 2016-06-30 | 09:50:00 | 11TH ST. &amp; MARKET ST.      | 37.8 | -122 | J | 36 | asian/pacific islander | male   | FALSE |   NA | FALSE | Moving Violation                          | 2016 |\n",
       "| 2016-06-30 | 09:50:00 | BROTHERHOOD WAY &amp; ARCH ST. | 37.7 | -122 | I | 50 | black                  | male   | FALSE |   NA | FALSE | Mechanical or Non-Moving Violation (V.C.) | 2016 |\n",
       "| 2016-06-30 | 09:55:00 | 1650 17THAV                | 37.8 | -122 | I | 22 | other                  | female | FALSE |   NA | FALSE | Moving Violation                          | 2016 |\n",
       "\n"
      ],
      "text/plain": [
       "       date       time     location                    lat  lng  district age\n",
       "1      2009-01-01 10:10:00 1736 PALOU                  37.7 -122 C        22 \n",
       "2      2009-01-01 10:15:00 THRIFT/PLYMTH               37.7 -122 I        44 \n",
       "3      2009-01-01 10:20:00 FLORIDA/19TH                37.8 -122 D        45 \n",
       "4      2009-01-01 10:20:00 19TH AVE/MORAGAE            37.8 -122 I        27 \n",
       "5      2009-01-01 10:36:00 19TH/LINCOLN                37.8 -122 I        29 \n",
       "6      2009-01-01 10:40:00 16TH&JULIAN                 37.8 -122 D        34 \n",
       "7      2009-01-01 10:40:00 LAKE ST & 12TH AVE          37.8 -122 G        50 \n",
       "8      2009-01-01 10:44:00 19TH/SANTIAGO               37.7 -122 I        29 \n",
       "9      2009-01-01 10:45:00 19TH AVE & TARAVAL ST       37.7 -122 I        44 \n",
       "10     2009-01-01 10:50:00 LINCOLN WAY AND 9TH AVE     37.8 -122 G        30 \n",
       "11     2009-01-01 10:50:00 UNION/LARKIN                37.8 -122 E        46 \n",
       "12     2009-01-01 10:55:00 LA SALLE @ NEWCOMB          37.7 -122 C        26 \n",
       "13     2009-01-01 10:55:00 ALABAMA & @22ND ST          37.8 -122 D        59 \n",
       "14     2009-01-01 10:55:00 2900 BLK 19TH AVE           37.7 -122 I        61 \n",
       "15     2009-01-01 01:10:00 CORDELIA AL & BROADWAY      37.8 -122 A        19 \n",
       "16     2009-01-01 11:00:00 LINCOLN WAY AND 9TH AVE     37.8 -122 G        73 \n",
       "17     2009-01-01 11:10:00 SILVER&COLBY                37.7 -122 C        32 \n",
       "18     2009-01-01 11:15:00 EVAN/TOLAND                 37.7 -122 C        34 \n",
       "19     2009-01-01 11:18:00 HYDE ST & CALIFORNIA        37.8 -122 A        49 \n",
       "20     2009-01-01 01:12:00 4TH ST. & HARRISON ST       37.8 -122 B        27 \n",
       "21     2009-01-01 11:25:00 1800 BLK LINCOLNAT 19TH AVE 37.8 -122 I        43 \n",
       "22     2009-01-01 11:27:00 19TH/RIBVERA                37.7 -122 I        49 \n",
       "23     2009-01-01 11:30:00 ARMY/EVAN                   37.8 -122 C        20 \n",
       "24     2009-01-01 11:35:00 LINCOLN WAY AND 9TH AVE     37.8 -122 G        49 \n",
       "25     2009-01-01 11:45:00 TURK/FILLMORE               37.8 -122 E        NA \n",
       "26     2009-01-01 11:53:00 MISSION ST & 23RD ST        37.8 -122 D        18 \n",
       "27     2009-01-01 11:58:00 VALENCIA &19TH              37.8 -122 D        62 \n",
       "28     2009-01-01 00:12:00 19TH AVE & SLOAT BLVD       37.7 -122 I        45 \n",
       "29     2009-01-01 00:12:00 400 BLK BROADWAY            37.8 -122 A        19 \n",
       "30     2009-01-01 01:20:00 19TH AVE & JUDAH ST         37.8 -122 I        33 \n",
       "⋮      ⋮          ⋮        ⋮                           ⋮    ⋮    ⋮        ⋮  \n",
       "636132 2016-06-30 06:56:00 15TH AND KANSAS             37.8 -122 C        56 \n",
       "636133 2016-06-30 06:57:00 EMBARCADERO X CHESTNUT      37.8 -122 A        31 \n",
       "636134 2016-06-30 07:10:00 MISSION ST & 18TH ST        37.8 -122 D        31 \n",
       "636135 2016-06-30 07:15:00 S VAN NESS & 17TH           37.8 -122 D        41 \n",
       "636136 2016-06-30 07:20:00 965 GEARY ST.               37.8 -122 E        49 \n",
       "636137 2016-06-30 07:40:00 GEARY ST. & JONES ST.       37.8 -122 J        28 \n",
       "636138 2016-06-30 07:55:00 14TH AVE & BALBOA ST        37.8 -122 G        32 \n",
       "636139 2016-06-30 07:55:00 3RD ST & BRYANT ST          37.8 -122 B        45 \n",
       "636140 2016-06-30 07:55:00 800 BLK GEARY.              37.8 -122 A        46 \n",
       "636141 2016-06-30 08:05:00 FULTON ST AND FILLMORE ST   37.8 -122 E        30 \n",
       "636142 2016-06-30 08:11:00 POLK/UNION                  37.8 -122 E        32 \n",
       "636143 2016-06-30 08:15:00 POLK/ EDDY                  37.8 -122 E        56 \n",
       "636144 2016-06-30 08:20:00 FULTON ST AND FILLMORE ST   37.8 -122 E        46 \n",
       "636145 2016-06-30 08:25:00 781 GEARY ST.               37.8 -122 J        35 \n",
       "636146 2016-06-30 08:30:00 24TH & TARAVAL              37.7 -122 I        59 \n",
       "636147 2016-06-30 08:30:00 19TH AVE. & DENSLOWE ST.    37.7 -122 I        31 \n",
       "636148 2016-06-30 08:30:00 ANDERSON & EUGENIA          37.7 -122 H        29 \n",
       "636149 2016-06-30 08:38:00 FULTON ST AND SCOTT ST      37.8 -122 E        26 \n",
       "636150 2016-06-30 08:45:00 781 GEARY ST.               37.8 -122 J        38 \n",
       "636151 2016-06-30 08:50:00 FULTON ST AND FILLMORE ST   37.8 -122 E        26 \n",
       "636152 2016-06-30 08:50:00 26TH & JUDAH                37.8 -122 I        59 \n",
       "636153 2016-06-30 08:55:00 GEARY ST. & HYDE ST.        37.8 -122 J        29 \n",
       "636154 2016-06-30 00:09:00 LARKIN & BROADWAY           37.8 -122 A        24 \n",
       "636155 2016-06-30 09:00:00 MISSION & SANTA MARINA      37.7 -122 H        28 \n",
       "636156 2016-06-30 09:15:00 GOLDEN GATE & JONES         37.8 -122 J        35 \n",
       "636157 2016-06-30 09:24:00 JONES & MCALLISTER          37.8 -122 J        47 \n",
       "636158 2016-06-30 09:34:00 GOLDEN GATE & HYDE          37.8 -122 J        55 \n",
       "636159 2016-06-30 09:50:00 11TH ST. & MARKET ST.       37.8 -122 J        36 \n",
       "636160 2016-06-30 09:50:00 BROTHERHOOD WAY & ARCH ST.  37.7 -122 I        50 \n",
       "636161 2016-06-30 09:55:00 1650 17THAV                 37.8 -122 I        22 \n",
       "       race                   gender arrested contraband_found searched\n",
       "1      black                  female FALSE    FALSE             TRUE   \n",
       "2      black                  male   FALSE       NA            FALSE   \n",
       "3      white                  female FALSE       NA            FALSE   \n",
       "4      white                  male   FALSE       NA            FALSE   \n",
       "5      white                  male   FALSE       NA            FALSE   \n",
       "6      black                  male   FALSE       NA            FALSE   \n",
       "7      white                  female FALSE       NA            FALSE   \n",
       "8      white                  female FALSE       NA            FALSE   \n",
       "9      white                  female FALSE       NA            FALSE   \n",
       "10     white                  male   FALSE       NA            FALSE   \n",
       "11     white                  male   FALSE       NA            FALSE   \n",
       "12     black                  male   FALSE    FALSE             TRUE   \n",
       "13     black                  male   FALSE       NA            FALSE   \n",
       "14     other                  male   FALSE    FALSE             TRUE   \n",
       "15     black                  male   FALSE       NA            FALSE   \n",
       "16     white                  male   FALSE       NA            FALSE   \n",
       "17     hispanic               male   FALSE       NA            FALSE   \n",
       "18     black                  male   FALSE     TRUE             TRUE   \n",
       "19     asian/pacific islander female FALSE       NA            FALSE   \n",
       "20     white                  male   FALSE       NA            FALSE   \n",
       "21     white                  male   FALSE    FALSE             TRUE   \n",
       "22     white                  male   FALSE       NA            FALSE   \n",
       "23     black                  female FALSE       NA            FALSE   \n",
       "24     asian/pacific islander male   FALSE       NA            FALSE   \n",
       "25     asian/pacific islander male   FALSE       NA            FALSE   \n",
       "26     other                  male   FALSE       NA            FALSE   \n",
       "27     white                  male   FALSE       NA            FALSE   \n",
       "28     asian/pacific islander male   FALSE       NA            FALSE   \n",
       "29     white                  male   FALSE       NA            FALSE   \n",
       "30     asian/pacific islander male   FALSE       NA            FALSE   \n",
       "⋮      ⋮                      ⋮      ⋮        ⋮                ⋮       \n",
       "636132 white                  male   FALSE      NA             FALSE   \n",
       "636133 white                  female FALSE      NA             FALSE   \n",
       "636134 hispanic               male   FALSE      NA             FALSE   \n",
       "636135 hispanic               male   FALSE      NA             FALSE   \n",
       "636136 asian/pacific islander female FALSE      NA             FALSE   \n",
       "636137 hispanic               female FALSE      NA             FALSE   \n",
       "636138 asian/pacific islander male   FALSE      NA             FALSE   \n",
       "636139 hispanic               male   FALSE      NA             FALSE   \n",
       "636140 white                  male   FALSE      NA             FALSE   \n",
       "636141 hispanic               female FALSE      NA             FALSE   \n",
       "636142 white                  male   FALSE      NA             FALSE   \n",
       "636143 white                  male   FALSE      NA             FALSE   \n",
       "636144 white                  male   FALSE      NA             FALSE   \n",
       "636145 hispanic               male   FALSE      NA             FALSE   \n",
       "636146 hispanic               male   FALSE      NA             FALSE   \n",
       "636147 other                  female FALSE      NA             FALSE   \n",
       "636148 white                  female FALSE      NA             FALSE   \n",
       "636149 white                  male   FALSE      NA             FALSE   \n",
       "636150 other                  male   FALSE      NA             FALSE   \n",
       "636151 asian/pacific islander male   FALSE      NA             FALSE   \n",
       "636152 white                  male   FALSE      NA             FALSE   \n",
       "636153 white                  female FALSE      NA             FALSE   \n",
       "636154 hispanic               male   FALSE      NA             FALSE   \n",
       "636155 black                  male   FALSE    TRUE              TRUE   \n",
       "636156 asian/pacific islander male   FALSE      NA             FALSE   \n",
       "636157 hispanic               female FALSE      NA             FALSE   \n",
       "636158 white                  female FALSE      NA             FALSE   \n",
       "636159 asian/pacific islander male   FALSE      NA             FALSE   \n",
       "636160 black                  male   FALSE      NA             FALSE   \n",
       "636161 other                  female FALSE      NA             FALSE   \n",
       "       reason_for_stop                           yr  \n",
       "1      Mechanical or Non-Moving Violation (V.C.) 2009\n",
       "2      Moving Violation                          2009\n",
       "3      Mechanical or Non-Moving Violation (V.C.) 2009\n",
       "4      Mechanical or Non-Moving Violation (V.C.) 2009\n",
       "5      Mechanical or Non-Moving Violation (V.C.) 2009\n",
       "6      Moving Violation                          2009\n",
       "7      Moving Violation                          2009\n",
       "8      Mechanical or Non-Moving Violation (V.C.) 2009\n",
       "9      Moving Violation                          2009\n",
       "10     Moving Violation                          2009\n",
       "11     Moving Violation                          2009\n",
       "12     Moving Violation                          2009\n",
       "13     Mechanical or Non-Moving Violation (V.C.) 2009\n",
       "14     Mechanical or Non-Moving Violation (V.C.) 2009\n",
       "15     Moving Violation                          2009\n",
       "16     Moving Violation                          2009\n",
       "17     Moving Violation                          2009\n",
       "18     Moving Violation                          2009\n",
       "19     Moving Violation                          2009\n",
       "20     Moving Violation                          2009\n",
       "21     Mechanical or Non-Moving Violation (V.C.) 2009\n",
       "22     Mechanical or Non-Moving Violation (V.C.) 2009\n",
       "23     Moving Violation                          2009\n",
       "24     Moving Violation                          2009\n",
       "25     Moving Violation                          2009\n",
       "26     Mechanical or Non-Moving Violation (V.C.) 2009\n",
       "27     Mechanical or Non-Moving Violation (V.C.) 2009\n",
       "28     Moving Violation                          2009\n",
       "29     Moving Violation                          2009\n",
       "30     Moving Violation                          2009\n",
       "⋮      ⋮                                         ⋮   \n",
       "636132 Moving Violation                          2016\n",
       "636133 Moving Violation                          2016\n",
       "636134 Mechanical or Non-Moving Violation (V.C.) 2016\n",
       "636135 Mechanical or Non-Moving Violation (V.C.) 2016\n",
       "636136 Moving Violation                          2016\n",
       "636137 Moving Violation                          2016\n",
       "636138 Moving Violation                          2016\n",
       "636139 Moving Violation                          2016\n",
       "636140 Moving Violation                          2016\n",
       "636141 Moving Violation                          2016\n",
       "636142 Moving Violation                          2016\n",
       "636143 Moving Violation                          2016\n",
       "636144 Moving Violation                          2016\n",
       "636145 Moving Violation                          2016\n",
       "636146 Mechanical or Non-Moving Violation (V.C.) 2016\n",
       "636147 Moving Violation                          2016\n",
       "636148 Moving Violation                          2016\n",
       "636149 Moving Violation                          2016\n",
       "636150 Moving Violation                          2016\n",
       "636151 Moving Violation                          2016\n",
       "636152 Moving Violation                          2016\n",
       "636153 Moving Violation                          2016\n",
       "636154 Mechanical or Non-Moving Violation (V.C.) 2016\n",
       "636155 Mechanical or Non-Moving Violation (V.C.) 2016\n",
       "636156 Moving Violation                          2016\n",
       "636157 Moving Violation                          2016\n",
       "636158 Moving Violation                          2016\n",
       "636159 Moving Violation                          2016\n",
       "636160 Mechanical or Non-Moving Violation (V.C.) 2016\n",
       "636161 Moving Violation                          2016"
      ]
     },
     "metadata": {},
     "output_type": "display_data"
    }
   ],
   "source": [
    "stops_w_yr %>%\n",
    "    group_by(district)"
   ]
  },
  {
   "cell_type": "markdown",
   "metadata": {},
   "source": [
    "The second step is to do something with those groups. That's what `summarize()`\n",
    "does. The way `summarize()` works is to take a dataframe broken into groups by\n",
    "`group_by()` and calculate a statistic for each group. The basic syntax is\n",
    "`summarize(DATA, STAT = FUN(COL_NAME))`, where \n",
    "* `DATA` is some dataframe broken\n",
    "up by `group_by()`, \n",
    "* `STAT` is some statistic we want to calculate, \n",
    "* `FUN` is the\n",
    "function that calculates that statistic, and \n",
    "* `COL_NAME` is the name of the\n",
    "column (or columns) used to calculate the statistic.\n",
    "\n",
    "Let's put it all together with a simple example first."
   ]
  },
  {
   "cell_type": "code",
   "execution_count": 18,
   "metadata": {},
   "outputs": [
    {
     "data": {
      "text/html": [
       "<table>\n",
       "<caption>A tibble: 6 × 5</caption>\n",
       "<thead>\n",
       "\t<tr><th scope=col>name</th><th scope=col>gender</th><th scope=col>color</th><th scope=col>food</th><th scope=col>n_items</th></tr>\n",
       "\t<tr><th scope=col>&lt;chr&gt;</th><th scope=col>&lt;chr&gt;</th><th scope=col>&lt;chr&gt;</th><th scope=col>&lt;chr&gt;</th><th scope=col>&lt;dbl&gt;</th></tr>\n",
       "</thead>\n",
       "<tbody>\n",
       "\t<tr><td>Heaven</td><td>f</td><td>green</td><td>apple </td><td> 4</td></tr>\n",
       "\t<tr><td>Jesus </td><td>m</td><td>blue </td><td>apple </td><td>10</td></tr>\n",
       "\t<tr><td>Grace </td><td>f</td><td>green</td><td>apple </td><td>12</td></tr>\n",
       "\t<tr><td>Maria </td><td>f</td><td>blue </td><td>banana</td><td>14</td></tr>\n",
       "\t<tr><td>Juan  </td><td>m</td><td>green</td><td>banana</td><td> 7</td></tr>\n",
       "\t<tr><td>Tram  </td><td>f</td><td>blue </td><td>banana</td><td> 5</td></tr>\n",
       "</tbody>\n",
       "</table>\n"
      ],
      "text/latex": [
       "A tibble: 6 × 5\n",
       "\\begin{tabular}{r|lllll}\n",
       " name & gender & color & food & n\\_items\\\\\n",
       " <chr> & <chr> & <chr> & <chr> & <dbl>\\\\\n",
       "\\hline\n",
       "\t Heaven & f & green & apple  &  4\\\\\n",
       "\t Jesus  & m & blue  & apple  & 10\\\\\n",
       "\t Grace  & f & green & apple  & 12\\\\\n",
       "\t Maria  & f & blue  & banana & 14\\\\\n",
       "\t Juan   & m & green & banana &  7\\\\\n",
       "\t Tram   & f & blue  & banana &  5\\\\\n",
       "\\end{tabular}\n"
      ],
      "text/markdown": [
       "\n",
       "A tibble: 6 × 5\n",
       "\n",
       "| name &lt;chr&gt; | gender &lt;chr&gt; | color &lt;chr&gt; | food &lt;chr&gt; | n_items &lt;dbl&gt; |\n",
       "|---|---|---|---|---|\n",
       "| Heaven | f | green | apple  |  4 |\n",
       "| Jesus  | m | blue  | apple  | 10 |\n",
       "| Grace  | f | green | apple  | 12 |\n",
       "| Maria  | f | blue  | banana | 14 |\n",
       "| Juan   | m | green | banana |  7 |\n",
       "| Tram   | f | blue  | banana |  5 |\n",
       "\n"
      ],
      "text/plain": [
       "  name   gender color food   n_items\n",
       "1 Heaven f      green apple   4     \n",
       "2 Jesus  m      blue  apple  10     \n",
       "3 Grace  f      green apple  12     \n",
       "4 Maria  f      blue  banana 14     \n",
       "5 Juan   m      green banana  7     \n",
       "6 Tram   f      blue  banana  5     "
      ]
     },
     "metadata": {},
     "output_type": "display_data"
    }
   ],
   "source": [
    "# Consider the following dataframe (a \"tibble\" is just a dataframe)\n",
    "d <- tibble(\n",
    "    name = c(\"Heaven\", \"Jesus\", \"Grace\", \"Maria\", \"Juan\", \"Tram\"), \n",
    "    gender = c(\"f\", \"m\", \"f\", \"f\", \"m\", \"f\"), \n",
    "    color = rep(c(\"green\", \"blue\"), 3),\n",
    "    food = c(rep(\"apple\", 3), rep(\"banana\",3)),\n",
    "    n_items = c(4,10,12,14,7,5)\n",
    ")\n",
    "d"
   ]
  },
  {
   "cell_type": "code",
   "execution_count": 19,
   "metadata": {},
   "outputs": [
    {
     "data": {
      "text/html": [
       "<table>\n",
       "<caption>A tibble: 2 × 2</caption>\n",
       "<thead>\n",
       "\t<tr><th scope=col>gender</th><th scope=col>total_items</th></tr>\n",
       "\t<tr><th scope=col>&lt;chr&gt;</th><th scope=col>&lt;dbl&gt;</th></tr>\n",
       "</thead>\n",
       "<tbody>\n",
       "\t<tr><td>f</td><td>35</td></tr>\n",
       "\t<tr><td>m</td><td>17</td></tr>\n",
       "</tbody>\n",
       "</table>\n"
      ],
      "text/latex": [
       "A tibble: 2 × 2\n",
       "\\begin{tabular}{r|ll}\n",
       " gender & total\\_items\\\\\n",
       " <chr> & <dbl>\\\\\n",
       "\\hline\n",
       "\t f & 35\\\\\n",
       "\t m & 17\\\\\n",
       "\\end{tabular}\n"
      ],
      "text/markdown": [
       "\n",
       "A tibble: 2 × 2\n",
       "\n",
       "| gender &lt;chr&gt; | total_items &lt;dbl&gt; |\n",
       "|---|---|\n",
       "| f | 35 |\n",
       "| m | 17 |\n",
       "\n"
      ],
      "text/plain": [
       "  gender total_items\n",
       "1 f      35         \n",
       "2 m      17         "
      ]
     },
     "metadata": {},
     "output_type": "display_data"
    }
   ],
   "source": [
    "# If we want to figure out how many foods the girls have and how\n",
    "# many foods the boys have, we can `group_by` gender and then \n",
    "# `summarize` by summing the number of items.\n",
    "d %>%\n",
    "    group_by(gender) %>%\n",
    "    summarize(total_items = sum(n_items))"
   ]
  },
  {
   "cell_type": "code",
   "execution_count": 20,
   "metadata": {},
   "outputs": [
    {
     "data": {
      "text/html": [
       "<table>\n",
       "<caption>A tibble: 2 × 3</caption>\n",
       "<thead>\n",
       "\t<tr><th scope=col>gender</th><th scope=col>total_items</th><th scope=col>avg_items</th></tr>\n",
       "\t<tr><th scope=col>&lt;chr&gt;</th><th scope=col>&lt;dbl&gt;</th><th scope=col>&lt;dbl&gt;</th></tr>\n",
       "</thead>\n",
       "<tbody>\n",
       "\t<tr><td>f</td><td>35</td><td>8.75</td></tr>\n",
       "\t<tr><td>m</td><td>17</td><td>8.50</td></tr>\n",
       "</tbody>\n",
       "</table>\n"
      ],
      "text/latex": [
       "A tibble: 2 × 3\n",
       "\\begin{tabular}{r|lll}\n",
       " gender & total\\_items & avg\\_items\\\\\n",
       " <chr> & <dbl> & <dbl>\\\\\n",
       "\\hline\n",
       "\t f & 35 & 8.75\\\\\n",
       "\t m & 17 & 8.50\\\\\n",
       "\\end{tabular}\n"
      ],
      "text/markdown": [
       "\n",
       "A tibble: 2 × 3\n",
       "\n",
       "| gender &lt;chr&gt; | total_items &lt;dbl&gt; | avg_items &lt;dbl&gt; |\n",
       "|---|---|---|\n",
       "| f | 35 | 8.75 |\n",
       "| m | 17 | 8.50 |\n",
       "\n"
      ],
      "text/plain": [
       "  gender total_items avg_items\n",
       "1 f      35          8.75     \n",
       "2 m      17          8.50     "
      ]
     },
     "metadata": {},
     "output_type": "display_data"
    }
   ],
   "source": [
    "# We can also compute the _average_ number of items, the same way!\n",
    "d %>%\n",
    "    group_by(gender) %>%\n",
    "    summarize(\n",
    "        total_items = sum(n_items),\n",
    "        avg_items = mean(n_items)\n",
    "    )"
   ]
  },
  {
   "cell_type": "code",
   "execution_count": 21,
   "metadata": {},
   "outputs": [
    {
     "data": {
      "text/html": [
       "<table>\n",
       "<caption>A tibble: 2 × 4</caption>\n",
       "<thead>\n",
       "\t<tr><th scope=col>gender</th><th scope=col>total_items</th><th scope=col>num_people</th><th scope=col>avg_items</th></tr>\n",
       "\t<tr><th scope=col>&lt;chr&gt;</th><th scope=col>&lt;dbl&gt;</th><th scope=col>&lt;int&gt;</th><th scope=col>&lt;dbl&gt;</th></tr>\n",
       "</thead>\n",
       "<tbody>\n",
       "\t<tr><td>f</td><td>35</td><td>4</td><td>8.75</td></tr>\n",
       "\t<tr><td>m</td><td>17</td><td>2</td><td>8.50</td></tr>\n",
       "</tbody>\n",
       "</table>\n"
      ],
      "text/latex": [
       "A tibble: 2 × 4\n",
       "\\begin{tabular}{r|llll}\n",
       " gender & total\\_items & num\\_people & avg\\_items\\\\\n",
       " <chr> & <dbl> & <int> & <dbl>\\\\\n",
       "\\hline\n",
       "\t f & 35 & 4 & 8.75\\\\\n",
       "\t m & 17 & 2 & 8.50\\\\\n",
       "\\end{tabular}\n"
      ],
      "text/markdown": [
       "\n",
       "A tibble: 2 × 4\n",
       "\n",
       "| gender &lt;chr&gt; | total_items &lt;dbl&gt; | num_people &lt;int&gt; | avg_items &lt;dbl&gt; |\n",
       "|---|---|---|---|\n",
       "| f | 35 | 4 | 8.75 |\n",
       "| m | 17 | 2 | 8.50 |\n",
       "\n"
      ],
      "text/plain": [
       "  gender total_items num_people avg_items\n",
       "1 f      35          4          8.75     \n",
       "2 m      17          2          8.50     "
      ]
     },
     "metadata": {},
     "output_type": "display_data"
    }
   ],
   "source": [
    "# We can use the function `n()` to tell us how many instances\n",
    "# exist in each group (i.e., how many boys and how many girls we have)\n",
    "# This is another way we could compute the average ourselves!\n",
    "d %>%\n",
    "    group_by(gender) %>%\n",
    "    summarize(\n",
    "        total_items = sum(n_items),\n",
    "        num_people = n(),\n",
    "        avg_items = total_items / num_people\n",
    "    )\n"
   ]
  },
  {
   "cell_type": "markdown",
   "metadata": {},
   "source": [
    "Make sense? Now, using `group_by()` and `summarize()`, we'll calculate search rates by race group."
   ]
  },
  {
   "cell_type": "markdown",
   "metadata": {},
   "source": [
    "## Exercise 4: Search rates\n",
    "\n",
    "1. Compute search rates by race group. (Hint: Think about what information you'd need to compute a search rate. The `n()` function might be helpful!)\n",
    "2. Discuss the search rate findings. Are some race groups searched more often than other race groups, relative to their share of stopped drivers?\n",
    "\n",
    "NOTE: Since we're not comparing to population numbers, we can return to using our full `stops_w_yr` dataset, with all years!"
   ]
  },
  {
   "cell_type": "code",
   "execution_count": 22,
   "metadata": {},
   "outputs": [
    {
     "data": {
      "text/html": [
       "<table>\n",
       "<caption>A tibble: 5 × 4</caption>\n",
       "<thead>\n",
       "\t<tr><th scope=col>race</th><th scope=col>n_searched</th><th scope=col>n_stopped</th><th scope=col>search_rate</th></tr>\n",
       "\t<tr><th scope=col>&lt;chr&gt;</th><th scope=col>&lt;int&gt;</th><th scope=col>&lt;int&gt;</th><th scope=col>&lt;dbl&gt;</th></tr>\n",
       "</thead>\n",
       "<tbody>\n",
       "\t<tr><td>asian/pacific islander</td><td> 1867</td><td>110931</td><td>0.0168</td></tr>\n",
       "\t<tr><td>black                 </td><td>16909</td><td>106143</td><td>0.1593</td></tr>\n",
       "\t<tr><td>hispanic              </td><td> 7451</td><td> 82979</td><td>0.0898</td></tr>\n",
       "\t<tr><td>other                 </td><td> 2436</td><td> 76569</td><td>0.0318</td></tr>\n",
       "\t<tr><td>white                 </td><td> 7569</td><td>259539</td><td>0.0292</td></tr>\n",
       "</tbody>\n",
       "</table>\n"
      ],
      "text/latex": [
       "A tibble: 5 × 4\n",
       "\\begin{tabular}{r|llll}\n",
       " race & n\\_searched & n\\_stopped & search\\_rate\\\\\n",
       " <chr> & <int> & <int> & <dbl>\\\\\n",
       "\\hline\n",
       "\t asian/pacific islander &  1867 & 110931 & 0.0168\\\\\n",
       "\t black                  & 16909 & 106143 & 0.1593\\\\\n",
       "\t hispanic               &  7451 &  82979 & 0.0898\\\\\n",
       "\t other                  &  2436 &  76569 & 0.0318\\\\\n",
       "\t white                  &  7569 & 259539 & 0.0292\\\\\n",
       "\\end{tabular}\n"
      ],
      "text/markdown": [
       "\n",
       "A tibble: 5 × 4\n",
       "\n",
       "| race &lt;chr&gt; | n_searched &lt;int&gt; | n_stopped &lt;int&gt; | search_rate &lt;dbl&gt; |\n",
       "|---|---|---|---|\n",
       "| asian/pacific islander |  1867 | 110931 | 0.0168 |\n",
       "| black                  | 16909 | 106143 | 0.1593 |\n",
       "| hispanic               |  7451 |  82979 | 0.0898 |\n",
       "| other                  |  2436 |  76569 | 0.0318 |\n",
       "| white                  |  7569 | 259539 | 0.0292 |\n",
       "\n"
      ],
      "text/plain": [
       "  race                   n_searched n_stopped search_rate\n",
       "1 asian/pacific islander  1867      110931    0.0168     \n",
       "2 black                  16909      106143    0.1593     \n",
       "3 hispanic                7451       82979    0.0898     \n",
       "4 other                   2436       76569    0.0318     \n",
       "5 white                   7569      259539    0.0292     "
      ]
     },
     "metadata": {},
     "output_type": "display_data"
    },
    {
     "data": {
      "text/html": [
       "<table>\n",
       "<caption>A tibble: 5 × 2</caption>\n",
       "<thead>\n",
       "\t<tr><th scope=col>race</th><th scope=col>search_rate</th></tr>\n",
       "\t<tr><th scope=col>&lt;chr&gt;</th><th scope=col>&lt;dbl&gt;</th></tr>\n",
       "</thead>\n",
       "<tbody>\n",
       "\t<tr><td>asian/pacific islander</td><td>0.0168</td></tr>\n",
       "\t<tr><td>black                 </td><td>0.1593</td></tr>\n",
       "\t<tr><td>hispanic              </td><td>0.0898</td></tr>\n",
       "\t<tr><td>other                 </td><td>0.0318</td></tr>\n",
       "\t<tr><td>white                 </td><td>0.0292</td></tr>\n",
       "</tbody>\n",
       "</table>\n"
      ],
      "text/latex": [
       "A tibble: 5 × 2\n",
       "\\begin{tabular}{r|ll}\n",
       " race & search\\_rate\\\\\n",
       " <chr> & <dbl>\\\\\n",
       "\\hline\n",
       "\t asian/pacific islander & 0.0168\\\\\n",
       "\t black                  & 0.1593\\\\\n",
       "\t hispanic               & 0.0898\\\\\n",
       "\t other                  & 0.0318\\\\\n",
       "\t white                  & 0.0292\\\\\n",
       "\\end{tabular}\n"
      ],
      "text/markdown": [
       "\n",
       "A tibble: 5 × 2\n",
       "\n",
       "| race &lt;chr&gt; | search_rate &lt;dbl&gt; |\n",
       "|---|---|\n",
       "| asian/pacific islander | 0.0168 |\n",
       "| black                  | 0.1593 |\n",
       "| hispanic               | 0.0898 |\n",
       "| other                  | 0.0318 |\n",
       "| white                  | 0.0292 |\n",
       "\n"
      ],
      "text/plain": [
       "  race                   search_rate\n",
       "1 asian/pacific islander 0.0168     \n",
       "2 black                  0.1593     \n",
       "3 hispanic               0.0898     \n",
       "4 other                  0.0318     \n",
       "5 white                  0.0292     "
      ]
     },
     "metadata": {},
     "output_type": "display_data"
    }
   ],
   "source": [
    "# YOUR CODE HERE\n",
    "# START\n",
    "#Search rates, METHOD 1\n",
    "stops_w_yr %>%\n",
    "    group_by(race) %>%\n",
    "    summarize(\n",
    "        n_searched = sum(searched),\n",
    "        n_stopped = n(),\n",
    "        search_rate = n_searched / n_stopped\n",
    "    )\n",
    "# Search rates, METHOD 2\n",
    "# This way is a bit tricky! It relies on the fact that booleans\n",
    "# (i.e., TRUE and FALSE) can be coerced into integers (1 and 0),\n",
    "# so `mean(searched)` takes the number of TRUEs divided by the\n",
    "# number of rows in each race group, which is exactly what METHOD 1\n",
    "# does, manually.\n",
    "stops_w_yr %>%\n",
    "    group_by(race) %>%\n",
    "    summarize(\n",
    "        search_rate = mean(searched)\n",
    "    )\n",
    "# END"
   ]
  },
  {
   "cell_type": "markdown",
   "metadata": {},
   "source": [
    "## Thought exercise: where search rates fall short\n",
    "* Do search rates have similar issues as we found with stop rates? Why or why not?\n",
    "* What might \"justifiably\" lead search rates to differ by race group?"
   ]
  },
  {
   "cell_type": "code",
   "execution_count": 23,
   "metadata": {},
   "outputs": [],
   "source": [
    "# Write your thoughts here (or just discuss)!\n",
    "# START\n",
    "# Search rates are slightly less suspect than stop rates, \n",
    "# since among the stopped population, it's more reasonable to \n",
    "# believe that people of different races offend at equal rates. \n",
    "# In the context of searches, this means assuming that all race groups \n",
    "# exhibit probable cause of possessing contraband at equal rates. \n",
    "# One could claim that the stopped population isn't a good \n",
    "# measure of the true racial distribution of probable cause. \n",
    "# This is all to say that while benchmark stats (stop rates, \n",
    "# search rates) are a good place to start, more investigation is \n",
    "# required before we can draw any strong conclusions.\n",
    "# END"
   ]
  },
  {
   "cell_type": "markdown",
   "metadata": {},
   "source": [
    "## Outcome test\n",
    "\n",
    "To circumvent the benchmarking problem, it's common to turn to the search \n",
    "decision, rather than the stop decision. This is because we have a notion of\n",
    "what a \"successful\" search is. The legal justification for performing a search\n",
    "is probable cause that the driver possesses contraband. So a successful search\n",
    "is one which uncovers contraband.\n",
    "\n",
    "We thus turn to rates of successful searches. That is, what proportion of\n",
    "searches, by race, were successful? This proportion is known as the contraband\n",
    "recovery rate, or the \"hit rate.\" If racial groups have different hit rates, it\n",
    "can imply that racial groups are being subjected to different standards."
   ]
  },
  {
   "cell_type": "markdown",
   "metadata": {},
   "source": [
    "## Thought Exercise: Hit rate interpretation\n",
    "\n",
    "As a caricatured example, suppose among white drivers who were searched, \n",
    "officers found contraband 99% of the time, while among black drivers who were\n",
    "searched, officers found contraband only 1% of the time. \n",
    "* Is this police department's search policy discriminatory? \n",
    "* Why or why not?\n",
    "* In general how can we use hit rates to understand whether a search policy is discriminatory?"
   ]
  },
  {
   "cell_type": "code",
   "execution_count": 24,
   "metadata": {},
   "outputs": [],
   "source": [
    "# Write your thoughts here (or just discuss)!\n",
    "# START\n",
    "# These hit rates would lead us to\n",
    "# believe that officers made sure they were _certain_ \n",
    "# white individuals had contraband before deciding to \n",
    "# search, but that they were searching black \n",
    "# individuals on a whiff of evidence.\n",
    "# In general, lower hit rates are a sign a group is being\n",
    "# discriminated against.\n",
    "# END"
   ]
  },
  {
   "cell_type": "markdown",
   "metadata": {},
   "source": [
    "\n",
    "Next let's investigate a non-caricatured case: real hit rates by race group in SF."
   ]
  },
  {
   "cell_type": "markdown",
   "metadata": {},
   "source": [
    "## Exercise 5: Hit rates\n",
    "\n",
    "1. Filter to drivers who were searched, and then compute the hit rate (rate of contraband recovery) by race group. Remember your `group_by()` and `summarize()` functions!\n",
    "\n",
    "2. Discuss your findings. "
   ]
  },
  {
   "cell_type": "code",
   "execution_count": 25,
   "metadata": {},
   "outputs": [
    {
     "data": {
      "text/html": [
       "<table>\n",
       "<caption>A tibble: 5 × 2</caption>\n",
       "<thead>\n",
       "\t<tr><th scope=col>race</th><th scope=col>hit_rate</th></tr>\n",
       "\t<tr><th scope=col>&lt;chr&gt;</th><th scope=col>&lt;dbl&gt;</th></tr>\n",
       "</thead>\n",
       "<tbody>\n",
       "\t<tr><td>asian/pacific islander</td><td>0.3230</td></tr>\n",
       "\t<tr><td>black                 </td><td>0.0872</td></tr>\n",
       "\t<tr><td>hispanic              </td><td>0.0996</td></tr>\n",
       "\t<tr><td>other                 </td><td>0.1876</td></tr>\n",
       "\t<tr><td>white                 </td><td>0.2349</td></tr>\n",
       "</tbody>\n",
       "</table>\n"
      ],
      "text/latex": [
       "A tibble: 5 × 2\n",
       "\\begin{tabular}{r|ll}\n",
       " race & hit\\_rate\\\\\n",
       " <chr> & <dbl>\\\\\n",
       "\\hline\n",
       "\t asian/pacific islander & 0.3230\\\\\n",
       "\t black                  & 0.0872\\\\\n",
       "\t hispanic               & 0.0996\\\\\n",
       "\t other                  & 0.1876\\\\\n",
       "\t white                  & 0.2349\\\\\n",
       "\\end{tabular}\n"
      ],
      "text/markdown": [
       "\n",
       "A tibble: 5 × 2\n",
       "\n",
       "| race &lt;chr&gt; | hit_rate &lt;dbl&gt; |\n",
       "|---|---|\n",
       "| asian/pacific islander | 0.3230 |\n",
       "| black                  | 0.0872 |\n",
       "| hispanic               | 0.0996 |\n",
       "| other                  | 0.1876 |\n",
       "| white                  | 0.2349 |\n",
       "\n"
      ],
      "text/plain": [
       "  race                   hit_rate\n",
       "1 asian/pacific islander 0.3230  \n",
       "2 black                  0.0872  \n",
       "3 hispanic               0.0996  \n",
       "4 other                  0.1876  \n",
       "5 white                  0.2349  "
      ]
     },
     "metadata": {},
     "output_type": "display_data"
    }
   ],
   "source": [
    "# YOUR CODE HERE\n",
    "# START\n",
    "# 1.\n",
    "stops_w_yr %>%\n",
    "    filter(searched) %>%\n",
    "    group_by(race) %>%\n",
    "    summarize(hit_rate = mean(contraband_found))\n",
    "# 2.\n",
    "# Looks like the black and Hispanic hit rates are _much_\n",
    "# lower than the white hit rate -- this is a sign that\n",
    "# black and Hispanic drivers are probably being discriminated\n",
    "# against at the search decision.\n",
    "# END"
   ]
  },
  {
   "cell_type": "markdown",
   "metadata": {},
   "source": [
    "What if hit rates vary by police district? If the bar for stopping\n",
    "people, irrespective of race, is lower in certain police districts, and black\n",
    "individuals are more likely to live in neighborhoods in those districts, then\n",
    "the observed disparities may not reflect bias."
   ]
  },
  {
   "cell_type": "markdown",
   "metadata": {},
   "source": [
    "Let's compute hit rates by race _and_ district. We can do this simply by adding multiple arguments to the `group_by()` function. Run the code below."
   ]
  },
  {
   "cell_type": "code",
   "execution_count": 26,
   "metadata": {},
   "outputs": [
    {
     "data": {
      "text/html": [
       "50"
      ],
      "text/latex": [
       "50"
      ],
      "text/markdown": [
       "50"
      ],
      "text/plain": [
       "[1] 50"
      ]
     },
     "metadata": {},
     "output_type": "display_data"
    }
   ],
   "source": [
    "hit_rates <- \n",
    "  stops_w_yr %>% \n",
    "  filter(searched) %>% \n",
    "  group_by(race, district) %>% \n",
    "  summarize(hit_rate = mean(contraband_found))\n",
    "\n",
    "hit_rates %>% nrow()"
   ]
  },
  {
   "cell_type": "markdown",
   "metadata": {},
   "source": [
    "This is too many hit rates to compare in one table!"
   ]
  },
  {
   "cell_type": "markdown",
   "metadata": {},
   "source": [
    "## Exercise 6: Visualization brainstorm\n",
    "\n",
    "Sketch out using pen and paper how you might try to use visualizations to help us synthesize the 50 hit rates above. Start with the question we're trying to answer (Are hit rates for minority drivers lower than hit rates for white drivers?) -- and then think about what type of plot might best help you answer that question. See if you can come up with at least 3 different sketches!"
   ]
  },
  {
   "cell_type": "markdown",
   "metadata": {},
   "source": [
    "## One way to visualize: scatterplots"
   ]
  },
  {
   "cell_type": "code",
   "execution_count": 30,
   "metadata": {},
   "outputs": [
    {
     "data": {
      "image/png": "[encoded data removed]",
      "text/plain": [
       "plot without title"
      ]
     },
     "metadata": {
      "image/png": {
       "height": 420,
       "width": 420
      },
      "text/plain": {
       "height": 420,
       "width": 420
      }
     },
     "output_type": "display_data"
    }
   ],
   "source": [
    "# Reshape table to show hit rates of minorities vs white drivers\n",
    "reshaped_hit_rates <-\n",
    "  hit_rates %>% \n",
    "  spread(race, hit_rate, fill = 0) %>% \n",
    "  rename(white_hit_rate = white) %>% \n",
    "  gather(\n",
    "      minority_race, minority_hit_rate, \n",
    "      c(black, hispanic, `asian/pacific islander`, other)\n",
    "  ) %>%\n",
    "  arrange(district)\n",
    "\n",
    "# We'll use this just to make our axes' limits nice and even\n",
    "max_hit_rate <-\n",
    "  reshaped_hit_rates %>% \n",
    "  select(ends_with(\"hit_rate\")) %>% \n",
    "  max()\n",
    "\n",
    "# Get corresponding number of searches (to size points).\n",
    "# Again, for each district we want to know the number of white+black searches\n",
    "# and white+Hispanic searches. This requires the same spreading and gathering\n",
    "# as our previous data-munging.\n",
    "search_counts <-\n",
    "  stops_w_yr %>% \n",
    "  filter(searched) %>%  \n",
    "  count(district, race) %>% \n",
    "  spread(race, n, fill = 0) %>% \n",
    "  rename(num_white_searches = white) %>% \n",
    "  gather(\n",
    "      minority_race, num_minority_searches, \n",
    "      c(black, hispanic, `asian/pacific islander`, other)\n",
    "  ) %>% \n",
    "  mutate(num_searches = num_minority_searches + num_white_searches) %>% \n",
    "  select(district, minority_race, num_searches)\n",
    "\n",
    "# Now let's plot!\n",
    "reshaped_hit_rates %>% \n",
    "  left_join(\n",
    "    search_counts, \n",
    "    by = c(\"district\", \"minority_race\")\n",
    "  ) %>% \n",
    "  ggplot(aes(\n",
    "    x = white_hit_rate,\n",
    "    y = minority_hit_rate\n",
    "  )) +\n",
    "  geom_point(aes(size = num_searches), pch = 21) +\n",
    "  geom_abline(slope = 1, intercept = 0, linetype = \"dashed\") +\n",
    "  scale_x_continuous(\"White hit rate\", \n",
    "    limits = c(0, max_hit_rate + 0.01),\n",
    "    labels = scales::percent_format(accuracy = 1)\n",
    "  ) +\n",
    "  scale_y_continuous(\"Minority hit rate\", \n",
    "    limits = c(0, max_hit_rate + 0.01),\n",
    "    labels = scales::percent_format(accuracy = 1)\n",
    "  ) +\n",
    "  coord_fixed() +\n",
    "  facet_wrap(vars(minority_race))"
   ]
  },
  {
   "cell_type": "markdown",
   "metadata": {},
   "source": [
    "## Exercise 7: Plot interpretation\n",
    "\n",
    "Explain what you see above. What does each point represent? What does the dotted line represent? What do these plots tell us about discrimination in search practices?"
   ]
  }
 ],
 "metadata": {
  "kernelspec": {
   "display_name": "R",
   "language": "R",
   "name": "ir"
  },
  "language_info": {
   "codemirror_mode": "r",
   "file_extension": ".r",
   "mimetype": "text/x-r-source",
   "name": "R",
   "pygments_lexer": "r",
   "version": "3.5.1"
  }
 },
 "nbformat": 4,
 "nbformat_minor": 4
}
