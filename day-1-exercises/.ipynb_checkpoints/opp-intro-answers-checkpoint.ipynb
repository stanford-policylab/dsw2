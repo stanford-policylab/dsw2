{
 "cells": [
  {
   "cell_type": "markdown",
   "metadata": {},
   "source": [
    "# Analyzing racial disparities in SF traffic stops\n",
    "\n",
    "First, let's load the necessary libraries and data that will allow us to begin our investigation!"
   ]
  },
  {
   "cell_type": "code",
   "execution_count": 161,
   "metadata": {},
   "outputs": [],
   "source": [
    "# Some initial setup\n",
    "options(digits = 3)\n",
    "library(tidyverse)\n",
    "library(lubridate)\n",
    "theme_set(theme_bw())\n",
    "\n",
    "# Read the data\n",
    "stops <- read_rds(\"../data/san_francisco_stop_data.rds\")\n",
    "pop_2015 <- read_rds(\"../data/sf_pop_2015.rds\")"
   ]
  },
  {
   "cell_type": "markdown",
   "metadata": {},
   "source": [
    "## Covering the basics\n",
    "\n",
    "The core of `R` is the dataframe. We've given you one to start with, in the form\n",
    "of `stops`. Think of dataframes like a spreadsheet: they have rows and columns.\n",
    "Usually, rows are a \"datapoint\": in `stops`, each row corresponds to a single\n",
    "stop from San Francisco. The columns are the \"variables\": again, in `stops`,\n",
    "these are the things we know about the stop, like where the stop happened, the\n",
    "age of the driver, whether an arrest was made, and so on.\n",
    "\n",
    "We can take a peak simply by typing `stops` into an R chunk:"
   ]
  },
  {
   "cell_type": "code",
   "execution_count": null,
   "metadata": {},
   "outputs": [],
   "source": [
    "stops"
   ]
  },
  {
   "cell_type": "markdown",
   "metadata": {},
   "source": [
    "## Functions\n",
    "\n",
    "In math, functions are a way to \"do something\" to an input. So `f(a)=b` takes a number `a`, and applies `f()`, and gets the output `b`. In programming, we also have functions! Most of the functions we'll use allow us to manipulate our dataframe as the input. \n",
    "\n",
    "So if we want to find the number of rows in our dataframe, we'd use the function `nrow()`, which takes a dataframe (like `stops`) as an input, and then outputs an integer (the number of rows in `stops`)."
   ]
  },
  {
   "cell_type": "code",
   "execution_count": 126,
   "metadata": {},
   "outputs": [
    {
     "data": {
      "text/html": [
       "904361"
      ],
      "text/latex": [
       "904361"
      ],
      "text/markdown": [
       "904361"
      ],
      "text/plain": [
       "[1] 904361"
      ]
     },
     "metadata": {},
     "output_type": "display_data"
    }
   ],
   "source": [
    "nrow(stops)"
   ]
  },
  {
   "cell_type": "markdown",
   "metadata": {},
   "source": [
    "### Your turn\n",
    "\n",
    "To find the number of columns, we (unsurprisingly) use `ncol`. Try it!"
   ]
  },
  {
   "cell_type": "code",
   "execution_count": 173,
   "metadata": {},
   "outputs": [
    {
     "data": {
      "text/html": [
       "14"
      ],
      "text/latex": [
       "14"
      ],
      "text/markdown": [
       "14"
      ],
      "text/plain": [
       "[1] 14"
      ]
     },
     "metadata": {},
     "output_type": "display_data"
    }
   ],
   "source": [
    "# Find the number of columns in `stops`\n",
    "# START\n",
    "ncol(stops)\n",
    "# END"
   ]
  },
  {
   "cell_type": "markdown",
   "metadata": {},
   "source": [
    "To figure out what the names of our columns are, we can use `colnames()`."
   ]
  },
  {
   "cell_type": "code",
   "execution_count": 174,
   "metadata": {},
   "outputs": [
    {
     "data": {
      "text/html": [
       "<ol class=list-inline>\n",
       "\t<li>'date'</li>\n",
       "\t<li>'time'</li>\n",
       "\t<li>'location'</li>\n",
       "\t<li>'lat'</li>\n",
       "\t<li>'lng'</li>\n",
       "\t<li>'district'</li>\n",
       "\t<li>'age'</li>\n",
       "\t<li>'race'</li>\n",
       "\t<li>'gender'</li>\n",
       "\t<li>'arrested'</li>\n",
       "\t<li>'contraband_found'</li>\n",
       "\t<li>'searched'</li>\n",
       "\t<li>'reason_for_stop'</li>\n",
       "\t<li>'yr'</li>\n",
       "</ol>\n"
      ],
      "text/latex": [
       "\\begin{enumerate*}\n",
       "\\item 'date'\n",
       "\\item 'time'\n",
       "\\item 'location'\n",
       "\\item 'lat'\n",
       "\\item 'lng'\n",
       "\\item 'district'\n",
       "\\item 'age'\n",
       "\\item 'race'\n",
       "\\item 'gender'\n",
       "\\item 'arrested'\n",
       "\\item 'contraband\\_found'\n",
       "\\item 'searched'\n",
       "\\item 'reason\\_for\\_stop'\n",
       "\\item 'yr'\n",
       "\\end{enumerate*}\n"
      ],
      "text/markdown": [
       "1. 'date'\n",
       "2. 'time'\n",
       "3. 'location'\n",
       "4. 'lat'\n",
       "5. 'lng'\n",
       "6. 'district'\n",
       "7. 'age'\n",
       "8. 'race'\n",
       "9. 'gender'\n",
       "10. 'arrested'\n",
       "11. 'contraband_found'\n",
       "12. 'searched'\n",
       "13. 'reason_for_stop'\n",
       "14. 'yr'\n",
       "\n",
       "\n"
      ],
      "text/plain": [
       " [1] \"date\"             \"time\"             \"location\"         \"lat\"             \n",
       " [5] \"lng\"              \"district\"         \"age\"              \"race\"            \n",
       " [9] \"gender\"           \"arrested\"         \"contraband_found\" \"searched\"        \n",
       "[13] \"reason_for_stop\"  \"yr\"              "
      ]
     },
     "metadata": {},
     "output_type": "display_data"
    }
   ],
   "source": [
    "# Find the column names in `stops`\n",
    "# START\n",
    "colnames(stops)\n",
    "# END"
   ]
  },
  {
   "cell_type": "markdown",
   "metadata": {},
   "source": [
    "Now, if we want to take a peak at our dataframe without printing the whole 900,000 x 13 table, we can use the functions `head()` or `tail()` to see the first few or last few rows."
   ]
  },
  {
   "cell_type": "code",
   "execution_count": 49,
   "metadata": {},
   "outputs": [
    {
     "data": {
      "text/html": [
       "<table>\n",
       "<thead><tr><th scope=col>date</th><th scope=col>time</th><th scope=col>location</th><th scope=col>lat</th><th scope=col>lng</th><th scope=col>district</th><th scope=col>age</th><th scope=col>race</th><th scope=col>gender</th><th scope=col>arrested</th><th scope=col>contraband_found</th><th scope=col>searched</th><th scope=col>reason_for_stop</th></tr></thead>\n",
       "<tbody>\n",
       "\t<tr><td>2014-08-01                                                           </td><td>00:01:00                                                             </td><td><span style=white-space:pre-wrap>MASONIC AV &amp; FELL ST     </span></td><td>37.8                                                                 </td><td>-122                                                                 </td><td>NA                                                                   </td><td>NA                                                                   </td><td>asian/pacific islander                                               </td><td>female                                                               </td><td>FALSE                                                                </td><td>NA                                                                   </td><td>FALSE                                                                </td><td>Mechanical or Non-Moving Violation (V.C.)                            </td></tr>\n",
       "\t<tr><td>2014-08-01                                                           </td><td>00:01:00                                                             </td><td><span style=white-space:pre-wrap>GEARY&amp;10TH AV            </span></td><td>37.8                                                                 </td><td>-122                                                                 </td><td>NA                                                                   </td><td>NA                                                                   </td><td><span style=white-space:pre-wrap>black                 </span>       </td><td><span style=white-space:pre-wrap>male  </span>                       </td><td>FALSE                                                                </td><td>NA                                                                   </td><td>FALSE                                                                </td><td>Mechanical or Non-Moving Violation (V.C.)                            </td></tr>\n",
       "\t<tr><td>2014-08-01                               </td><td>00:15:00                                 </td><td>SUTTER N OCTAVIA ST                      </td><td>37.8                                     </td><td>-122                                     </td><td>NA                                       </td><td>NA                                       </td><td>hispanic                                 </td><td>male                                     </td><td>FALSE                                    </td><td>NA                                       </td><td>FALSE                                    </td><td>Mechanical or Non-Moving Violation (V.C.)</td></tr>\n",
       "\t<tr><td>2014-08-01                                                           </td><td>00:18:00                                                             </td><td><span style=white-space:pre-wrap>3RD ST &amp; DAVIDSON        </span></td><td>37.7                                                                 </td><td>-122                                                                 </td><td>NA                                                                   </td><td>NA                                                                   </td><td><span style=white-space:pre-wrap>hispanic              </span>       </td><td><span style=white-space:pre-wrap>male  </span>                       </td><td>FALSE                                                                </td><td>NA                                                                   </td><td>FALSE                                                                </td><td>Mechanical or Non-Moving Violation (V.C.)                            </td></tr>\n",
       "\t<tr><td>2014-08-01                                                    </td><td>00:19:00                                                      </td><td>DIVISADERO ST. &amp; BUSH ST.                                 </td><td>37.8                                                          </td><td>-122                                                          </td><td>NA                                                            </td><td>NA                                                            </td><td><span style=white-space:pre-wrap>white                 </span></td><td><span style=white-space:pre-wrap>male  </span>                </td><td>FALSE                                                         </td><td>NA                                                            </td><td>FALSE                                                         </td><td>Mechanical or Non-Moving Violation (V.C.)                     </td></tr>\n",
       "\t<tr><td>2014-08-01                               </td><td>00:30:00                                 </td><td>3RD ST AND GALVEZ AVE                    </td><td>37.7                                     </td><td>-122                                     </td><td>NA                                       </td><td>NA                                       </td><td>black                                    </td><td>male                                     </td><td>FALSE                                    </td><td>NA                                       </td><td>FALSE                                    </td><td>Mechanical or Non-Moving Violation (V.C.)</td></tr>\n",
       "</tbody>\n",
       "</table>\n"
      ],
      "text/latex": [
       "\\begin{tabular}{r|lllllllllllll}\n",
       " date & time & location & lat & lng & district & age & race & gender & arrested & contraband\\_found & searched & reason\\_for\\_stop\\\\\n",
       "\\hline\n",
       "\t 2014-08-01                                & 00:01:00                                  & MASONIC AV \\& FELL ST                    & 37.8                                      & -122                                      & NA                                        & NA                                        & asian/pacific islander                    & female                                    & FALSE                                     & NA                                        & FALSE                                     & Mechanical or Non-Moving Violation (V.C.)\\\\\n",
       "\t 2014-08-01                                & 00:01:00                                  & GEARY\\&10TH AV                           & 37.8                                      & -122                                      & NA                                        & NA                                        & black                                     & male                                      & FALSE                                     & NA                                        & FALSE                                     & Mechanical or Non-Moving Violation (V.C.)\\\\\n",
       "\t 2014-08-01                                & 00:15:00                                  & SUTTER N OCTAVIA ST                       & 37.8                                      & -122                                      & NA                                        & NA                                        & hispanic                                  & male                                      & FALSE                                     & NA                                        & FALSE                                     & Mechanical or Non-Moving Violation (V.C.)\\\\\n",
       "\t 2014-08-01                                & 00:18:00                                  & 3RD ST \\& DAVIDSON                       & 37.7                                      & -122                                      & NA                                        & NA                                        & hispanic                                  & male                                      & FALSE                                     & NA                                        & FALSE                                     & Mechanical or Non-Moving Violation (V.C.)\\\\\n",
       "\t 2014-08-01                                & 00:19:00                                  & DIVISADERO ST. \\& BUSH ST.               & 37.8                                      & -122                                      & NA                                        & NA                                        & white                                     & male                                      & FALSE                                     & NA                                        & FALSE                                     & Mechanical or Non-Moving Violation (V.C.)\\\\\n",
       "\t 2014-08-01                                & 00:30:00                                  & 3RD ST AND GALVEZ AVE                     & 37.7                                      & -122                                      & NA                                        & NA                                        & black                                     & male                                      & FALSE                                     & NA                                        & FALSE                                     & Mechanical or Non-Moving Violation (V.C.)\\\\\n",
       "\\end{tabular}\n"
      ],
      "text/plain": [
       "  date       time     location                  lat  lng  district age\n",
       "1 2014-08-01 00:01:00 MASONIC AV & FELL ST      37.8 -122 NA       NA \n",
       "2 2014-08-01 00:01:00 GEARY&10TH AV             37.8 -122 NA       NA \n",
       "3 2014-08-01 00:15:00 SUTTER N OCTAVIA ST       37.8 -122 NA       NA \n",
       "4 2014-08-01 00:18:00 3RD ST & DAVIDSON         37.7 -122 NA       NA \n",
       "5 2014-08-01 00:19:00 DIVISADERO ST. & BUSH ST. 37.8 -122 NA       NA \n",
       "6 2014-08-01 00:30:00 3RD ST AND GALVEZ AVE     37.7 -122 NA       NA \n",
       "  race                   gender arrested contraband_found searched\n",
       "1 asian/pacific islander female FALSE    NA               FALSE   \n",
       "2 black                  male   FALSE    NA               FALSE   \n",
       "3 hispanic               male   FALSE    NA               FALSE   \n",
       "4 hispanic               male   FALSE    NA               FALSE   \n",
       "5 white                  male   FALSE    NA               FALSE   \n",
       "6 black                  male   FALSE    NA               FALSE   \n",
       "  reason_for_stop                          \n",
       "1 Mechanical or Non-Moving Violation (V.C.)\n",
       "2 Mechanical or Non-Moving Violation (V.C.)\n",
       "3 Mechanical or Non-Moving Violation (V.C.)\n",
       "4 Mechanical or Non-Moving Violation (V.C.)\n",
       "5 Mechanical or Non-Moving Violation (V.C.)\n",
       "6 Mechanical or Non-Moving Violation (V.C.)"
      ]
     },
     "metadata": {},
     "output_type": "display_data"
    }
   ],
   "source": [
    "head(stops)"
   ]
  },
  {
   "cell_type": "markdown",
   "metadata": {},
   "source": [
    "**Pro-tip:** If you're every confused about a function and what to know more about it, what it does, how to use it, etc., every function has \"documentation\" to help! To know more about the `head()` function, simply run a code chunk with `?head`. It provides way more information than you might want or need -- but if you scroll down to the \"Examples\" section, those usually help!"
   ]
  },
  {
   "cell_type": "markdown",
   "metadata": {},
   "source": [
    "## Exercise 1: Stop dates\n",
    "\n",
    "For this first exercise, let's get a better sense of what time range our stops data covers. To do this, we'll be dealing with the `date` column in our dataframe. \n",
    "\n",
    "1. What happens when you run `stops$date`? How about `pull(stops, date)`? What do `$` and `pull()` do?\n",
    "\n",
    "2. What date range does our dataset cover? (Hint: Try exploring the `min()` and `max()` functions, or the `range()` function!)"
   ]
  },
  {
   "cell_type": "code",
   "execution_count": 176,
   "metadata": {},
   "outputs": [
    {
     "data": {
      "text/plain": [
       "[1] \"2007-01-01\" \"2016-06-30\""
      ]
     },
     "metadata": {},
     "output_type": "display_data"
    }
   ],
   "source": [
    "## EXERCISE 1: YOUR CODE HERE\n",
    "# START\n",
    "# 1. \n",
    "# We get a list of the date each stop occurred on. \n",
    "# Both methods ($ and pull) do the same thing, they\n",
    "# extract the column `date` from the df.\n",
    "\n",
    "# 2. \n",
    "range(stops$date)\n",
    "# END"
   ]
  },
  {
   "cell_type": "markdown",
   "metadata": {},
   "source": [
    "Take a look at the two versions of the code below. They do the same thing. See if you can understand what's going on in the second one -- what does `%>%` seem to be doing?"
   ]
  },
  {
   "cell_type": "code",
   "execution_count": 128,
   "metadata": {},
   "outputs": [
    {
     "data": {
      "text/plain": [
       "[1] \"2007-01-01\" \"2016-06-30\""
      ]
     },
     "metadata": {},
     "output_type": "display_data"
    },
    {
     "data": {
      "text/plain": [
       "[1] \"2007-01-01\" \"2016-06-30\""
      ]
     },
     "metadata": {},
     "output_type": "display_data"
    }
   ],
   "source": [
    "# Confirm that these give the same answer:\n",
    "\n",
    "# Method 1: nested\n",
    "range(pull(stops, date))\n",
    "\n",
    "# Method 2: multi-line\n",
    "stops %>% \n",
    "    pull(date) %>% \n",
    "    range()\n"
   ]
  },
  {
   "cell_type": "markdown",
   "metadata": {},
   "source": [
    "**tidyverse tip**: The second method uses a funky symbol, `%>%` called the \"pipe\", which is the crux of the tidyverse. The pipe helps to keep our code clean. It allows us to ready top-down rather than inside-out (which is what method 1 above requires of us). Each line simply applies to the result of the previous line:\n",
    "* We start with `stops`,\n",
    "* then we apply `pull(date)` to the above (stops), getting us a list of dates,\n",
    "* then we apply `range()` to the above (a list of dates).\n",
    "\n",
    "More formally, the pipe operator\n",
    "just places the previous item into the first argument of the function. So,\n",
    "`x %>% f()` is simply `f(x)`. While in a one-function call the pipe might feel\n",
    "silly and unnecessary, it's going to become _really_ helpful once we start\n",
    "wanting to do multiple transformations to our data. "
   ]
  },
  {
   "cell_type": "markdown",
   "metadata": {},
   "source": [
    "## Preparing our data\n",
    "\n",
    "For some of our analysis, we'll want to focus on the most recent full year: 2015.\n",
    "\n",
    "To do this we'll want to use the _year_ of each stop, but _year_ isn't currently a column in our dataset. Let's add it!"
   ]
  },
  {
   "cell_type": "markdown",
   "metadata": {},
   "source": [
    "**tidyverse function: `mutate()`**\n",
    "\n",
    "We can use the `mutate()` function to fix add a `yr` column to `stops`.\n",
    "The `mutate()` function adds new columns to a dataframe based on old columns.\n",
    "The basic setup is `mutate(DATA, NEW_COL = FUN(OLD_COL))` where \n",
    "* `DATA` is our\n",
    "dataframe, \n",
    "* `NEW_COL` is the name of the new column we want, and \n",
    "* `FUN` is the function we apply to the old column, `OLD_COL`, to get it.\n",
    "\n",
    "### You try!\n",
    "\n",
    "In the space below:\n",
    "\n",
    "1. use the `year()` and `mutate()` functions to add a new column called `yr` to our `stops` dataframe, and\n",
    "2. use the assignment operator `<-` (it's like = in `R`) to overwrite `stops`."
   ]
  },
  {
   "cell_type": "code",
   "execution_count": 162,
   "metadata": {},
   "outputs": [],
   "source": [
    "# Add a yr column to `stops`\n",
    "# START\n",
    "stops <- stops %>% mutate(yr = year(date))\n",
    "# END"
   ]
  },
  {
   "cell_type": "markdown",
   "metadata": {},
   "source": [
    "**Note:** When we write code chunks and _don't_ save our result using `<-`, that result does not overwrite or in any way change the data. To change the data, we need to use the process above (`stops <- stops %>% ...`)"
   ]
  },
  {
   "cell_type": "markdown",
   "metadata": {},
   "source": [
    "Now, we can investigate this new `yr` column in a few ways. \n",
    "1. We can check it's acutally there by looking at `colnames(stops)`.\n",
    "2. We can compute the range of years using `range(stops$yr)`.\n",
    "3. We can count the number of stops per year: `stops %>% count(yr)`. \n",
    "\n",
    "### You try\n",
    "\n",
    "Play around with these! Make sure to try the last one."
   ]
  },
  {
   "cell_type": "code",
   "execution_count": 130,
   "metadata": {},
   "outputs": [
    {
     "data": {
      "text/html": [
       "<table>\n",
       "<thead><tr><th scope=col>yr</th><th scope=col>n</th></tr></thead>\n",
       "<tbody>\n",
       "\t<tr><td>2007  </td><td>102185</td></tr>\n",
       "\t<tr><td>2008  </td><td>113105</td></tr>\n",
       "\t<tr><td>2009  </td><td>110601</td></tr>\n",
       "\t<tr><td>2010  </td><td>104645</td></tr>\n",
       "\t<tr><td>2011  </td><td> 99476</td></tr>\n",
       "\t<tr><td>2012  </td><td> 82362</td></tr>\n",
       "\t<tr><td>2013  </td><td> 74144</td></tr>\n",
       "\t<tr><td>2014  </td><td> 91939</td></tr>\n",
       "\t<tr><td>2015  </td><td> 85689</td></tr>\n",
       "\t<tr><td>2016  </td><td> 40215</td></tr>\n",
       "</tbody>\n",
       "</table>\n"
      ],
      "text/latex": [
       "\\begin{tabular}{r|ll}\n",
       " yr & n\\\\\n",
       "\\hline\n",
       "\t 2007   & 102185\\\\\n",
       "\t 2008   & 113105\\\\\n",
       "\t 2009   & 110601\\\\\n",
       "\t 2010   & 104645\\\\\n",
       "\t 2011   &  99476\\\\\n",
       "\t 2012   &  82362\\\\\n",
       "\t 2013   &  74144\\\\\n",
       "\t 2014   &  91939\\\\\n",
       "\t 2015   &  85689\\\\\n",
       "\t 2016   &  40215\\\\\n",
       "\\end{tabular}\n"
      ],
      "text/plain": [
       "   yr   n     \n",
       "1  2007 102185\n",
       "2  2008 113105\n",
       "3  2009 110601\n",
       "4  2010 104645\n",
       "5  2011  99476\n",
       "6  2012  82362\n",
       "7  2013  74144\n",
       "8  2014  91939\n",
       "9  2015  85689\n",
       "10 2016  40215"
      ]
     },
     "metadata": {},
     "output_type": "display_data"
    }
   ],
   "source": [
    "# Investigate your new `yr` column. \n",
    "# Make sure to try counting the number of stops per year!\n",
    "# START\n",
    "stops %>%\n",
    "    count(yr)\n",
    "# END"
   ]
  },
  {
   "cell_type": "markdown",
   "metadata": {},
   "source": [
    "### Discuss\n",
    "\n",
    "What do you notice about stop counts over the years?\n",
    "\n",
    "### Back to data prep\n",
    "\n",
    "Now let's get back to prepping our data. To get to our desired date range of the most recent full year (2015), we will \n",
    "1. Use the `filter()` function to specify the years we want, and \n",
    "2. Again use the assignment operator `<-` (it's like = in `R`) to overwrite `stops`."
   ]
  },
  {
   "cell_type": "markdown",
   "metadata": {},
   "source": [
    "**tidyverse function: `filter()`**\n",
    "\n",
    "* The `filter()` function is used to separate rows from the dataframe that\n",
    "interest us from rows that do not. \n",
    "* In particular, `filter(DATA, CONDITION)`\n",
    "returns `DATA` with all of the rows that don't satisfy `CONDITION` removed. \n",
    "* For\n",
    "instance, we might want to only look at stops from 2015. To do this, we would type `stops %>% filter(yr == 2015)`, since we only want\n",
    "rows from `stops` where the `yr` column is (i.e., `==`) `2015`. \n",
    "* We can also filter on multiple conditions, just separating each condition with a comma. So, for example, if we wanted all stops between 2011 and 2015, we would write `stops %>% filter(yr >= 2011, yr <=2015)`.\n",
    "\n",
    "### Your turn\n",
    "\n",
    "Create a new variable, `stops_2015` that is our stops dataframe filtered to just those that happened in the year (`yr`) 2015. "
   ]
  },
  {
   "cell_type": "code",
   "execution_count": 178,
   "metadata": {},
   "outputs": [],
   "source": [
    "# Use the filter function to get just stops from 2015\n",
    "# START\n",
    "stops_2015 <- \n",
    "    stops %>%\n",
    "    filter(yr == 2015)\n",
    "# END"
   ]
  },
  {
   "cell_type": "markdown",
   "metadata": {},
   "source": [
    "Just to be extra sure, let's check our date range in this new dataframe, `stops_2015`!"
   ]
  },
  {
   "cell_type": "code",
   "execution_count": 179,
   "metadata": {},
   "outputs": [
    {
     "data": {
      "text/plain": [
       "[1] \"2015-01-01\" \"2015-12-31\""
      ]
     },
     "metadata": {},
     "output_type": "display_data"
    }
   ],
   "source": [
    "# What date range does stops_2015 cover?\n",
    "# START\n",
    "stops_2015$date %>% range()\n",
    "# END"
   ]
  },
  {
   "cell_type": "markdown",
   "metadata": {},
   "source": [
    "## Exercise 2: Stops by race\n",
    "\n",
    "For this second exercise, let's compute the racial breakdown of traffic stops. To do this, we'll need two functions that we've already seen: `count()` and `mutate()`.\n",
    "\n",
    "1. Count how many stops per race our `stops_2015` dataset has, saving your result to a new dataframe: `stops_by_race`. \n",
    "\n",
    "2. Describe in words what we'd need to do to find the proportion of stops that were of white drivers.\n",
    "\n",
    "3. To do the above computation for each race, we can add additional column to `stops_by_race` using the `mutate()` function. Overwrite `stops_by_race`, adding a new column `p` with the proportion of stops that were made of drivers of each race.\n",
    "\n",
    "4. Discuss: What do these proportions mean? Are drivers of certain races being stopped more than others? What might we be missing to really start interpreting these values?"
   ]
  },
  {
   "cell_type": "code",
   "execution_count": 183,
   "metadata": {},
   "outputs": [
    {
     "data": {
      "text/html": [
       "<table>\n",
       "<thead><tr><th scope=col>race</th><th scope=col>n</th><th scope=col>p</th></tr></thead>\n",
       "<tbody>\n",
       "\t<tr><td>asian/pacific islander</td><td>15498                 </td><td>0.181                 </td></tr>\n",
       "\t<tr><td>black                 </td><td>14955                 </td><td>0.175                 </td></tr>\n",
       "\t<tr><td>hispanic              </td><td>11911                 </td><td>0.139                 </td></tr>\n",
       "\t<tr><td>other                 </td><td>13560                 </td><td>0.158                 </td></tr>\n",
       "\t<tr><td>white                 </td><td>29765                 </td><td>0.347                 </td></tr>\n",
       "</tbody>\n",
       "</table>\n"
      ],
      "text/latex": [
       "\\begin{tabular}{r|lll}\n",
       " race & n & p\\\\\n",
       "\\hline\n",
       "\t asian/pacific islander & 15498                  & 0.181                 \\\\\n",
       "\t black                  & 14955                  & 0.175                 \\\\\n",
       "\t hispanic               & 11911                  & 0.139                 \\\\\n",
       "\t other                  & 13560                  & 0.158                 \\\\\n",
       "\t white                  & 29765                  & 0.347                 \\\\\n",
       "\\end{tabular}\n"
      ],
      "text/plain": [
       "  race                   n     p    \n",
       "1 asian/pacific islander 15498 0.181\n",
       "2 black                  14955 0.175\n",
       "3 hispanic               11911 0.139\n",
       "4 other                  13560 0.158\n",
       "5 white                  29765 0.347"
      ]
     },
     "metadata": {},
     "output_type": "display_data"
    }
   ],
   "source": [
    "# YOUR CODE HERE\n",
    "# START\n",
    "# 1. \n",
    "stops_by_race <- stops_2015 %>% count(race)\n",
    "# 2.\n",
    "# Divide each count (num stops by race) by the total (num overall stops)\n",
    "# 3. \n",
    "stops_by_race <- stops_by_race %>% mutate(p = n / sum(n))\n",
    "# 4. \n",
    "stops_by_race\n",
    "# This means 35% of stops were of white drivers, 18% of black drivers\n",
    "# 18% aisan, 14% hispanic, etc. \n",
    "# It seems like the biggest race group being stopped are white drivers.\n",
    "# But, i know that SF has a pretty large white population -- probably\n",
    "# more than 35% of SF is white...so maybe they're actually \n",
    "# underrepresented in stops? We'd need to know the population to be \n",
    "# able to answer this question of whether some race groups are being \n",
    "# stopped disproportionately.\n",
    "# We see white drivers make up about one-third of stops, and drivers \n",
    "# of each other race represent 14-18%. The by-race stop counts are \n",
    "# only meaningful, though, when compared to some baseline. If the \n",
    "# San Francisco population was about one-third white, one-third \n",
    "# percent of stops being of white drivers wouldn't be at all \n",
    "# surprising. But if 75% of the SF population is white, then our \n",
    "# findings might be more suspicious!\n",
    "# END"
   ]
  },
  {
   "cell_type": "markdown",
   "metadata": {},
   "source": [
    "## Stop rates\n",
    "\n",
    "In order to do this baseline comparison, we need to understand the racial\n",
    "demographics in our SF population data. (Note: This is why we wanted just one full year: comparing the number of stops in a year to the population from that year.) The data as we've given it to you\n",
    "has raw population numbers from 2015. To make it useful, we'll need to compute the\n",
    "_proportion_ of SF residents in each demographic group. As before, we do this using the `mutate()` function.\n",
    "\n",
    "### You try\n",
    "\n",
    "* Take a look at `pop_2015`, then\n",
    "* mutate `pop_2015`, adding a column `p` that shows us what proportion of the population is white, black, hispanic, asian, and other."
   ]
  },
  {
   "cell_type": "code",
   "execution_count": 184,
   "metadata": {},
   "outputs": [
    {
     "data": {
      "text/html": [
       "<table>\n",
       "<thead><tr><th scope=col>race</th><th scope=col>n_people</th><th scope=col>p</th></tr></thead>\n",
       "<tbody>\n",
       "\t<tr><td>white                 </td><td>346732                </td><td>0.4124                </td></tr>\n",
       "\t<tr><td>black                 </td><td> 44879                </td><td>0.0534                </td></tr>\n",
       "\t<tr><td>hispanic              </td><td>128619                </td><td>0.1530                </td></tr>\n",
       "\t<tr><td>asian/pacific islander</td><td>285266                </td><td>0.3393                </td></tr>\n",
       "\t<tr><td>other                 </td><td> 35267                </td><td>0.0419                </td></tr>\n",
       "</tbody>\n",
       "</table>\n"
      ],
      "text/latex": [
       "\\begin{tabular}{r|lll}\n",
       " race & n\\_people & p\\\\\n",
       "\\hline\n",
       "\t white                  & 346732                 & 0.4124                \\\\\n",
       "\t black                  &  44879                 & 0.0534                \\\\\n",
       "\t hispanic               & 128619                 & 0.1530                \\\\\n",
       "\t asian/pacific islander & 285266                 & 0.3393                \\\\\n",
       "\t other                  &  35267                 & 0.0419                \\\\\n",
       "\\end{tabular}\n"
      ],
      "text/plain": [
       "  race                   n_people p     \n",
       "1 white                  346732   0.4124\n",
       "2 black                   44879   0.0534\n",
       "3 hispanic               128619   0.1530\n",
       "4 asian/pacific islander 285266   0.3393\n",
       "5 other                   35267   0.0419"
      ]
     },
     "metadata": {},
     "output_type": "display_data"
    }
   ],
   "source": [
    "# Find the racial breakdown of SF's 2015 population\n",
    "# START\n",
    "pop_2015 %>%\n",
    "    mutate(p = n_people / (sum(n_people)))\n",
    "# END"
   ]
  },
  {
   "cell_type": "markdown",
   "metadata": {},
   "source": [
    "### Discuss\n",
    "\n",
    "What do the population proportions tell you about the stop proportions we computed before?\n",
    "\n",
    "\n",
    "### Adding rigor\n",
    "\n",
    "We can tell a lot just by eyeballing these two sets of proportions. But let's be a bit more\n",
    "rigorous about this. If we merge the two tables together, we can compute stop \n",
    "rates by race (i.e., number of stops per person). "
   ]
  },
  {
   "cell_type": "markdown",
   "metadata": {},
   "source": [
    "**R function: `merge()`**\n",
    "\n",
    "One way to put tables together is with the `merge()` function. We need to\n",
    "input three things into this function: \n",
    " 1. our main table\n",
    " 2. the second table we'd like to merge with the first table, and\n",
    " 3. instructions on how to merge them. \n",
    "\n",
    "In this case, the two tables we\n",
    "want to merge are \n",
    " 1. the table of stops counted according to `race`, and\n",
    " 2. the table of population by race:`pop_2015`. \n",
    "The instruction for combining the tables is \n",
    " 3. to merge rows that give information about the same race.\n",
    "\n",
    "To implement 3., we give `merge()` the argument `by =\n",
    "\"race\"`. This means that `merge()` will \n",
    " * look at the first table---\n",
    "i.e., the table stops counted by race---and go to the `race` column\n",
    "in each row.\n",
    " * Then, `merge()` will take what it finds there---in this case,\n",
    "`\"asian/pacific islander\"`, `\"black\"`, `\"hispanic\"`, `\"other/unknown\"`, and\n",
    "`\"white\"`---and look in the second table, i.e., `pop_2015`, for all the\n",
    "rows that contain the same information in `pop_2015`'s race column.\n",
    " * Finally,\n",
    "it will add the second row at the end of the first to create a new row with\n",
    "information from both. \n",
    "\n",
    "What we end up with is a dataframe with all of the\n",
    "columns from _both_ tables.\n",
    "\n",
    "The process is a little complicated, and we won't use it too much, so don't\n",
    "worry if the abstract description doesn't make sense. To get a better\n",
    "understanding of what's going on, try merging the two tables described above,\n",
    "being sure to include the `by = \"race\"` argument.\n"
   ]
  },
  {
   "cell_type": "markdown",
   "metadata": {},
   "source": [
    "## Exercise 3: computing stop rates by race\n",
    "\n",
    "1. First, merge together `stops_by_race` and `pop_2015` by \"race\", using the `merge()` function. Name your result `stops_and_pop_by_race`.\n",
    "2. Add a column `stop_rate` to `stops_and_pop_by_race`, that is simply the number of stops divided by the number of people. (Hint: the `mutate()` function will be helpful!)\n",
    "3. Now we can divide the black (or Asian, or Hispanic, or \"other\") stop rate by the white stop rate to be able to make \n",
    "a quantitative statement about how much more often black drivers are stops compared to white drivers, relative to their share of the city's population. Using `R` as calculator, do this!\n",
    "4. Discuss your results."
   ]
  },
  {
   "cell_type": "code",
   "execution_count": 191,
   "metadata": {},
   "outputs": [
    {
     "data": {
      "text/html": [
       "<table>\n",
       "<thead><tr><th scope=col>race</th><th scope=col>n</th><th scope=col>p</th><th scope=col>n_people</th><th scope=col>stop_rate</th></tr></thead>\n",
       "<tbody>\n",
       "\t<tr><td>asian/pacific islander</td><td>15498                 </td><td>0.181                 </td><td>285266                </td><td>0.0543                </td></tr>\n",
       "\t<tr><td>black                 </td><td>14955                 </td><td>0.175                 </td><td> 44879                </td><td>0.3332                </td></tr>\n",
       "\t<tr><td>hispanic              </td><td>11911                 </td><td>0.139                 </td><td>128619                </td><td>0.0926                </td></tr>\n",
       "\t<tr><td>other                 </td><td>13560                 </td><td>0.158                 </td><td> 35267                </td><td>0.3845                </td></tr>\n",
       "\t<tr><td>white                 </td><td>29765                 </td><td>0.347                 </td><td>346732                </td><td>0.0858                </td></tr>\n",
       "</tbody>\n",
       "</table>\n"
      ],
      "text/latex": [
       "\\begin{tabular}{r|lllll}\n",
       " race & n & p & n\\_people & stop\\_rate\\\\\n",
       "\\hline\n",
       "\t asian/pacific islander & 15498                  & 0.181                  & 285266                 & 0.0543                \\\\\n",
       "\t black                  & 14955                  & 0.175                  &  44879                 & 0.3332                \\\\\n",
       "\t hispanic               & 11911                  & 0.139                  & 128619                 & 0.0926                \\\\\n",
       "\t other                  & 13560                  & 0.158                  &  35267                 & 0.3845                \\\\\n",
       "\t white                  & 29765                  & 0.347                  & 346732                 & 0.0858                \\\\\n",
       "\\end{tabular}\n"
      ],
      "text/plain": [
       "  race                   n     p     n_people stop_rate\n",
       "1 asian/pacific islander 15498 0.181 285266   0.0543   \n",
       "2 black                  14955 0.175  44879   0.3332   \n",
       "3 hispanic               11911 0.139 128619   0.0926   \n",
       "4 other                  13560 0.158  35267   0.3845   \n",
       "5 white                  29765 0.347 346732   0.0858   "
      ]
     },
     "metadata": {},
     "output_type": "display_data"
    },
    {
     "data": {
      "text/html": [
       "3.88344988344988"
      ],
      "text/latex": [
       "3.88344988344988"
      ],
      "text/markdown": [
       "3.88344988344988"
      ],
      "text/plain": [
       "[1] 3.88"
      ]
     },
     "metadata": {},
     "output_type": "display_data"
    },
    {
     "data": {
      "text/html": [
       "1.07925407925408"
      ],
      "text/latex": [
       "1.07925407925408"
      ],
      "text/markdown": [
       "1.07925407925408"
      ],
      "text/plain": [
       "[1] 1.08"
      ]
     },
     "metadata": {},
     "output_type": "display_data"
    },
    {
     "data": {
      "text/html": [
       "0.632867132867133"
      ],
      "text/latex": [
       "0.632867132867133"
      ],
      "text/markdown": [
       "0.632867132867133"
      ],
      "text/plain": [
       "[1] 0.633"
      ]
     },
     "metadata": {},
     "output_type": "display_data"
    },
    {
     "data": {
      "text/html": [
       "4.48135198135198"
      ],
      "text/latex": [
       "4.48135198135198"
      ],
      "text/markdown": [
       "4.48135198135198"
      ],
      "text/plain": [
       "[1] 4.48"
      ]
     },
     "metadata": {},
     "output_type": "display_data"
    }
   ],
   "source": [
    "# START\n",
    "# 1.\n",
    "stops_and_pop_by_race <- \n",
    "    merge(\n",
    "        stops_by_race,\n",
    "        pop_2015, \n",
    "        by = \"race\"\n",
    "    )\n",
    "# 2. \n",
    "stop_rates <- \n",
    "    stops_and_pop_by_race %>%\n",
    "    mutate(stop_rate = n / n_people)\n",
    "# 3. \n",
    "stop_rates\n",
    "# black-white stop rate ratio:\n",
    "0.3332/0.0858\n",
    "# hispanic-white stop rate ratio:\n",
    "0.0926/0.0858\n",
    "# asian-white stop rate ratio:\n",
    "0.0543/0.0858\n",
    "# other-white stop rate ratio:\n",
    "0.3845/0.0858\n",
    "# END"
   ]
  },
  {
   "cell_type": "markdown",
   "metadata": {},
   "source": [
    "### Thought exercise: where stop rates fall short\n",
    "\n",
    "While these baseline stats give us a sense that there are racial disparities in\n",
    "policing practices in SF, they are not strong evidence of discrimination. The\n",
    "argument against using stop rates (often called \"benchmarking\" or the \"benchmark test\") is that we haven't identified the correct\n",
    "baseline to compare to. \n",
    "* Why isn't population the best thing to compare to (i.e., the best denominator of our stop rate)?\n",
    "* What would the ideal denominator of our stop rate be?\n",
    "* What other baselines (denominators) could we use? Are any of these ideal?"
   ]
  },
  {
   "cell_type": "code",
   "execution_count": null,
   "metadata": {},
   "outputs": [],
   "source": [
    "# START\n",
    "# For the stop rate denominator, what we really want to know is what \n",
    "# the true distribution is for individuals breaking traffic laws or \n",
    "# exhibiting other criminal behavior in their vehicles. But using \n",
    "# SF residential population doesn't account for commuting \n",
    "# populations, or possible race-specific differences in driving \n",
    "# behavior,including amount of time spent on the road (and \n",
    "# adherence to traffic laws, as mentioned above).  If black \n",
    "# drivers, hypothetically, spend more time on the road than white \n",
    "# drivers, that in and of itself could explain the higher stop\n",
    "# rates we see for black drivers, even in the absence of \n",
    "# discrimination.\n",
    "# We could try using violation rates as a baseline, but those can \n",
    "# be racially skewed by the vary systems we're trying to evaluate! \n",
    "# We can try something that's less racially skewed, like violent\n",
    "# crime rates, but violent crime rates have very little to do with\n",
    "# traffic infractions! We really don't have any ideal baseline here. \n",
    "# END "
   ]
  },
  {
   "cell_type": "markdown",
   "metadata": {},
   "source": [
    "## Searches\n",
    "\n",
    "Let's next consider how often drivers of different races were searched. Computing search rates is actually easier than stop rates because we don't need an external population benchmark.\n",
    "We can use the stopped population as our baseline, defining search rate to be proportion of stopped people who were subsequently searched. "
   ]
  },
  {
   "cell_type": "markdown",
   "metadata": {},
   "source": [
    "**tidyverse functions: `group_by()` and `summarize()`**\n",
    "\n",
    "One thing that we often want to do with data is disaggregate it. That is, we\n",
    "might want to take the data and break it down into smaller subpopulations. Then,\n",
    "when we ask questions, we can ask about each piece---for instance, each\n",
    "demographic group, or each police district---instead of asking about the populationas a whole.\n",
    "\n",
    "The way to do this in `R` is with `group_by()` and `summarize()`. The standard way\n",
    "to use `group_by()` is to call `group_by(DATA, COL_NAME)`, where `DATA` is our\n",
    "dataframe and `COL_NAME` is the name of a column. What `group_by()` then does is\n",
    "take all the rows in the dataframe `DATA` and put them into different groups,\n",
    "one for each different value in the column `COL_NAME`. So, for instance, if we\n",
    "called `group_by(stops, district)`, `R` would hand back to us the `stops`\n",
    "dataframe with all of its columns broken into different groups, one for each\n",
    "police district.\n",
    "\n",
    "The second step is to do something with those groups. That's what `summarize()`\n",
    "does. The way `summarize()` works is to take a dataframe broken into groups by\n",
    "`group_by()` and calculate a statistic for each group . The basic syntax is\n",
    "`summarize(DATA, STAT = FUN(COL_NAME))`, where `DATA` is some dataframe broken\n",
    "up by `group_by()`, `STAT` is some statistic we want to calculate, `FUN` is the\n",
    "function that calculates that statistic, and `COL_NAME` is the name of the\n",
    "column (or columns) used to calculate the statistic.\n",
    "\n",
    "Let's put it all together with an example. A straightforward one is: `stops %>%\n",
    "group_by(race) %>% summarize(arrest_rate = mean(arrested))`. Typing\n",
    "this into the `R` console will calculates arrest rates disaggregated by race.\n",
    "\n",
    "Using `group_by()` and `summarize()`, let's calculate search rates by race."
   ]
  },
  {
   "cell_type": "markdown",
   "metadata": {},
   "source": [
    "## Exercise 4: Search rates\n",
    "\n",
    "1. Below are two different ways to compute search rates. Discuss both ways with your group and make sure both methods of computation make sense. The second one is kind of tricky! (And for the first one, you might want to investigate what the function `n()` does -- try `?n`.)\n",
    "2. Discuss the search rate findings. Are some race groups searched more often than other race groups, relative to their share of stopped drivers?\n",
    "\n",
    "NOTE: Since we're not comparing to population numbers, we can return to using our full dataset, with all years!"
   ]
  },
  {
   "cell_type": "code",
   "execution_count": 145,
   "metadata": {},
   "outputs": [
    {
     "data": {
      "text/html": [
       "<table>\n",
       "<thead><tr><th scope=col>race</th><th scope=col>n_searched</th><th scope=col>n_stopped</th><th scope=col>search_rate</th></tr></thead>\n",
       "<tbody>\n",
       "\t<tr><td>asian/pacific islander</td><td> 2860                 </td><td>157602                </td><td>0.0181                </td></tr>\n",
       "\t<tr><td>black                 </td><td>23615                 </td><td>152101                </td><td>0.1553                </td></tr>\n",
       "\t<tr><td>hispanic              </td><td>11444                 </td><td>115942                </td><td>0.0987                </td></tr>\n",
       "\t<tr><td>other                 </td><td> 3740                 </td><td>106645                </td><td>0.0351                </td></tr>\n",
       "\t<tr><td>white                 </td><td>11701                 </td><td>372071                </td><td>0.0314                </td></tr>\n",
       "</tbody>\n",
       "</table>\n"
      ],
      "text/latex": [
       "\\begin{tabular}{r|llll}\n",
       " race & n\\_searched & n\\_stopped & search\\_rate\\\\\n",
       "\\hline\n",
       "\t asian/pacific islander &  2860                  & 157602                 & 0.0181                \\\\\n",
       "\t black                  & 23615                  & 152101                 & 0.1553                \\\\\n",
       "\t hispanic               & 11444                  & 115942                 & 0.0987                \\\\\n",
       "\t other                  &  3740                  & 106645                 & 0.0351                \\\\\n",
       "\t white                  & 11701                  & 372071                 & 0.0314                \\\\\n",
       "\\end{tabular}\n"
      ],
      "text/plain": [
       "  race                   n_searched n_stopped search_rate\n",
       "1 asian/pacific islander  2860      157602    0.0181     \n",
       "2 black                  23615      152101    0.1553     \n",
       "3 hispanic               11444      115942    0.0987     \n",
       "4 other                   3740      106645    0.0351     \n",
       "5 white                  11701      372071    0.0314     "
      ]
     },
     "metadata": {},
     "output_type": "display_data"
    }
   ],
   "source": [
    "# Search rates, METHOD 1\n",
    "stops %>%\n",
    "    group_by(race) %>%\n",
    "    summarize(\n",
    "        n_searched = sum(searched),\n",
    "        n_stopped = n(),\n",
    "        search_rate = n_searched / n_stopped\n",
    "    )"
   ]
  },
  {
   "cell_type": "code",
   "execution_count": 154,
   "metadata": {},
   "outputs": [
    {
     "data": {
      "text/html": [
       "<table>\n",
       "<thead><tr><th scope=col>race</th><th scope=col>search_rate</th></tr></thead>\n",
       "<tbody>\n",
       "\t<tr><td>asian/pacific islander</td><td>0.0181                </td></tr>\n",
       "\t<tr><td>black                 </td><td>0.1553                </td></tr>\n",
       "\t<tr><td>hispanic              </td><td>0.0987                </td></tr>\n",
       "\t<tr><td>other                 </td><td>0.0351                </td></tr>\n",
       "\t<tr><td>white                 </td><td>0.0314                </td></tr>\n",
       "</tbody>\n",
       "</table>\n"
      ],
      "text/latex": [
       "\\begin{tabular}{r|ll}\n",
       " race & search\\_rate\\\\\n",
       "\\hline\n",
       "\t asian/pacific islander & 0.0181                \\\\\n",
       "\t black                  & 0.1553                \\\\\n",
       "\t hispanic               & 0.0987                \\\\\n",
       "\t other                  & 0.0351                \\\\\n",
       "\t white                  & 0.0314                \\\\\n",
       "\\end{tabular}\n"
      ],
      "text/plain": [
       "  race                   search_rate\n",
       "1 asian/pacific islander 0.0181     \n",
       "2 black                  0.1553     \n",
       "3 hispanic               0.0987     \n",
       "4 other                  0.0351     \n",
       "5 white                  0.0314     "
      ]
     },
     "metadata": {},
     "output_type": "display_data"
    }
   ],
   "source": [
    "# Search rates, METHOD 2\n",
    "stops %>%\n",
    "    group_by(race) %>%\n",
    "    summarize(\n",
    "        search_rate = mean(searched)\n",
    "    )"
   ]
  },
  {
   "cell_type": "markdown",
   "metadata": {},
   "source": [
    "Search rates are slightly less suspect than stop rates, since among the stopped \n",
    "population, it's more reasonable to believe that people of different races\n",
    "offend at equal rates. In the context of searches, this means assuming that\n",
    "all races exhibit probable cause of possessing contraband at equal rates. One could claim that the stopped\n",
    "population isn't a good measure of the true racial distribution of probable\n",
    "cause. This is all to say that while benchmark stats (stop rates, search rates) are a good place to\n",
    "start, more investigation is required before we can draw any conclusions."
   ]
  },
  {
   "cell_type": "markdown",
   "metadata": {},
   "source": [
    "## Outcome test\n",
    "\n",
    "To circumvent the benchmarking problem, it's common to turn to the search \n",
    "decision, rather than the stop decision. This is because we have a notion of\n",
    "what a \"successful\" search is. The legal justification for performing a search\n",
    "is probable cause that the driver possesses contraband. So a successful search\n",
    "is one which uncovers contraband.\n",
    "\n",
    "We thus turn to rates of successful searches. That is, what proportion of\n",
    "searches, by race, were successful? This proportion is known as the contraband\n",
    "recovery rate, or the \"hit rate.\" If racial groups have different hit rates, it\n",
    "can imply that racial groups are being subjected to different standards.\n",
    "\n",
    "As a caricatured example, suppose among white drivers who were searched, \n",
    "officers found contraband 99% of the time, while among black drivers who were\n",
    "searched, officers found contraband only 1% of the time. This would lead us to\n",
    "believe that officers made sure they were _certain_ white individuals had\n",
    "contraband before deciding to search, but that they were searching black \n",
    "individuals on a whiff of evidence.\n",
    "\n",
    "Let's investigate hit rates by race in SF in 2015."
   ]
  },
  {
   "cell_type": "markdown",
   "metadata": {},
   "source": [
    "## Exercise 4: Hit rates\n",
    "\n",
    "1. Filter to drivers who were searched, and then compute the hit rate (rate of contraband recovery) by race. Remember your `group_by()` and `summarize()` functions!\n",
    "\n",
    "2. Discuss your findings. "
   ]
  },
  {
   "cell_type": "code",
   "execution_count": 109,
   "metadata": {},
   "outputs": [],
   "source": [
    "## YOUR CODE HERE"
   ]
  },
  {
   "cell_type": "markdown",
   "metadata": {},
   "source": [
    "However, what if hit rates vary by police district? If the bar for stopping\n",
    "people, irrespective of race, is lower in certain police districts, and black\n",
    "individuals are more likely to live in neighborhoods in those districts, then\n",
    "the observed disparities may not reflect bias."
   ]
  },
  {
   "cell_type": "markdown",
   "metadata": {},
   "source": [
    "Let's compute hit rates by race _and_ district. We can do this simply by adding multiple arguments to the `group_by()` function."
   ]
  },
  {
   "cell_type": "code",
   "execution_count": 163,
   "metadata": {},
   "outputs": [
    {
     "data": {
      "text/html": [
       "50"
      ],
      "text/latex": [
       "50"
      ],
      "text/markdown": [
       "50"
      ],
      "text/plain": [
       "[1] 50"
      ]
     },
     "metadata": {},
     "output_type": "display_data"
    }
   ],
   "source": [
    "hit_rates <- \n",
    "  stops %>% \n",
    "  filter(searched) %>% \n",
    "  group_by(race, district) %>% \n",
    "  summarize(hit_rate = mean(contraband_found))\n",
    "\n",
    "hit_rates %>% nrow()"
   ]
  },
  {
   "cell_type": "markdown",
   "metadata": {},
   "source": [
    "This is too many hit rates to compare in one table!"
   ]
  },
  {
   "cell_type": "markdown",
   "metadata": {},
   "source": [
    "## Exercise 5: Visualization brainstorm\n",
    "\n",
    "Sketch out using pen and paper how you might try to use visualizations to help us synthesize the 50 hit rates above. Start with the question we're trying to answer (Are hit rates for minority drivers lower than hit rates for white drivers?) -- and then think about what type of plot might best help you answer that question. See if you can come up with at least 3 different sketches!"
   ]
  },
  {
   "cell_type": "markdown",
   "metadata": {},
   "source": [
    "## One way to visualize: scatterplots"
   ]
  },
  {
   "cell_type": "code",
   "execution_count": 164,
   "metadata": {},
   "outputs": [
    {
     "data": {},
     "metadata": {},
     "output_type": "display_data"
    },
    {
     "data": {
      "image/png": "[encoded data removed]",
      "text/plain": [
       "plot without title"
      ]
     },
     "metadata": {},
     "output_type": "display_data",
     "source": "R display func"
    }
   ],
   "source": [
    "# Reshape table to show hit rates of minorities vs white drivers\n",
    "reshaped_hit_rates <-\n",
    "  hit_rates %>% \n",
    "  spread(race, hit_rate, fill = 0) %>% \n",
    "  rename(white_hit_rate = white) %>% \n",
    "  gather(\n",
    "      minority_race, minority_hit_rate, \n",
    "      c(black, hispanic, `asian/pacific islander`, other)\n",
    "  ) %>%\n",
    "  arrange(district)\n",
    "\n",
    "# We'll use this just to make our axes' limits nice and even\n",
    "max_hit_rate <-\n",
    "  reshaped_hit_rates %>% \n",
    "  select(ends_with(\"hit_rate\")) %>% \n",
    "  max()\n",
    "\n",
    "# Get corresponding number of searches (to size points).\n",
    "# Again, for each district we want to know the number of white+black searches\n",
    "# and white+Hispanic searches. This requires the same spreading and gathering\n",
    "# as our previous data-munging.\n",
    "search_counts <-\n",
    "  stops %>% \n",
    "  filter(searched) %>%  \n",
    "  count(district, race) %>% \n",
    "  spread(race, n, fill = 0) %>% \n",
    "  rename(num_white_searches = white) %>% \n",
    "  gather(\n",
    "      minority_race, num_minority_searches, \n",
    "      c(black, hispanic, `asian/pacific islander`, other)\n",
    "  ) %>% \n",
    "  mutate(num_searches = num_minority_searches + num_white_searches) %>% \n",
    "  select(district, minority_race, num_searches)\n",
    "\n",
    "# Now let's plot!\n",
    "reshaped_hit_rates %>% \n",
    "  left_join(\n",
    "    search_counts, \n",
    "    by = c(\"district\", \"minority_race\")\n",
    "  ) %>% \n",
    "  ggplot(aes(\n",
    "    x = white_hit_rate,\n",
    "    y = minority_hit_rate\n",
    "  )) +\n",
    "  geom_point(aes(size = num_searches), pch = 21) +\n",
    "  geom_abline(slope = 1, intercept = 0, linetype = \"dashed\") +\n",
    "  scale_x_continuous(\"White hit rate\", \n",
    "    limits = c(0, max_hit_rate + 0.01),\n",
    "    labels = scales::percent_format(accuracy = 1)\n",
    "  ) +\n",
    "  scale_y_continuous(\"Minority hit rate\", \n",
    "    limits = c(0, max_hit_rate + 0.01),\n",
    "    labels = scales::percent_format(accuracy = 1)\n",
    "  ) +\n",
    "  coord_fixed() +\n",
    "  facet_wrap(vars(minority_race))"
   ]
  },
  {
   "cell_type": "markdown",
   "metadata": {},
   "source": [
    "## Exercise 6: Plot interpretation\n",
    "\n",
    "Explain what you see above. What does each point represent? What does the dotted line represent? What do these plots tell us about discrimination in search practices?"
   ]
  },
  {
   "cell_type": "code",
   "execution_count": null,
   "metadata": {},
   "outputs": [],
   "source": []
  }
 ],
 "metadata": {
  "kernelspec": {
   "display_name": "R",
   "language": "R",
   "name": "ir"
  },
  "language_info": {
   "codemirror_mode": "r",
   "file_extension": ".r",
   "mimetype": "text/x-r-source",
   "name": "R",
   "pygments_lexer": "r",
   "version": "3.4.4"
  }
 },
 "nbformat": 4,
 "nbformat_minor": 2
}
