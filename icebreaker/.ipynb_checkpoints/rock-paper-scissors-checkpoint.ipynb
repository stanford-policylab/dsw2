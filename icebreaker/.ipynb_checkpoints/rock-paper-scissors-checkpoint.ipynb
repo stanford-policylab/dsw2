{
 "cells": [
  {
   "cell_type": "markdown",
   "metadata": {},
   "source": [
    "# Rock, paper, scissors!\n",
    "\n",
    "<img src=\"rps-bot.jpg\" width=400>"
   ]
  },
  {
   "cell_type": "code",
   "execution_count": null,
   "metadata": {},
   "outputs": [],
   "source": [
    "students <-\n",
    "  c(\"Emmanuel\",\n",
    "    \"Grace\",\n",
    "    \"Ivan\",\n",
    "    \"Luis\",\n",
    "    \"Heaven\",\n",
    "    \"Sage\",\n",
    "    \"Maria\",\n",
    "    \"Miriam\",\n",
    "    \"Brianna\",\n",
    "    \"Jesus\",\n",
    "    \"Juan\",\n",
    "    \"Annie\",\n",
    "    \"Tram\",\n",
    "    \"Gisselle\",\n",
    "    \"Vivian\",\n",
    "    \"Laila\")\n",
    "\n",
    "(first_round <- sample(students))"
   ]
  },
  {
   "cell_type": "code",
   "execution_count": null,
   "metadata": {},
   "outputs": [],
   "source": [
    "dput(first_round)"
   ]
  },
  {
   "cell_type": "code",
   "execution_count": null,
   "metadata": {},
   "outputs": [],
   "source": [
    "second_round <- \n",
    "\n",
    "sample(second_round)"
   ]
  },
  {
   "cell_type": "code",
   "execution_count": null,
   "metadata": {},
   "outputs": [],
   "source": [
    "dput(second_round)"
   ]
  },
  {
   "cell_type": "code",
   "execution_count": null,
   "metadata": {},
   "outputs": [],
   "source": [
    "third_round <- \n",
    "\n",
    "sample(third_round)"
   ]
  },
  {
   "cell_type": "code",
   "execution_count": 29,
   "metadata": {},
   "outputs": [],
   "source": [
    "rps <- function(move){\n",
    "    options <- c(\"rock\", \"paper\", \"scissors\")\n",
    "    \n",
    "    comp.move <- sample(options, size = 1)\n",
    "    \n",
    "    if (move == comp.move) {\n",
    "        names(comp.move) <- \"tie\"\n",
    "    }\n",
    "    else if (move == \"rock\" & comp.move == \"scissors\"){\n",
    "        names(comp.move) <- \"loss\"\n",
    "    }\n",
    "    else if (move == \"rock\" & comp.move == \"paper\"){\n",
    "        names(comp.move) <- \"win\"\n",
    "    }\n",
    "    else if (move == \"paper\" & comp.move == \"scissors\"){\n",
    "        names(comp.move) <- \"win\"\n",
    "    }\n",
    "    else if (move == \"paper\" & comp.move == \"rock\"){\n",
    "        names(comp.move) <- \"loss\"\n",
    "    }\n",
    "    else if (move == \"scissors\" & comp.move == \"rock\"){\n",
    "        names(comp.move) <- \"win\"\n",
    "    }\n",
    "    else if (move == \"scissors\" & comp.move == \"paper\"){\n",
    "        names(comp.move) <- \"loss\"\n",
    "    }\n",
    "    comp.move\n",
    "}"
   ]
  },
  {
   "cell_type": "code",
   "execution_count": null,
   "metadata": {},
   "outputs": [],
   "source": [
    "# Enter \"rock\", \"paper\", or \"scissors\", then press SHIFT and ENTER\n",
    "\n",
    "rps(\"scissors\")"
   ]
  },
  {
   "cell_type": "code",
   "execution_count": null,
   "metadata": {},
   "outputs": [],
   "source": [
    "# \"win\", \"loss\", or \"tie\"\n",
    "\n",
    "results <-\n",
    "    c(1 = ,\n",
    "      2 = ,\n",
    "      3 = ,\n",
    "      4 = ,\n",
    "      5 = ,\n",
    "      6 = ,\n",
    "      7 = ,\n",
    "      8 = ,\n",
    "      9 = )\n",
    "\n",
    "table(results)"
   ]
  }
 ],
 "metadata": {
  "kernelspec": {
   "display_name": "R",
   "language": "R",
   "name": "ir"
  },
  "language_info": {
   "codemirror_mode": "r",
   "file_extension": ".r",
   "mimetype": "text/x-r-source",
   "name": "R",
   "pygments_lexer": "r",
   "version": "3.5.1"
  }
 },
 "nbformat": 4,
 "nbformat_minor": 2
}
